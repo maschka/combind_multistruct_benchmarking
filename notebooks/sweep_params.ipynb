{
 "cells": [
  {
   "cell_type": "code",
   "execution_count": 1,
   "metadata": {
    "collapsed": false
   },
   "outputs": [],
   "source": [
    "import os\n",
    "import sys\n",
    "\n",
    "import numpy as np\n",
    "\n",
    "import matplotlib\n",
    "matplotlib.use('Agg')\n",
    "from matplotlib import pyplot as plt\n",
    "import matplotlib.cm as cm\n",
    "from matplotlib import gridspec\n",
    "\n",
    "get_ipython().magic(u'matplotlib inline')\n",
    "\n",
    "sys.path.append('../4_analyze')\n",
    "from containers import Dataset\n",
    "from score_query import ScoreQuery\n",
    "from utils import export, show_side_by_side, load_score_file\n",
    "\n",
    "sys.path.append('../3_score')\n",
    "from optimize import Scores\n",
    "\n",
    "sys.path.append('../1_dock')\n",
    "from parse_chembl import load_chembl"
   ]
  },
  {
   "cell_type": "code",
   "execution_count": 2,
   "metadata": {
    "collapsed": false
   },
   "outputs": [],
   "source": [
    "data = '/scratch/PI/rondror/jbelk'\n",
    "\n",
    "dock_st = {'B1AR':'2VT4','AR_final':'3B67','TRPV1':'3J5Q'} \n",
    "all_ligs = {p:sorted([l.split('.')[0] for l in os.listdir('{}/{}/unique_ligands'.format(data, p))\n",
    "               if l != st+'_lig.mae']) for p,st in dock_st.items()}\n",
    "\n",
    "glide_dir = 'glide12'\n",
    "cross = True\n",
    "ifp_dir = 'ifp/ifp13'\n",
    "\n",
    "chembl_dir = '/scratch/PI/rondror/jbelk/CHEMBL'"
   ]
  },
  {
   "cell_type": "code",
   "execution_count": 3,
   "metadata": {
    "collapsed": false
   },
   "outputs": [],
   "source": [
    "d = Dataset(dock_st.keys(), data, dock_st, chembl_dir)\n",
    "d.load_docking(glide_dir, ifp_dir, cross)"
   ]
  },
  {
   "cell_type": "code",
   "execution_count": null,
   "metadata": {
    "collapsed": false,
    "scrolled": false
   },
   "outputs": [],
   "source": [
    "max_n_lig = 20\n",
    "\n",
    "all_rmsd1 = {}\n",
    "all_rmsd2 = {}\n",
    "for n in range(max_n_lig + 1):\n",
    "    all_rmsd1[n] = []\n",
    "    all_rmsd2[n] = []\n",
    "    for prot, st in dock_st.items():\n",
    "        lig_objs = d.all_proteins[prot].docking[(glide_dir, cross)].ligands\n",
    "        for l in all_ligs[prot]:\n",
    "            #if l != '5IRX_lig':continue\n",
    "                \n",
    "            #fname1 = 'scores4/{}/5-0-{}-1.txt'.format(l, n)\n",
    "            fname1 = 'scores3/{}/0-0-{}-1.txt'.format(l, n)\n",
    "            fpath1 = '{}/{}/{}'.format(data, prot, fname1)\n",
    "\n",
    "            sq1 = load_score_file(fpath1, lig_objs)\n",
    "            pose_ranks1 = sorted(sq1.pose_scores.keys(),key=lambda x:-sq1.pose_scores[x])\n",
    "            us_rmsd1 = sq1.all_lig[l].poses[pose_ranks1[0]].rmsd\n",
    "            all_rmsd1[n].append(us_rmsd1)\n",
    "\n",
    "            #print fname1, pose_ranks1[0]\n",
    "            #print round(sq1.pose_scores[0],2), round(sq1.pose_scores[1],2)\n",
    "\n",
    "            fname2 = 'scores5/{}/5-0-{}-1.txt'.format(l, n)\n",
    "            fpath2 = '{}/{}/{}'.format(data, prot, fname2)\n",
    "\n",
    "            sq2 = load_score_file(fpath2, lig_objs)\n",
    "            pose_ranks2 = sorted(sq2.pose_scores.keys(),key=lambda x:-sq2.pose_scores[x])\n",
    "            us_rmsd2 = sq2.all_lig[l].poses[pose_ranks2[0]].rmsd\n",
    "            all_rmsd2[n].append(us_rmsd2)\n",
    "\n",
    "            for i in sq1.w:\n",
    "                assert sq1.w[i] == sq2.w.get(i,0), i\n",
    "            #assert sq1.w == sq2.w\n",
    "            assert sq1.d_const == sq2.d_const\n",
    "            assert sq1.l_q == sq2.l_q\n",
    "\n",
    "            if pose_ranks1[0] != pose_ranks2[0]:\n",
    "                print prot, l, n, pose_ranks1[0], pose_ranks2[0]\n",
    "                print sq1.pose_scores[pose_ranks1[0]] - sq2.pose_scores[pose_ranks2[0]]\n",
    "                \n",
    "plt.plot(range(max_n_lig + 1), [np.mean(all_rmsd1[n]) for n in range(max_n_lig + 1)])\n",
    "plt.title(fname1)\n",
    "plt.show()\n",
    "plt.plot(range(max_n_lig + 1), [np.mean(all_rmsd2[n]) for n in range(max_n_lig + 1)])\n",
    "plt.title(fname2)\n",
    "plt.show()"
   ]
  },
  {
   "cell_type": "code",
   "execution_count": null,
   "metadata": {
    "collapsed": false,
    "scrolled": false
   },
   "outputs": [],
   "source": [
    "out_dir='scores3'\n",
    "all_lam = [i/10.0 for i in range(1,11)]\n",
    "all_w10 = [i/100.0 for i in range(6)]\n",
    "all_n = [i for i in range(21)]\n",
    "all_w56 = [(0,0),(0,1),(1,0)]\n",
    "\n",
    "#out_dir='scores5'\n",
    "#all_lam = [i/100.0 for i in range(5,16)]\n",
    "#all_w10 = [i/200.0 for i in range(4)]\n",
    "#all_n = [i for i in range(26)]\n",
    "#all_w56 = [(0,0),(0,1),(1,0)]\n",
    "\n",
    "for x in enumerate(all_lam):\n",
    "    #if x[0] != 5: continue\n",
    "    for y in enumerate(all_w10):\n",
    "        if y[0] != 1: continue\n",
    "        for m in enumerate(all_w56):\n",
    "            if m[0] != 0: continue\n",
    "\n",
    "            all_rmsd = {}\n",
    "            all_rmsd2 = {}\n",
    "            for z in enumerate(all_n):\n",
    "                all_rmsd[z[0]] = []\n",
    "                all_rmsd2[z[0]] = []\n",
    "                f_name = '{}-{}-{}-{}.txt'.format(x[0], y[0], z[0], m[0])\n",
    "                for prot, st in dock_st.items():\n",
    "                    lig_objs = d.all_proteins[prot].docking[(glide_dir, cross)].ligands\n",
    "                    for l in all_ligs[prot]:\n",
    "                        f_path = '{}/{}/scores5/{}/{}'.format(data, prot, l, f_name)\n",
    "                        sq = load_score_file(f_path, lig_objs)\n",
    "                        pose_ranks = sorted(sq.pose_scores.keys(),key=lambda x:-sq.pose_scores[x])\n",
    "                        us_rmsd = sq.all_lig[l].poses[pose_ranks[0]].rmsd\n",
    "                        all_rmsd[z[0]].append(us_rmsd)\n",
    "                        \n",
    "                        #f_path2 = '{}/{}/scores4/{}/{}'.format(data, prot, l, f_name)\n",
    "                        #sq2 = load_score_file(f_path2, lig_objs)\n",
    "                        #pose_ranks2 = sorted(sq2.pose_scores.keys(),key=lambda x:-sq2.pose_scores[x])\n",
    "                        #us_rmsd2 = sq2.all_lig[l].poses[pose_ranks2[0]].rmsd\n",
    "                        #all_rmsd2[z[0]].append(us_rmsd2)\n",
    "                        \n",
    "                        #if sq.pose_scores[pose_ranks[0]] != sq2.pose_scores[pose_ranks2[0]]:\n",
    "                        #    print prot, l, z[0], pose_ranks[0], pose_ranks2[0]\n",
    "                        #    print sq.pose_scores[pose_ranks[0]] - sq2.pose_scores[pose_ranks2[0]]\n",
    "                        #    assert sq.objective(sq2.pose_neighbors[pose_ranks2[0]]) == sq2.pose_scores[pose_ranks2[0]]\n",
    "                        \n",
    "            plt.plot(all_n, [np.mean(all_rmsd[n]) for n in all_n])\n",
    "            plt.title('scores5 {}'.format(f_name))\n",
    "            plt.show()\n",
    "            #plt.plot(all_n, [np.mean(all_rmsd2[n]) for n in all_n])\n",
    "            #plt.title('scores4 {}'.format(f_name))\n",
    "            #plt.show()"
   ]
  },
  {
   "cell_type": "code",
   "execution_count": null,
   "metadata": {
    "collapsed": true
   },
   "outputs": [],
   "source": []
  }
 ],
 "metadata": {
  "kernelspec": {
   "display_name": "Python 2",
   "language": "python",
   "name": "python2"
  },
  "language_info": {
   "codemirror_mode": {
    "name": "ipython",
    "version": 2
   },
   "file_extension": ".py",
   "mimetype": "text/x-python",
   "name": "python",
   "nbconvert_exporter": "python",
   "pygments_lexer": "ipython2",
   "version": "2.7.11"
  }
 },
 "nbformat": 4,
 "nbformat_minor": 0
}
