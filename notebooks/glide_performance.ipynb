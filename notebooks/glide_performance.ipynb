{
 "cells": [
  {
   "cell_type": "code",
   "execution_count": 1,
   "metadata": {},
   "outputs": [
    {
     "name": "stderr",
     "output_type": "stream",
     "text": [
      "/Users/jpaggi/schrodinger.ve/lib/python3.6/site-packages/pandas/compat/__init__.py:117: UserWarning: Could not import the lzma module. Your installed Python is incomplete. Attempting to use lzma compression will result in a RuntimeError.\n",
      "  warnings.warn(msg)\n"
     ]
    }
   ],
   "source": [
    "import sys\n",
    "sys.path.append('../')\n",
    "from containers import Protein\n",
    "import config\n",
    "import utils\n",
    "\n",
    "import pandas as pd\n",
    "import matplotlib.pyplot as plt\n",
    "\n",
    "%matplotlib inline"
   ]
  },
  {
   "cell_type": "code",
   "execution_count": 2,
   "metadata": {},
   "outputs": [],
   "source": [
    "def make_df(version, exclude=['P19491', 'Q05586-Q12879', 'P22756']):\n",
    "    paths = {'CODE': '../',\n",
    "             'DATA': '/Users/jpaggi/sherlock/oak/users/jpaggi/combind',\n",
    "             'PDB': '{ROOT}/structures/pdb.csv'}\n",
    "\n",
    "    paths.update(config.PATHS)\n",
    "    paths = utils.resolve(paths)\n",
    "\n",
    "    proteins, ligands, top_rmsds, best_rmsds = [], [], [], []\n",
    "    for name in utils.get_proteins(paths, exclude):\n",
    "        protein = Protein(name, config.STATS[version], paths)\n",
    "        _ligands = protein.lm.get_pdb()\n",
    "        protein.load_docking(protein.lm.docked(_ligands))\n",
    "        for ligand in _ligands:\n",
    "            proteins += [name]\n",
    "            ligands += [ligand]\n",
    "            if protein.lm.docked([ligand]):\n",
    "                top_rmsds += [protein.docking[ligand].poses[0].rmsd]\n",
    "                best_rmsds += [min(pose.rmsd for pose in protein.docking[ligand].poses[:100])]\n",
    "            else:\n",
    "                top_rmsds += [float('inf')]\n",
    "                best_rmsds += [float('inf')]\n",
    "\n",
    "    df = pd.DataFrame(zip(proteins, ligands, top_rmsds, best_rmsds),\n",
    "                      columns=['protein', 'ligand', 'top_rmsd', 'best_rmsd'])\n",
    "    df = df.set_index(['protein', 'ligand']).sort_index()\n",
    "    return df"
   ]
  },
  {
   "cell_type": "code",
   "execution_count": 3,
   "metadata": {},
   "outputs": [
    {
     "data": {
      "text/plain": [
       "(top_rmsd     0.783422\n",
       " best_rmsd    0.783422\n",
       " dtype: float64, (374, 2))"
      ]
     },
     "execution_count": 3,
     "metadata": {},
     "output_type": "execute_result"
    }
   ],
   "source": [
    "core = make_df('rd1_core')\n",
    "(core < 2.05).mean(), core.shape"
   ]
  },
  {
   "cell_type": "code",
   "execution_count": 4,
   "metadata": {},
   "outputs": [
    {
     "data": {
      "text/plain": [
       "(top_rmsd     0.502674\n",
       " best_rmsd    0.788770\n",
       " dtype: float64, (374, 2))"
      ]
     },
     "execution_count": 4,
     "metadata": {},
     "output_type": "execute_result"
    }
   ],
   "source": [
    "paper = make_df('paper')\n",
    "(paper < 2.05).mean(), paper.shape"
   ]
  },
  {
   "cell_type": "code",
   "execution_count": 5,
   "metadata": {},
   "outputs": [
    {
     "data": {
      "text/plain": [
       "(top_rmsd     0.510695\n",
       " best_rmsd    0.764706\n",
       " dtype: float64, (374, 2))"
      ]
     },
     "execution_count": 5,
     "metadata": {},
     "output_type": "execute_result"
    }
   ],
   "source": [
    "es4 = make_df('rd1')\n",
    "(es4 < 2.05).mean(), es4.shape"
   ]
  },
  {
   "cell_type": "code",
   "execution_count": null,
   "metadata": {},
   "outputs": [],
   "source": []
  }
 ],
 "metadata": {
  "kernelspec": {
   "display_name": "Python 3",
   "language": "python",
   "name": "python3"
  },
  "language_info": {
   "codemirror_mode": {
    "name": "ipython",
    "version": 3
   },
   "file_extension": ".py",
   "mimetype": "text/x-python",
   "name": "python",
   "nbconvert_exporter": "python",
   "pygments_lexer": "ipython3",
   "version": "3.6.2"
  }
 },
 "nbformat": 4,
 "nbformat_minor": 4
}
