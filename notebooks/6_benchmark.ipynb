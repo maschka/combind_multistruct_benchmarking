{
 "cells": [
  {
   "cell_type": "code",
   "execution_count": 1,
   "metadata": {
    "collapsed": false
   },
   "outputs": [],
   "source": [
    "import os\n",
    "import sys\n",
    "\n",
    "import numpy as np\n",
    "import warnings\n",
    "warnings.simplefilter(action='ignore', category=FutureWarning)\n",
    "\n",
    "import matplotlib\n",
    "matplotlib.use('Agg')\n",
    "from matplotlib import pyplot as plt\n",
    "import matplotlib.cm as cm\n",
    "from matplotlib import gridspec\n",
    "\n",
    "get_ipython().magic(u'matplotlib inline')\n",
    "\n",
    "sys.path.append('../3_analyze')\n",
    "from containers import Dataset\n",
    "from utils import export, show_side_by_side, show_features\n",
    "from statistics import Statistics\n",
    "from prob_opt import PredictStructs"
   ]
  },
  {
   "cell_type": "code",
   "execution_count": 2,
   "metadata": {
    "collapsed": false
   },
   "outputs": [],
   "source": [
    "class ScoreContainer:\n",
    "    def __init__(self, data_dir, out_dir, prots):\n",
    "        self.data_dir = data_dir\n",
    "        self.out_dir = out_dir\n",
    "        self.prots = prots\n",
    "        \n",
    "        sys.path.append('{}/{}/{}'.format(data_dir, prots[0], out_dir))\n",
    "        import settings\n",
    "        \n",
    "        self.stats_data = Dataset(settings.stats_prots, settings.struct_dict, \n",
    "                                  data_dir, settings.glide_dir, settings.ifp_dir, settings.mcss_dir)\n",
    "        self.stats_data.load({p:prot.lm.get_pdb() for p,prot in self.stats_data.proteins.items()})\n",
    "\n",
    "        self.stats = Statistics(self.stats_data, settings.stats_prots, \n",
    "                                settings.num_stats_ligs, settings.num_stats_poses, \n",
    "                                settings.features, settings.smooth)\n",
    "        \n",
    "        self.predict_data = Dataset(prots, settings.struct_dict, \n",
    "                                    data_dir, settings.glide_dir, settings.ifp_dir, settings.mcss_dir)\n",
    "        self.ps = {}\n",
    "        for p in prots:\n",
    "            self.ps[p] = PredictStructs(self.predict_data.proteins[p].docking, self.stats.evidence, \n",
    "                                        settings.features, settings.num_poses, settings.t)\n",
    "        \n",
    "        self.results = self.load_results()\n",
    "        \n",
    "    def load_results(self):\n",
    "        results = {}\n",
    "        for p in self.prots:\n",
    "            results[p] = {}\n",
    "            out_path = '{}/{}/{}'.format(self.data_dir, p, self.out_dir)\n",
    "            for f in sorted(os.listdir(out_path)):\n",
    "                if f.split('.')[-1] != 'out' or f[0] == '.': continue\n",
    "                q = f.split('.')[0]\n",
    "                results[p][q] = {}\n",
    "                #self.predict_data.load({p:[q]})\n",
    "                with open('{}/{}'.format(out_path, f)) as outf:\n",
    "                    for line in outf:\n",
    "                        line = line.strip().split(',')\n",
    "                        if len(line) != 2: continue\n",
    "                        if line[0] == 'max_score':\n",
    "                            self.predict_data.load({p:results[p][q].keys()})\n",
    "                            best_cluster = {l:p for l,p in results[p][q].items() if l != q}\n",
    "                            check_sc = self.ps[p].joint_posterior(best_cluster)[0]\n",
    "                            if abs(check_sc - float(line[1])) > 0.0001:\n",
    "                                print q, check_sc, float(line[1])\n",
    "                            continue\n",
    "                        try:\n",
    "                            results[p][q][line[0]] = int(line[1])\n",
    "                        except:\n",
    "                            #errors.add(q)\n",
    "                            print f\n",
    "                            print line\n",
    "\n",
    "        return results\n",
    "    \n",
    "    def get_rmsd(self, p, q, l, glide=False):\n",
    "        if glide:\n",
    "            return self.predict_data.proteins[p].docking.ligands[l].poses[0].rmsd\n",
    "        return self.predict_data.proteins[p].docking.ligands[l].poses[self.results[p][q][l]].rmsd\n",
    "    \n",
    "    def show_fps(self, p, q, num_i=10, size=2):\n",
    "        self.predict_data.assign_weights({2:1,3:1,4:1,6:1,11:0.005})\n",
    "        l_list = [q]+sorted([l for l in self.results[p][q] if l!=q])\n",
    "        us_top = self.ps[p].ligset.get_poses(self.results[p][q])\n",
    "        glide_top = self.ps[p].ligset.get_poses({l:0 for l in l_list})\n",
    "        show_side_by_side(us_top, glide_top, l_list, \n",
    "                          t1='Our Top Poses', t2='Glide Top Poses', num_i=num_i, size=size)\n",
    "        \n",
    "    def show_feature(self, p, q, f_name, show_prob=True, show_x=False, size=2):\n",
    "        k,kdef = f_name, self.stats.features[f_name]\n",
    "        l_list = [q]+sorted([l for l in self.results[p][q] if l!=q])\n",
    "        \n",
    "        x1, log_p1 = self.ps[p].x(self.results[p][q],k,kdef,lig_order=l_list)\n",
    "        x2, log_p2 = self.ps[p].x({l:0 for l in l_list},k,kdef,lig_order=l_list)\n",
    "        \n",
    "        us_top = self.ps[p].ligset.get_poses(self.results[p][q])\n",
    "        glide_top = self.ps[p].ligset.get_poses({l:0 for l in l_list})\n",
    "        \n",
    "        if show_prob and np.sum(log_p1) != 0:\n",
    "            print k, 'probability matrix'\n",
    "            minval = min(np.min(log_p1[np.nonzero(log_p1)]),np.min(log_p2[np.nonzero(log_p2)]))\n",
    "            maxval = max(np.max(log_p1[np.nonzero(log_p1)]),np.max(log_p2[np.nonzero(log_p2)]))\n",
    "\n",
    "            show_features(us_top, log_p1, glide_top, log_p2, l_list, \n",
    "                          'us top','glide top',size=size, mi=minval,ma=maxval)\n",
    "\n",
    "        if show_x:\n",
    "            print k, 'x_k matrix'\n",
    "            minval = min(np.min(x1),np.min(x2))\n",
    "            maxval = max(np.max(x1),np.max(x2))\n",
    "\n",
    "            show_features(us_top, x1, glide_top, x2, l_list, \n",
    "                          'us top','glide top',size=size,mi=minval,ma=maxval)\n",
    "            \n",
    "    def export_poses(self, p, q):\n",
    "        # this will show up in /scratch/PI/rondror/jbelk/method/outputs\n",
    "        us_top = self.ps[p].ligset.get_poses(self.results[p][q])\n",
    "        glide_top = self.ps[p].ligset.get_poses({l:0 for l in self.results[p][q]})\n",
    "        export(self.data_dir, us_top, '{}_us_apr'.format(q), p, \n",
    "               struct=settings.struct_dict[p], verbose=False, glide_dir=settings.glide_dir)\n",
    "        export(self.data_dir, glide_top, '{}_glide_apr'.format(q), p, \n",
    "               struct=settingsstruct_dict[p], verbose=False, glide_dir=settings.glide_dir)"
   ]
  },
  {
   "cell_type": "code",
   "execution_count": null,
   "metadata": {
    "collapsed": false
   },
   "outputs": [],
   "source": [
    "data_dir = '/scratch/PI/rondror/jbelk/method/data'\n",
    "\n",
    "out_dir = 'scores/test_pdb2'\n",
    "p = 'BRAF'\n",
    "\n",
    "sc = ScoreContainer(data_dir, out_dir, [p])"
   ]
  },
  {
   "cell_type": "code",
   "execution_count": null,
   "metadata": {
    "collapsed": false
   },
   "outputs": [],
   "source": [
    "print np.mean([sc.get_rmsd(p,q,q) for q in sc.results[p]])\n",
    "print np.mean([sc.get_rmsd(p,q,q,glide=True) for q in sc.results[p]])"
   ]
  },
  {
   "cell_type": "code",
   "execution_count": null,
   "metadata": {
    "collapsed": false,
    "scrolled": false
   },
   "outputs": [],
   "source": [
    "for q in sorted(sc.results[p].keys()):\n",
    "    query_rmsd = sc.get_rmsd(p,q,q)\n",
    "    helper_rmsds = [sc.get_rmsd(p,q,i) for i in sc.results[p][q] if i != q]\n",
    "    \n",
    "    glide_query_rmsd = sc.get_rmsd(p,q,q,glide=True)\n",
    "    glide_helper_rmsds = [sc.get_rmsd(p,q,i,glide=True) for i in sc.results[p][q] if i != q]\n",
    "    \n",
    "    if query_rmsd > 3:\n",
    "        print 'query:', q\n",
    "        print 'us:', query_rmsd, np.mean(helper_rmsds)\n",
    "        print 'glide:', glide_query_rmsd, np.mean(glide_helper_rmsds),'\\n'\n",
    "        sc.show_fps(p,q,size=1.2)\n",
    "        #for f in sc.stats.features:\n",
    "        #    sc.show_feature(p,q,f,size=1.5)\n"
   ]
  },
  {
   "cell_type": "code",
   "execution_count": null,
   "metadata": {
    "collapsed": false,
    "scrolled": false
   },
   "outputs": [],
   "source": [
    "for f_name in sc.stats.features.keys():\n",
    "    print f_name#, stats.evidence.std[f_name]\n",
    "    sc.stats.show_stats(f_name, raw=False, smoothed=True)\n",
    "    #stats.show_stats_by_pair(f_name, raw=False, smoothed=True)"
   ]
  },
  {
   "cell_type": "code",
   "execution_count": null,
   "metadata": {
    "collapsed": true
   },
   "outputs": [],
   "source": []
  }
 ],
 "metadata": {
  "kernelspec": {
   "display_name": "Python 2",
   "language": "python",
   "name": "python2"
  },
  "language_info": {
   "codemirror_mode": {
    "name": "ipython",
    "version": 2
   },
   "file_extension": ".py",
   "mimetype": "text/x-python",
   "name": "python",
   "nbconvert_exporter": "python",
   "pygments_lexer": "ipython2",
   "version": "2.7.11"
  }
 },
 "nbformat": 4,
 "nbformat_minor": 0
}
