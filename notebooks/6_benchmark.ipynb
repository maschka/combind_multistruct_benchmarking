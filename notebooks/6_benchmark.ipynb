{
 "cells": [
  {
   "cell_type": "code",
   "execution_count": null,
   "metadata": {
    "collapsed": false
   },
   "outputs": [],
   "source": [
    "import os\n",
    "import sys\n",
    "\n",
    "import numpy as np\n",
    "import warnings\n",
    "warnings.simplefilter(action='ignore', category=FutureWarning)\n",
    "\n",
    "import matplotlib\n",
    "matplotlib.use('Agg')\n",
    "from matplotlib import pyplot as plt\n",
    "import matplotlib.cm as cm\n",
    "from matplotlib import gridspec\n",
    "\n",
    "get_ipython().magic(u'matplotlib inline')\n",
    "\n",
    "sys.path.append('../4_score')\n",
    "from sc_containers import ScoreContainer"
   ]
  },
  {
   "cell_type": "code",
   "execution_count": null,
   "metadata": {
    "collapsed": false
   },
   "outputs": [],
   "source": [
    "data_dir = '/scratch/PI/rondror/jbelk/method/data'\n",
    "\n",
    "out_dir = 'scores/test'\n",
    "p = 'B1AR'\n",
    "\n",
    "sc = ScoreContainer(data_dir, out_dir, p, '2VT4')\n",
    "sc.load_results()"
   ]
  },
  {
   "cell_type": "code",
   "execution_count": null,
   "metadata": {
    "collapsed": false
   },
   "outputs": [],
   "source": [
    "print np.mean([sc.get_rmsd(q,q) for q in sc.results])\n",
    "print np.mean([sc.get_rmsd(q,q,glide=True) for q in sc.results])"
   ]
  },
  {
   "cell_type": "code",
   "execution_count": null,
   "metadata": {
    "collapsed": false,
    "scrolled": false
   },
   "outputs": [],
   "source": [
    "for q in sorted(sc.results[p].keys()):\n",
    "    query_rmsd = sc.get_rmsd(p,q,q)\n",
    "    helper_rmsds = [sc.get_rmsd(p,q,i) for i in sc.results[p][q] if i != q]\n",
    "    \n",
    "    glide_query_rmsd = sc.get_rmsd(p,q,q,glide=True)\n",
    "    glide_helper_rmsds = [sc.get_rmsd(p,q,i,glide=True) for i in sc.results[p][q] if i != q]\n",
    "    \n",
    "    if query_rmsd > 3:\n",
    "        print 'query:', q\n",
    "        print 'us:', query_rmsd, np.mean(helper_rmsds)\n",
    "        print 'glide:', glide_query_rmsd, np.mean(glide_helper_rmsds),'\\n'\n",
    "        sc.show_fps(p,q,size=1.2)\n",
    "        #for f in sc.stats.features:\n",
    "        #    sc.show_feature(p,q,f,size=1.5)\n"
   ]
  },
  {
   "cell_type": "code",
   "execution_count": null,
   "metadata": {
    "collapsed": false,
    "scrolled": false
   },
   "outputs": [],
   "source": [
    "for f_name in sc.stats.features.keys():\n",
    "    print f_name#, stats.evidence.std[f_name]\n",
    "    sc.stats.show_stats(f_name, raw=False, smoothed=True)\n",
    "    #stats.show_stats_by_pair(f_name, raw=False, smoothed=True)"
   ]
  },
  {
   "cell_type": "code",
   "execution_count": null,
   "metadata": {
    "collapsed": true
   },
   "outputs": [],
   "source": []
  }
 ],
 "metadata": {
  "kernelspec": {
   "display_name": "Python 2",
   "language": "python",
   "name": "python2"
  },
  "language_info": {
   "codemirror_mode": {
    "name": "ipython",
    "version": 2
   },
   "file_extension": ".py",
   "mimetype": "text/x-python",
   "name": "python",
   "nbconvert_exporter": "python",
   "pygments_lexer": "ipython2",
   "version": "2.7.11"
  }
 },
 "nbformat": 4,
 "nbformat_minor": 0
}
