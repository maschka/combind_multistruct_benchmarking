{
 "cells": [
  {
   "cell_type": "markdown",
   "metadata": {},
   "source": [
    "# Plot results for each the B1AR PDB ligand example."
   ]
  },
  {
   "cell_type": "code",
   "execution_count": 1,
   "metadata": {},
   "outputs": [
    {
     "name": "stderr",
     "output_type": "stream",
     "text": [
      "/Users/jpaggi/schrodinger.ve/lib/python3.6/site-packages/pandas/compat/__init__.py:117: UserWarning: Could not import the lzma module. Your installed Python is incomplete. Attempting to use lzma compression will result in a RuntimeError.\n",
      "  warnings.warn(msg)\n"
     ]
    }
   ],
   "source": [
    "import sys\n",
    "import os\n",
    "import numpy as np\n",
    "import matplotlib as mpl\n",
    "import matplotlib.pyplot as plt\n",
    "\n",
    "sys.path.append('../../')\n",
    "from score.scores import ScoreContainer\n",
    "\n",
    "mpl.rcParams['pdf.fonttype'] = 42\n",
    "%matplotlib inline"
   ]
  },
  {
   "cell_type": "code",
   "execution_count": 2,
   "metadata": {},
   "outputs": [],
   "source": [
    "path ='/Users/jpaggi/sherlock/oak/users/jpaggi/bpp_data'\n",
    "\n",
    "prot = 'B1AR'\n",
    "stats = 'stats41/stats'\n",
    "scores = 'stats41/pdb/standard/1.0-mcss_contact_hbond_sb'\n",
    "fname = 'pdb.sc'\n",
    "struct = '2VT4'\n",
    "\n",
    "root = '{}/{}/scores/{}'.format(path, prot, scores)\n",
    "stats_root = '{}/{}/scores/{}'.format(path, prot, stats)\n",
    "sc = ScoreContainer(root, stats_root, prot, struct)\n",
    "\n",
    "cluster = sc.read_results(fname)\n",
    "glide_cluster = {lig:0 for lig in cluster}"
   ]
  },
  {
   "cell_type": "code",
   "execution_count": 3,
   "metadata": {},
   "outputs": [
    {
     "data": {
      "text/plain": [
       "(['2Y00_lig',\n",
       "  '2Y02_lig',\n",
       "  '2Y03_lig',\n",
       "  '2Y04_lig',\n",
       "  '2YCW_lig',\n",
       "  '2YCZ_lig',\n",
       "  '3ZPQ_lig',\n",
       "  '3ZPR_lig',\n",
       "  '4AMI_lig',\n",
       "  '4AMJ_lig',\n",
       "  '5A8E_lig'],\n",
       " {'2Y00_lig': 'a',\n",
       "  '2Y02_lig': 'b',\n",
       "  '2Y03_lig': 'c',\n",
       "  '2Y04_lig': 'd',\n",
       "  '2YCW_lig': 'e',\n",
       "  '2YCZ_lig': 'f',\n",
       "  '3ZPQ_lig': 'g',\n",
       "  '3ZPR_lig': 'h',\n",
       "  '4AMI_lig': 'i',\n",
       "  '4AMJ_lig': 'j',\n",
       "  '5A8E_lig': 'k'})"
      ]
     },
     "execution_count": 3,
     "metadata": {},
     "output_type": "execute_result"
    }
   ],
   "source": [
    "l_list = list(cluster.keys())\n",
    "l_map = {lig: alpha for lig, alpha in zip(l_list, 'abcdefghijklm')}\n",
    "l_list, l_map"
   ]
  },
  {
   "cell_type": "code",
   "execution_count": 4,
   "metadata": {},
   "outputs": [
    {
     "data": {
      "image/png": "[encoded data removed]",
      "text/plain": [
       "<Figure size 648x324 with 1 Axes>"
      ]
     },
     "metadata": {
      "needs_background": "light"
     },
     "output_type": "display_data"
    },
    {
     "data": {
      "image/png": "[encoded data removed]",
      "text/plain": [
       "<Figure size 648x324 with 1 Axes>"
      ]
     },
     "metadata": {
      "needs_background": "light"
     },
     "output_type": "display_data"
    }
   ],
   "source": [
    "from matplotlib import colors\n",
    "from matplotlib.gridspec import GridSpec\n",
    "from matplotlib.colors import LinearSegmentedColormap\n",
    "import matplotlib.pyplot as plt\n",
    "from settings import feature_defs\n",
    "\n",
    "\n",
    "def gel_plot_individual(self, cluster, lig_order, interactions=None,\n",
    "                        divide=2, resname_size=14, ax=None, pretty=True):\n",
    "    \n",
    "    _X = self.interaction_matrix(cluster, interactions, lig_order)\n",
    "    \n",
    "    X, labels = [], []\n",
    "    for i, (type1, res1) in enumerate(interactions):\n",
    "        for (_, res2) in interactions[:i]:\n",
    "            if res1 == res2:\n",
    "                break\n",
    "        else:\n",
    "            X += [_X[i, :]]\n",
    "            labels += [format_res(res1)]\n",
    "            for j, (_, res2) in enumerate(interactions[i+1:]):\n",
    "                j = j + i + 1\n",
    "                if res1 == res2:\n",
    "                    X[-1] += _X[j, :]\n",
    "            \n",
    "    X = np.vstack(X)\n",
    "\n",
    "    # Y is X + empty cells seperating boxes.\n",
    "    Y = np.zeros((X.shape[0]*divide, X.shape[1]*divide))\n",
    "    \n",
    "    Y[::divide, ::divide] = X\n",
    "    \n",
    "    if ax is None:\n",
    "        figure = plt.figure(figsize =  (9, 4.5))\n",
    "        gs = GridSpec(1, 2, figure = figure, width_ratios = [4, 5])\n",
    "        ax = plt.subplot(gs[1])\n",
    "    ax.imshow(Y, cmap='binary', aspect = 'auto', vmin=0, vmax=1.0)\n",
    "    #ax.set(adjustable='box', aspect='equal')\n",
    "\n",
    "    if pretty:\n",
    "        self._pretty(lig_order, labels, divide, resname_size)\n",
    "        \n",
    "def format_res(interaction):\n",
    "    three_to_one = {\n",
    "        'TYR': 'Y',\n",
    "        'VAL': 'V',\n",
    "        'ARG': 'R',\n",
    "        'THR': 'T',\n",
    "        'GLU': 'E',\n",
    "        'SER': 'S',\n",
    "        'PHE': 'F',\n",
    "        'ALA': 'A',\n",
    "        'MET': 'M',\n",
    "        'ILE': 'I',\n",
    "        'ASP': 'D',\n",
    "        'GLN': 'Q',\n",
    "        'ASN': 'N',\n",
    "        'GLY': 'G',\n",
    "        'PRO': 'P',\n",
    "        'TRP': 'W',\n",
    "        'LEU': 'L',\n",
    "        'LYS': 'K',\n",
    "        'CYS': 'C',\n",
    "        'HIS': 'H'\n",
    "    }\n",
    "    name = interaction.split('(')[1][:-1]\n",
    "    num = interaction.split('(')[0].split(':')[1]\n",
    "    if name in three_to_one:\n",
    "        name = three_to_one[name]\n",
    "    return '{}{}'.format(name, num)\n",
    "\n",
    "\n",
    "interactions = sc.ps.interactions([cluster, glide_cluster],  'hbond')\n",
    "unique, keys = [], set()\n",
    "for code, res in interactions[::-1]:\n",
    "    if res not in keys:\n",
    "        unique += [(code, res)]\n",
    "    keys.add(res)\n",
    "    \n",
    "interactions = interactions[:1] + [('', 'A: ( )')] + interactions[1:]\n",
    "\n",
    "gel_plot_individual(sc.ps, cluster, l_list, interactions=interactions, resname_size = 14)\n",
    "plt.xticks(range(0, 2*len(l_list), 2), [l_map[lig] for lig in l_list], rotation = 'horizontal', size = 20)\n",
    "plt.tight_layout()\n",
    "plt.savefig('../../pymol/figures/b1ar/panels/combind.pdf')\n",
    "plt.show()\n",
    "\n",
    "gel_plot_individual(sc.ps, glide_cluster, l_list, interactions=interactions, resname_size = 14)\n",
    "plt.xticks(range(0, 2*len(l_list), 2), [l_map[lig] for lig in l_list], rotation = 'horizontal', size = 20)\n",
    "plt.tight_layout()\n",
    "plt.savefig('../../pymol/figures/b1ar/panels/glide.pdf')\n",
    "plt.show()"
   ]
  },
  {
   "cell_type": "code",
   "execution_count": 5,
   "metadata": {},
   "outputs": [
    {
     "data": {
      "image/png": "[encoded data removed]",
      "text/plain": [
       "<Figure size 360x360 with 1 Axes>"
      ]
     },
     "metadata": {
      "needs_background": "light"
     },
     "output_type": "display_data"
    }
   ],
   "source": [
    "combind_rmsds = [sc.ps.get_rmsd({lig: cluster[lig]}) for lig in l_list]\n",
    "glide_rmsds = [sc.ps.get_rmsd({lig: glide_cluster[lig]}) for lig in l_list]\n",
    "f, ax = plt.subplots(figsize = (5, 5))\n",
    "ax.scatter(glide_rmsds, combind_rmsds, s = 30, c = 'k')\n",
    "ax.plot(range(11), c = 'grey')\n",
    "\n",
    "\n",
    "for x, y, lig in zip(glide_rmsds, combind_rmsds, l_list):\n",
    "    x_shift, y_shift = 0.2, 0.2\n",
    "    if lig == '2YCW_lig':\n",
    "        x_shift, y_shift = 0.2, -0.3\n",
    "    if lig == '2Y03_lig':\n",
    "        x_shift, y_shift = -0.2, 0.3\n",
    "    if lig == '4AMI_lig':\n",
    "        x_shift, y_shift = 0, 0.3\n",
    "    if lig == '5A8E_lig':\n",
    "        x_shift, y_shift = 0.2, -0.5\n",
    "    if lig == '2YCZ_lig':\n",
    "        x_shift, y_shift = 0.2, 0.05\n",
    "        \n",
    "    ax.text(x+x_shift, y+y_shift, l_map[lig], size = 20, name = 'monospace')\n",
    "\n",
    "\n",
    "ax.spines['right'].set_visible(False)\n",
    "ax.spines['top'].set_visible(False)\n",
    "ax.yaxis.set_ticks_position('left')\n",
    "ax.xaxis.set_ticks_position('bottom')\n",
    "ax.set_xlim(0)\n",
    "ax.set_ylim(ax.get_xlim())\n",
    "ax.set_yticklabels(range(0, 11, 2), size=18)\n",
    "ax.set_xticklabels(range(0, 11, 2), size=18)\n",
    "\n",
    "ax.set_ylabel('ComBind RMSD (Å)', size = 18)\n",
    "ax.set_xlabel('Glide RMSD (Å)', size = 18)\n",
    "plt.tight_layout()\n",
    "plt.savefig('../../pymol/figures/b1ar/panels/performance.pdf')\n",
    "plt.show()"
   ]
  },
  {
   "cell_type": "code",
   "execution_count": 6,
   "metadata": {},
   "outputs": [
    {
     "data": {
      "text/plain": [
       "(['2Y00_crystal_lig',\n",
       "  '2Y02_crystal_lig',\n",
       "  '2Y03_crystal_lig',\n",
       "  '2Y04_crystal_lig',\n",
       "  '2YCW_crystal_lig',\n",
       "  '2YCZ_crystal_lig',\n",
       "  '3ZPQ_crystal_lig',\n",
       "  '3ZPR_crystal_lig',\n",
       "  '4AMI_crystal_lig',\n",
       "  '4AMJ_crystal_lig',\n",
       "  '5A8E_crystal_lig'],\n",
       " {'2Y00_crystal_lig': 'a',\n",
       "  '2Y02_crystal_lig': 'b',\n",
       "  '2Y03_crystal_lig': 'c',\n",
       "  '2Y04_crystal_lig': 'd',\n",
       "  '2YCW_crystal_lig': 'e',\n",
       "  '2YCZ_crystal_lig': 'f',\n",
       "  '3ZPQ_crystal_lig': 'g',\n",
       "  '3ZPR_crystal_lig': 'h',\n",
       "  '4AMI_crystal_lig': 'i',\n",
       "  '4AMJ_crystal_lig': 'j',\n",
       "  '5A8E_crystal_lig': 'k'})"
      ]
     },
     "execution_count": 6,
     "metadata": {},
     "output_type": "execute_result"
    }
   ],
   "source": [
    "path ='/Users/jpaggi/sherlock/oak/users/jpaggi/bpp_data'\n",
    "\n",
    "prot = 'B1AR'\n",
    "stats = 'stats41/stats'\n",
    "scores = 'stats41/pdb/all_crystal'\n",
    "fname = 'pdb.sc'\n",
    "struct = '2VT4'\n",
    "\n",
    "root = '{}/{}/scores/{}'.format(path, prot, scores)\n",
    "stats_root = '{}/{}/scores/{}'.format(path, prot, stats)\n",
    "sc = ScoreContainer(root, stats_root, prot, struct, crystal=True)\n",
    "\n",
    "cluster = sc.read_results(fname)\n",
    "glide_cluster = {lig:0 for lig in cluster}\n",
    "\n",
    "l_list = list(cluster.keys())\n",
    "l_map = {lig: alpha for lig, alpha in zip(l_list, 'abcdefghijklm')}\n",
    "l_list, l_map"
   ]
  },
  {
   "cell_type": "code",
   "execution_count": 7,
   "metadata": {},
   "outputs": [
    {
     "data": {
      "image/png": "[encoded data removed]",
      "text/plain": [
       "<Figure size 648x324 with 1 Axes>"
      ]
     },
     "metadata": {
      "needs_background": "light"
     },
     "output_type": "display_data"
    }
   ],
   "source": [
    "gel_plot_individual(sc.ps, glide_cluster, l_list, interactions=interactions, resname_size = 14)\n",
    "plt.xticks(range(0, 2*len(l_list), 2), [l_map[lig] for lig in l_list], rotation = 'horizontal', size = 20)\n",
    "plt.tight_layout()\n",
    "plt.savefig('../../pymol/figures/b1ar/panels/xtal.pdf')\n",
    "plt.show()"
   ]
  },
  {
   "cell_type": "code",
   "execution_count": null,
   "metadata": {},
   "outputs": [],
   "source": []
  }
 ],
 "metadata": {
  "anaconda-cloud": {},
  "kernelspec": {
   "display_name": "Python 3",
   "language": "python",
   "name": "python3"
  },
  "language_info": {
   "codemirror_mode": {
    "name": "ipython",
    "version": 3
   },
   "file_extension": ".py",
   "mimetype": "text/x-python",
   "name": "python",
   "nbconvert_exporter": "python",
   "pygments_lexer": "ipython3",
   "version": "3.6.2"
  }
 },
 "nbformat": 4,
 "nbformat_minor": 2
}
