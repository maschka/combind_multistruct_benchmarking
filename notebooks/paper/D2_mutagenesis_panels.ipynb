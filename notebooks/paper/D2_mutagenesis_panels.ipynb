{
 "cells": [
  {
   "cell_type": "code",
   "execution_count": 1,
   "metadata": {},
   "outputs": [],
   "source": [
    "import numpy as np\n",
    "import matplotlib.pyplot as plt\n",
    "%matplotlib inline"
   ]
  },
  {
   "cell_type": "code",
   "execution_count": 2,
   "metadata": {},
   "outputs": [],
   "source": [
    "mutations = ['F389L', 'S193A', 'S193V', 'S193L', 'V91F', 'W100L', 'C118M', 'W386F']\n",
    "ligands = ['Pimozide', 'Benperidol', 'Spiperone', 'Mespiperone']\n",
    "colors = ['g', 'c', 'orange', 'y']\n",
    "\n",
    "affinities = [[0.201, 0.555, 0.122, 0.417, 0.459, 0.448, 2.965, 1.33, 11.021],\n",
    "              [0.135, 1.151, 0.158, 0.092, 0.111, 0.298, 1.987, 2.039, 13.898],\n",
    "              [0.044, 0.701, 0.047, 0.034, 0.065, 0.213, 0.385, 0.324, 4.045],\n",
    "              [0.078, 2.328, 0.066, 0.049, 0.077, 0.324, 0.734, 0.71, 8.925],\n",
    "              ]\n",
    "sems = [[0.046, 0.178, 0.032, 0.112, 0.085, 0.105, 0.368, 0.281, 0.886],\n",
    "        [0.021, 0.084, 0.021, 0.014, 0.007, 0.044, 0.223, 0.267, 4.195],\n",
    "        [0.004, 0.114, 0.004, 0.008, 0.018, 0.06, 0.086, 0.018, 0.185],\n",
    "        [0.015, 0.341, 0.012, 0.006, 0.006, 0.051, 0.033, 0.091, 1.931],\n",
    "        ]\n",
    "\n",
    "low, mean, high, error = [], [], [], []\n",
    "\n",
    "for affinity, sem in zip(affinities, sems):\n",
    "    low += [[]]\n",
    "    mean += [[]]\n",
    "    high += [[]]\n",
    "    error += [[]]\n",
    "    for a, e in zip(affinity[1:], sem[1:]):\n",
    "        l = a - e\n",
    "        h = a + e\n",
    "\n",
    "        l_wt = affinity[0] - sem[0]\n",
    "        h_wt = affinity[0] + sem[0]\n",
    "\n",
    "        mean[-1] += [np.log10(a) - np.log10(affinity[0])]\n",
    "        low[-1] += [mean[-1][-1] - (np.log10(l) - np.log10(h_wt))]\n",
    "        high[-1] += [(np.log10(h) - np.log10(l_wt)) - mean[-1][-1]]"
   ]
  },
  {
   "cell_type": "code",
   "execution_count": 3,
   "metadata": {},
   "outputs": [],
   "source": [
    "def get(ligand, mutation, metric):\n",
    "    if metric == 'mean':\n",
    "        data = mean\n",
    "    elif metric == 'low':\n",
    "        data = low\n",
    "    elif metric == 'high':\n",
    "        data = high\n",
    "    elif metric == 'raw':\n",
    "        if mutation == 'WT':\n",
    "            idx =  0\n",
    "        else:\n",
    "            idx = mutations.index(mutation)+1\n",
    "        return -np.log10(affinities[ligands.index(ligand)][idx])+9\n",
    "    elif metric == 'raw-sem-low':\n",
    "        if mutation == 'WT':\n",
    "            idx =  0\n",
    "        else:\n",
    "            idx = mutations.index(mutation)+1\n",
    "        _mean = affinities[ligands.index(ligand)][idx]\n",
    "        _sem = sems[ligands.index(ligand)][idx]\n",
    "        return - np.log10(_mean - _sem) + np.log10(_mean)\n",
    "    elif metric == 'raw-sem-high':\n",
    "        if mutation == 'WT':\n",
    "            idx =  0\n",
    "        else:\n",
    "            idx = mutations.index(mutation)+1\n",
    "        _mean = affinities[ligands.index(ligand)][idx]\n",
    "        _sem = sems[ligands.index(ligand)][idx]\n",
    "        return np.log10(_mean + _sem) - np.log10(_mean)\n",
    "    else:\n",
    "        assert False\n",
    "    return data[ligands.index(ligand)][mutations.index(mutation)]"
   ]
  },
  {
   "cell_type": "code",
   "execution_count": 4,
   "metadata": {},
   "outputs": [
    {
     "data": {
      "text/plain": [
       "array([0.77168077, 0.7622097 , 0.68147274, 0.45699562])"
      ]
     },
     "execution_count": 4,
     "metadata": {},
     "output_type": "execute_result"
    }
   ],
   "source": [
    "np.random.rand(4)"
   ]
  },
  {
   "cell_type": "code",
   "execution_count": 5,
   "metadata": {},
   "outputs": [
    {
     "data": {
      "image/png": "[encoded data removed]",
      "text/plain": [
       "<Figure size 432x288 with 1 Axes>"
      ]
     },
     "metadata": {
      "needs_background": "light"
     },
     "output_type": "display_data"
    }
   ],
   "source": [
    "ax = plt.subplot(111)\n",
    "for color, ligand in zip(colors, ligands):\n",
    "    x = np.linspace(0, 3, 4) + ligands.index(ligand)*0.03\n",
    "    y = [get(ligand, 'S193A', 'mean'), 0.0, get(ligand, 'S193V', 'mean'), get(ligand, 'S193L', 'mean')]\n",
    "    err = [[get(ligand, 'S193A', 'low'), 0.0, get(ligand, 'S193V', 'low'), get(ligand, 'S193L', 'low')],\n",
    "           [get(ligand, 'S193A', 'high'), 0.0, get(ligand, 'S193V', 'high'), get(ligand, 'S193L', 'high')]]\n",
    "    plt.plot(x, y, c = color, lw = 3)\n",
    "    ax.errorbar(x, y, yerr=err, fmt='-o', c = color)\n",
    "    \n",
    "ax.plot([-0.5, 3.5], [0, 0], '--', c = 'grey', lw=4)\n",
    "ax.set_xticks(range(4))\n",
    "ax.set_xticklabels(['A', 'S', 'V', 'L'], fontsize = 35)\n",
    "ax.set_ylim(-0.5, 0.5)\n",
    "ax.set_xlim(-0.25, 3.25)\n",
    "ax.set_yticks([-0.5, 0, 0.5])\n",
    "ax.set_yticklabels([-0.5, 0, 0.5], fontsize = 20)\n",
    "\n",
    "#ax.set_title('S193', fontsize=40)\n",
    "\n",
    "ax.spines['right'].set_visible(False)\n",
    "ax.spines['top'].set_visible(False)\n",
    "ax.spines['bottom'].set_visible(False)\n",
    "plt.savefig('../../pymol/figures/d2_panels/S193.pdf')\n",
    "plt.show()"
   ]
  },
  {
   "cell_type": "code",
   "execution_count": 6,
   "metadata": {},
   "outputs": [
    {
     "data": {
      "image/png": "[encoded data removed]",
      "text/plain": [
       "<Figure size 432x288 with 1 Axes>"
      ]
     },
     "metadata": {
      "needs_background": "light"
     },
     "output_type": "display_data"
    },
    {
     "data": {
      "image/png": "[encoded data removed]",
      "text/plain": [
       "<Figure size 432x288 with 1 Axes>"
      ]
     },
     "metadata": {
      "needs_background": "light"
     },
     "output_type": "display_data"
    }
   ],
   "source": [
    "ax = plt.subplot(111)\n",
    "\n",
    "color, ligand = 'limegreen', 'Pimozide'\n",
    "width = 0.75\n",
    "x = np.linspace(0, 2, 3)\n",
    "y = [get(ligand, 'S193A', 'raw'), get(ligand, 'WT', 'raw'), get(ligand, 'S193V', 'raw')]\n",
    "err_low = [get(ligand, 'S193A', 'raw-sem-low'), get(ligand, 'WT', 'raw-sem-low'), get(ligand, 'S193V', 'raw-sem-low')]\n",
    "err_high = [get(ligand, 'S193A', 'raw-sem-high'), get(ligand, 'WT', 'raw-sem-high'), get(ligand, 'S193V', 'raw-sem-high')]\n",
    "\n",
    "ax.bar(x, y, width, yerr=[err_low, err_high], color=color, \n",
    "       error_kw={'elinewidth': 2, 'capsize': 5, 'capthick':2})\n",
    "\n",
    "ax.set_xticks(np.linspace(0, 2, 3))\n",
    "ax.set_xticklabels([])\n",
    "ax.spines['right'].set_visible(False)\n",
    "ax.spines['top'].set_visible(False)\n",
    "plt.ylim(9.1, 10.1)\n",
    "plt.yticks([9.1, 9.6, 10.1])\n",
    "plt.savefig('../../pymol/figures/d2_panels/S193_pimozide.pdf')\n",
    "plt.show()\n",
    "\n",
    "ax = plt.subplot(111)\n",
    "color, ligand = 'c', 'Benperidol'\n",
    "x = np.linspace(0, 2, 3)\n",
    "y = [get(ligand, 'S193A', 'raw'), get(ligand, 'WT', 'raw'), get(ligand, 'S193V', 'raw')]\n",
    "err_low = [get(ligand, 'S193A', 'raw-sem-low'), get(ligand, 'WT', 'raw-sem-low'), get(ligand, 'S193V', 'raw-sem-low')]\n",
    "err_high = [get(ligand, 'S193A', 'raw-sem-high'), get(ligand, 'WT', 'raw-sem-high'), get(ligand, 'S193V', 'raw-sem-high')]\n",
    "\n",
    "ax.bar(x, y, width, yerr=[err_low, err_high], color=color, \n",
    "       error_kw={'elinewidth': 2, 'capsize': 5, 'capthick':2})\n",
    "ax.set_xticks(np.linspace(0, 2, 3))\n",
    "ax.set_xticklabels([])\n",
    "ax.spines['right'].set_visible(False)\n",
    "ax.spines['top'].set_visible(False)\n",
    "plt.ylim(9.4, 10.4)\n",
    "plt.yticks([9.4, 9.9, 10.4])\n",
    "plt.savefig('../../pymol/figures/d2_panels/S193_benperidol.pdf')\n",
    "plt.show()"
   ]
  },
  {
   "cell_type": "code",
   "execution_count": 7,
   "metadata": {
    "scrolled": false
   },
   "outputs": [
    {
     "data": {
      "image/png": "[encoded data removed]",
      "text/plain": [
       "<Figure size 432x288 with 1 Axes>"
      ]
     },
     "metadata": {
      "needs_background": "light"
     },
     "output_type": "display_data"
    },
    {
     "data": {
      "image/png": "[encoded data removed]",
      "text/plain": [
       "<Figure size 432x288 with 1 Axes>"
      ]
     },
     "metadata": {
      "needs_background": "light"
     },
     "output_type": "display_data"
    },
    {
     "data": {
      "image/png": "[encoded data removed]",
      "text/plain": [
       "<Figure size 432x288 with 1 Axes>"
      ]
     },
     "metadata": {
      "needs_background": "light"
     },
     "output_type": "display_data"
    },
    {
     "data": {
      "image/png": "[encoded data removed]",
      "text/plain": [
       "<Figure size 432x288 with 1 Axes>"
      ]
     },
     "metadata": {
      "needs_background": "light"
     },
     "output_type": "display_data"
    },
    {
     "data": {
      "image/png": "[encoded data removed]",
      "text/plain": [
       "<Figure size 432x288 with 1 Axes>"
      ]
     },
     "metadata": {
      "needs_background": "light"
     },
     "output_type": "display_data"
    }
   ],
   "source": [
    "for mutation in mutations:\n",
    "    if '193' in mutation: continue\n",
    "    ax = plt.subplot(111)\n",
    "    y = [get(ligand, mutation, 'mean') for ligand in ligands]\n",
    "    yerr = [[get(ligand, mutation, 'low') for ligand in ligands],\n",
    "            [get(ligand, mutation, 'high') for ligand in ligands]]\n",
    "    ax.bar(range(len(ligands)), y, yerr = yerr, color = colors,\n",
    "           error_kw={'elinewidth': 3, 'capsize': 8, 'capthick':3})\n",
    "    ax.plot([-0.5, 3.5], [0, 0], '--', c = 'grey', lw=4)\n",
    "    ax.spines['right'].set_visible(False)\n",
    "    ax.spines['top'].set_visible(False)\n",
    "    ax.spines['bottom'].set_visible(False)\n",
    "    \n",
    "    ax.set_ylim(0, 3)\n",
    "    ax.set_yticks([0, 1.5, 3])\n",
    "    ax.set_yticklabels([0, 1.5, 3], fontsize=20)\n",
    "    #ax.set_title(mutation, fontsize=40)\n",
    "    \n",
    "    ax.set_xticks([])\n",
    "    \n",
    "    plt.savefig('../../pymol/figures/d2_panels/{}.pdf'.format(mutation))\n",
    "    plt.show()"
   ]
  },
  {
   "cell_type": "code",
   "execution_count": null,
   "metadata": {},
   "outputs": [],
   "source": []
  },
  {
   "cell_type": "code",
   "execution_count": null,
   "metadata": {},
   "outputs": [],
   "source": []
  }
 ],
 "metadata": {
  "kernelspec": {
   "display_name": "Python 3",
   "language": "python",
   "name": "python3"
  },
  "language_info": {
   "codemirror_mode": {
    "name": "ipython",
    "version": 3
   },
   "file_extension": ".py",
   "mimetype": "text/x-python",
   "name": "python",
   "nbconvert_exporter": "python",
   "pygments_lexer": "ipython3",
   "version": "3.6.2"
  }
 },
 "nbformat": 4,
 "nbformat_minor": 2
}
