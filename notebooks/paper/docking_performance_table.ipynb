{
 "cells": [
  {
   "cell_type": "code",
   "execution_count": 1,
   "metadata": {},
   "outputs": [],
   "source": [
    "from benchmark_new import *\n",
    "%matplotlib inline"
   ]
  },
  {
   "cell_type": "code",
   "execution_count": 4,
   "metadata": {},
   "outputs": [
    {
     "data": {
      "text/html": [
       "<div>\n",
       "<style scoped>\n",
       "    .dataframe tbody tr th:only-of-type {\n",
       "        vertical-align: middle;\n",
       "    }\n",
       "\n",
       "    .dataframe tbody tr th {\n",
       "        vertical-align: top;\n",
       "    }\n",
       "\n",
       "    .dataframe thead th {\n",
       "        text-align: right;\n",
       "    }\n",
       "</style>\n",
       "<table border=\"1\" class=\"dataframe\">\n",
       "  <thead>\n",
       "    <tr style=\"text-align: right;\">\n",
       "      <th></th>\n",
       "      <th>SP Top</th>\n",
       "      <th>XP Top</th>\n",
       "      <th>SP Best</th>\n",
       "      <th>XP Best</th>\n",
       "    </tr>\n",
       "    <tr>\n",
       "      <th>version</th>\n",
       "      <th></th>\n",
       "      <th></th>\n",
       "      <th></th>\n",
       "      <th></th>\n",
       "    </tr>\n",
       "  </thead>\n",
       "  <tbody>\n",
       "    <tr>\n",
       "      <th>All</th>\n",
       "      <td>0.436061</td>\n",
       "      <td>0.521797</td>\n",
       "      <td>0.801731</td>\n",
       "      <td>0.655895</td>\n",
       "    </tr>\n",
       "    <tr>\n",
       "      <th>Shared scaffold</th>\n",
       "      <td>0.472224</td>\n",
       "      <td>0.613316</td>\n",
       "      <td>0.879968</td>\n",
       "      <td>0.802960</td>\n",
       "    </tr>\n",
       "    <tr>\n",
       "      <th>No shared scaffold</th>\n",
       "      <td>0.401511</td>\n",
       "      <td>0.421950</td>\n",
       "      <td>0.784473</td>\n",
       "      <td>0.578477</td>\n",
       "    </tr>\n",
       "  </tbody>\n",
       "</table>\n",
       "</div>"
      ],
      "text/plain": [
       "                      SP Top    XP Top   SP Best   XP Best\n",
       "version                                                   \n",
       "All                 0.436061  0.521797  0.801731  0.655895\n",
       "Shared scaffold     0.472224  0.613316  0.879968  0.802960\n",
       "No shared scaffold  0.401511  0.421950  0.784473  0.578477"
      ]
     },
     "execution_count": 4,
     "metadata": {},
     "output_type": "execute_result"
    }
   ],
   "source": [
    "helpers = 'pdb'\n",
    "mcss = '../../../mcss_sizes.pkl'\n",
    "\n",
    "sp = 'stats21'\n",
    "xp = 'stats20'\n",
    "\n",
    "def results(mcss_func, name):\n",
    "    data = pd.concat(load(version, helpers, mcss) for version in [sp, xp])\n",
    "    data = add_correct(data, thresh = 2.0)\n",
    "    data = data[  (data.index.get_level_values('protein') != 'A2AR')\n",
    "                & (data.index.get_level_values('protein') != 'MAPK14')\n",
    "                & (data.index.get_level_values('protein') != 'VDR')]\n",
    "    data.loc[data.index.get_level_values('protein') == 'TRPV1', 'mcss'] = 0\n",
    "    data = data[mcss_func(data.mcss)]\n",
    "\n",
    "    ligand = data.xs((helpers, 'standard', 0, 'mcss_contact_hbond_sb', 1.0),\n",
    "                      level=('helpers', 'mode', 'n_ligs', 'features', 'alpha')).filter(regex='rmsd|correct')\n",
    "    ligand = filter_to_ubiquitous_ligands(ligand)\n",
    "    target = ligand.groupby(level=list(range(len(ligand.index.levels)-1))).mean().dropna()\n",
    "    family_target = target.groupby(level=list(range(len(target.index.levels)-1))).mean()\n",
    "    #family_ligand = ligand.groupby(level=list(range(len(ligand.index.levels)-2))).mean()\n",
    "\n",
    "    target = pd.merge(target.loc[sp], target.loc[xp], left_index=True, right_index=True)\n",
    "    family_target = pd.merge(family_target.loc[sp], family_target.loc[xp], left_index=True, right_index=True)\n",
    "\n",
    "    family_target['SP Top'] = family_target['glide_correct_x']\n",
    "    family_target['XP Top'] = family_target['glide_correct_y']\n",
    "    family_target['SP Best'] = family_target['best_correct_x']\n",
    "    family_target['XP Best'] = family_target['best_correct_y']\n",
    "    family_target = family_target.filter(regex='P')\n",
    "    \n",
    "    family_target['version'] = name\n",
    "    family_target.reset_index(inplace=True)\n",
    "    family_target.set_index(['version', 'family'], inplace = True)\n",
    "    return drug_average(family_target)\n",
    "\n",
    "pd.concat([results(lambda x: x > -1, 'All'),\n",
    "           results(lambda x: x >= 0.5, 'Shared scaffold'),\n",
    "           results(lambda x: x < 0.5, 'No shared scaffold')])"
   ]
  },
  {
   "cell_type": "code",
   "execution_count": null,
   "metadata": {},
   "outputs": [],
   "source": []
  }
 ],
 "metadata": {
  "kernelspec": {
   "display_name": "Python 3",
   "language": "python",
   "name": "python3"
  },
  "language_info": {
   "codemirror_mode": {
    "name": "ipython",
    "version": 3
   },
   "file_extension": ".py",
   "mimetype": "text/x-python",
   "name": "python",
   "nbconvert_exporter": "python",
   "pygments_lexer": "ipython3",
   "version": "3.7.3"
  }
 },
 "nbformat": 4,
 "nbformat_minor": 2
}
