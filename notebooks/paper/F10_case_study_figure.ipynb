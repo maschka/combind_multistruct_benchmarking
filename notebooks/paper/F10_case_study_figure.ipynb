{
 "cells": [
  {
   "cell_type": "code",
   "execution_count": 1,
   "metadata": {},
   "outputs": [
    {
     "name": "stderr",
     "output_type": "stream",
     "text": [
      "/Users/jpaggi/schrodinger.ve/lib/python3.6/site-packages/pandas/compat/__init__.py:117: UserWarning: Could not import the lzma module. Your installed Python is incomplete. Attempting to use lzma compression will result in a RuntimeError.\n",
      "  warnings.warn(msg)\n"
     ]
    }
   ],
   "source": [
    "import sys\n",
    "import os\n",
    "import numpy as np\n",
    "import matplotlib as mpl\n",
    "import matplotlib.pyplot as plt\n",
    "\n",
    "sys.path.append('../../')\n",
    "from score.scores import ScoreContainer\n",
    "\n",
    "mpl.rcParams['pdf.fonttype'] = 42\n",
    "%matplotlib inline"
   ]
  },
  {
   "cell_type": "code",
   "execution_count": 2,
   "metadata": {},
   "outputs": [],
   "source": [
    "path = '/Users/jpaggi/sherlock/oak/users/jpaggi/bpp_data'\n",
    "\n",
    "prot = 'F10'\n",
    "stats = 'stats41/stats'\n",
    "scores = 'stats41/pdb/standard/1.0-mcss_contact_hbond_sb'\n",
    "fname = 'pdb.sc'\n",
    "struct = '1EZQ'\n",
    "\n",
    "root = '{}/{}/scores/{}'.format(path, prot, scores)\n",
    "stats_root = '{}/{}/scores/{}'.format(path, prot, stats)\n",
    "sc = ScoreContainer(root, stats_root, prot, struct)\n",
    "\n",
    "cluster = sc.read_results(fname)\n",
    "glide_cluster = {lig:0 for lig in cluster}\n",
    "\n",
    "best_cluster = {}\n",
    "for lig in cluster:\n",
    "    poses = sc.predict_data.docking[sc.struct][lig].poses\n",
    "    best_rmsd = float('inf')\n",
    "    best_emodel = float('inf')\n",
    "    for i, pose in enumerate(poses[:sc.settings['num_poses']]):\n",
    "        if pose.rmsd is not None and pose.rmsd < best_rmsd:\n",
    "            best_cluster[lig] = i\n",
    "            best_rmsd = pose.rmsd"
   ]
  },
  {
   "cell_type": "code",
   "execution_count": 3,
   "metadata": {},
   "outputs": [
    {
     "data": {
      "text/plain": [
       "(['1KSN_lig',\n",
       "  '1F0S_lig',\n",
       "  '2BQ7_lig',\n",
       "  '1FJS_lig',\n",
       "  '1MQ5_lig',\n",
       "  '1Z6E_lig',\n",
       "  '1NFY_lig',\n",
       "  '1NFW_lig',\n",
       "  '1XKA_lig',\n",
       "  '1MQ6_lig',\n",
       "  '2J2U_lig',\n",
       "  '1G2L_lig',\n",
       "  '2BOH_lig',\n",
       "  '1NFX_lig',\n",
       "  '1NFU_lig',\n",
       "  '1LPK_lig',\n",
       "  '2BOK_lig',\n",
       "  '1LPG_lig',\n",
       "  '1F0R_lig',\n",
       "  '1LPZ_lig'],\n",
       " {'1KSN_lig': 'a',\n",
       "  '1F0S_lig': 'b',\n",
       "  '2BQ7_lig': 'c',\n",
       "  '1FJS_lig': 'd',\n",
       "  '1MQ5_lig': 'e',\n",
       "  '1Z6E_lig': 'f',\n",
       "  '1NFY_lig': 'g',\n",
       "  '1NFW_lig': 'h',\n",
       "  '1XKA_lig': 'i',\n",
       "  '1MQ6_lig': 'j',\n",
       "  '2J2U_lig': 'k',\n",
       "  '1G2L_lig': 'l',\n",
       "  '2BOH_lig': 'm',\n",
       "  '1NFX_lig': 'n',\n",
       "  '1NFU_lig': 'o',\n",
       "  '1LPK_lig': 'p',\n",
       "  '2BOK_lig': 'q',\n",
       "  '1LPG_lig': 'r',\n",
       "  '1F0R_lig': 's',\n",
       "  '1LPZ_lig': 't'})"
      ]
     },
     "execution_count": 3,
     "metadata": {},
     "output_type": "execute_result"
    }
   ],
   "source": [
    "l_list = sorted(cluster.keys(), key = lambda x: sc.ps.get_rmsd({x:best_cluster[x]}))\n",
    "l_map = {lig: alpha for lig, alpha in zip(l_list, 'abcdefghijklmnopqrstuv')}\n",
    "l_list, l_map"
   ]
  },
  {
   "cell_type": "code",
   "execution_count": 4,
   "metadata": {},
   "outputs": [],
   "source": [
    "from matplotlib import colors\n",
    "from matplotlib.gridspec import GridSpec\n",
    "from matplotlib.colors import LinearSegmentedColormap\n",
    "import matplotlib.pyplot as plt\n",
    "from settings import feature_defs\n",
    "\n",
    "def gel_plot_individual(self, cluster, lig_order, figheight, interactions=None,\n",
    "                        divide=2, resname_size=14, ax=None, pretty=True):\n",
    "    \n",
    "    _X = self.interaction_matrix(cluster, interactions, lig_order)\n",
    "    \n",
    "    X, labels = [], []\n",
    "    for i, (type1, res1) in enumerate(interactions):\n",
    "        for (_, res2) in interactions[:i]:\n",
    "            if res1 == res2:\n",
    "                break\n",
    "        else:\n",
    "            X += [_X[i, :]]\n",
    "            labels += [format_res(res1)]\n",
    "            for j, (_, res2) in enumerate(interactions[i+1:]):\n",
    "                j = j + i + 1\n",
    "                if res1 == res2:\n",
    "                    X[-1] += _X[j, :]\n",
    "            \n",
    "    X = np.vstack(X)\n",
    "\n",
    "    # Y is X + empty cells seperating boxes.\n",
    "    Y = np.zeros((X.shape[0]*divide, X.shape[1]*divide))\n",
    "    \n",
    "    Y[::divide, ::divide] = X\n",
    "    \n",
    "    if ax is None:\n",
    "        figure = plt.figure(figsize =  (9.0, figheight))\n",
    "        gs = GridSpec(1, 2, figure = figure, width_ratios = [4, 5])\n",
    "        ax = plt.subplot(gs[1])\n",
    "    ax.imshow(Y, cmap='binary', aspect = 'auto', vmin=0, vmax=1.0)\n",
    "\n",
    "    if pretty:\n",
    "        self._pretty(lig_order, labels, divide, resname_size)\n",
    "        \n",
    "def format_res(interaction):\n",
    "    three_to_one = {\n",
    "        'TYR': 'Y',\n",
    "        'VAL': 'V',\n",
    "        'ARG': 'R',\n",
    "        'THR': 'T',\n",
    "        'GLU': 'E',\n",
    "        'SER': 'S',\n",
    "        'PHE': 'F',\n",
    "        'ALA': 'A',\n",
    "        'MET': 'M',\n",
    "        'ILE': 'I',\n",
    "        'ASP': 'D',\n",
    "        'GLN': 'Q',\n",
    "        'ASN': 'N',\n",
    "        'GLY': 'G',\n",
    "        'PRO': 'P',\n",
    "        'TRP': 'W',\n",
    "        'LEU': 'L',\n",
    "        'LYS': 'K',\n",
    "        'CYS': 'C',\n",
    "        'HIS': 'H'\n",
    "    }\n",
    "    name = interaction.split('(')[1][:-1]\n",
    "    num = interaction.split('(')[0].split(':')[1]\n",
    "    if name in three_to_one:\n",
    "        name = three_to_one[name]\n",
    "    return '{}{}'.format(name, num)\n",
    "\n",
    "\n",
    "\n",
    "def plot(name, figheight=4.5):\n",
    "    colors = []\n",
    "    for lig in l_list:\n",
    "        if sc.ps.get_rmsd({lig:cluster[lig]}) < 2.05:\n",
    "            colors += ['green']\n",
    "        elif sc.ps.get_rmsd({lig:best_cluster[lig]}) < 2.05:\n",
    "            colors += ['orange']\n",
    "        else:\n",
    "            colors += ['red']\n",
    "\n",
    "    gel_plot_individual(sc.ps, cluster, l_list, figheight, interactions=interactions, resname_size = 14)\n",
    "    plt.xticks(range(0, 2*len(l_list), 2), [l_map[lig] for lig in l_list], rotation = 'horizontal', size = 20)\n",
    "    plt.tight_layout()\n",
    "    plt.scatter(range(0, 2*len(l_list), 2), [-2]* len(colors), c=colors)\n",
    "    plt.savefig('../../pymol/figures/supp_case_study/{}-combind.pdf'.format(name))\n",
    "    plt.show()\n",
    "\n",
    "    colors = []\n",
    "    for lig in l_list:\n",
    "        if sc.ps.get_rmsd({lig:glide_cluster[lig]}) < 2.05:\n",
    "            colors += ['green']\n",
    "        elif sc.ps.get_rmsd({lig:best_cluster[lig]}) < 2.05:\n",
    "            colors += ['orange']\n",
    "        else:\n",
    "            colors += ['red']\n",
    "\n",
    "    gel_plot_individual(sc.ps, glide_cluster, l_list, figheight, interactions=interactions, resname_size = 14)\n",
    "    plt.xticks(range(0, 2*len(l_list), 2), [l_map[lig] for lig in l_list], rotation = 'horizontal', size = 20)\n",
    "    plt.tight_layout()\n",
    "    plt.scatter(range(0, 2*len(l_list), 2), [-2]* len(colors), c=colors)\n",
    "    plt.savefig('../../pymol/figures/supp_case_study/{}-glide.pdf'.format(name))\n",
    "    plt.show()"
   ]
  },
  {
   "cell_type": "code",
   "execution_count": 5,
   "metadata": {},
   "outputs": [
    {
     "data": {
      "image/png": "[encoded data removed]",
      "text/plain": [
       "<Figure size 648x280.8 with 1 Axes>"
      ]
     },
     "metadata": {
      "needs_background": "light"
     },
     "output_type": "display_data"
    },
    {
     "data": {
      "image/png": "[encoded data removed]",
      "text/plain": [
       "<Figure size 648x280.8 with 1 Axes>"
      ]
     },
     "metadata": {
      "needs_background": "light"
     },
     "output_type": "display_data"
    }
   ],
   "source": [
    "interactions = sc.ps.interactions([cluster, glide_cluster],  'hbond')\n",
    "unique, keys = [], set()\n",
    "for code, res in interactions[::-1]:\n",
    "    if res not in keys:\n",
    "        unique += [(code, res)]\n",
    "    keys.add(res)\n",
    "plot('f10-hbond', 3.9)"
   ]
  },
  {
   "cell_type": "code",
   "execution_count": 6,
   "metadata": {},
   "outputs": [
    {
     "data": {
      "image/png": "[encoded data removed]",
      "text/plain": [
       "<Figure size 648x115.2 with 1 Axes>"
      ]
     },
     "metadata": {
      "needs_background": "light"
     },
     "output_type": "display_data"
    },
    {
     "data": {
      "image/png": "[encoded data removed]",
      "text/plain": [
       "<Figure size 648x115.2 with 1 Axes>"
      ]
     },
     "metadata": {
      "needs_background": "light"
     },
     "output_type": "display_data"
    }
   ],
   "source": [
    "interactions = sc.ps.interactions([cluster, glide_cluster],  'sb')\n",
    "unique, keys = [], set()\n",
    "for code, res in interactions[::-1]:\n",
    "    if res not in keys:\n",
    "        unique += [(code, res)]\n",
    "    keys.add(res)\n",
    "plot('f10-sb', 1.6)"
   ]
  },
  {
   "cell_type": "code",
   "execution_count": null,
   "metadata": {},
   "outputs": [],
   "source": []
  }
 ],
 "metadata": {
  "anaconda-cloud": {},
  "kernelspec": {
   "display_name": "Python 3",
   "language": "python",
   "name": "python3"
  },
  "language_info": {
   "codemirror_mode": {
    "name": "ipython",
    "version": 3
   },
   "file_extension": ".py",
   "mimetype": "text/x-python",
   "name": "python",
   "nbconvert_exporter": "python",
   "pygments_lexer": "ipython3",
   "version": "3.6.2"
  }
 },
 "nbformat": 4,
 "nbformat_minor": 2
}
