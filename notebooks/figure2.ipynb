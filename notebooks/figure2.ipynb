{
 "cells": [
  {
   "cell_type": "markdown",
   "metadata": {},
   "source": [
    "# Plot data for each example\n",
    "\n",
    "- Fingerprints for an optimized pose cluster\n",
    "- Pair features for optimized pose cluster"
   ]
  },
  {
   "cell_type": "code",
   "execution_count": 1,
   "metadata": {},
   "outputs": [],
   "source": [
    "import sys\n",
    "import os\n",
    "import numpy as np\n",
    "sys.path.append('../')\n",
    "from containers import Protein\n",
    "from shared_paths import shared_paths\n",
    "from score.pairs import LigPair\n",
    "\n",
    "import matplotlib.pyplot as plt\n",
    "%matplotlib inline"
   ]
  },
  {
   "cell_type": "code",
   "execution_count": 2,
   "metadata": {},
   "outputs": [],
   "source": [
    "data = Protein('PLK1')\n",
    "data.load_docking(['2YAC_lig', '3THB_lig'], load_fp = True)"
   ]
  },
  {
   "cell_type": "code",
   "execution_count": 3,
   "metadata": {},
   "outputs": [],
   "source": [
    "pair = LigPair(data.docking[data.lm.st].ligands['2YAC_lig'], data.docking[data.lm.st].ligands['3THB_lig'],\n",
    "               ['hbond', 'sb', 'contact'], None, 100)"
   ]
  },
  {
   "cell_type": "code",
   "execution_count": 9,
   "metadata": {},
   "outputs": [
    {
     "name": "stdout",
     "output_type": "stream",
     "text": [
      "{'hbond': (0.0, 2.742036017280697), 'sb': (0, 1.0), 'contact': (84.8715620986764, 189.5795149317882)}\n",
      "\n",
      "0.6448276159887251\n",
      "1.7681405479783303\n",
      "\n",
      "0.0\n",
      "\n",
      "1.0\n",
      "0.0\n",
      "\n",
      "0.9719422367723799\n",
      "184.26033778902502\n",
      "\n",
      "0.9048866096079512\n",
      "171.54796451774578\n",
      "\n"
     ]
    }
   ],
   "source": [
    "native = (11, 4)\n",
    "reference = (0, 9)\n",
    "\n",
    "print(pair.feat_map)\n",
    "print()\n",
    "\n",
    "print(pair.get_feature('hbond', native[0], native[1]))\n",
    "print(pair.get_feature('hbond', native[0], native[1]) * pair.feat_map['hbond'][1])\n",
    "print()\n",
    "\n",
    "print(pair.get_feature('hbond', reference[0], reference[1]))\n",
    "print()\n",
    "\n",
    "print(pair.get_feature('sb', native[0], native[1]))\n",
    "print(pair.get_feature('sb', reference[0], reference[1]))\n",
    "print()\n",
    "\n",
    "print(pair.get_feature('contact', native[0], native[1]))\n",
    "print(pair.get_feature('contact', native[0], native[1]) * pair.feat_map['contact'][1])\n",
    "print()\n",
    "\n",
    "print(pair.get_feature('contact', reference[0], reference[1]))\n",
    "print(pair.get_feature('contact', reference[0], reference[1]) * pair.feat_map['contact'][1])\n",
    "print()"
   ]
  },
  {
   "cell_type": "code",
   "execution_count": 30,
   "metadata": {},
   "outputs": [
    {
     "name": "stdout",
     "output_type": "stream",
     "text": [
      "1 A:140(GLU) 1.0\n",
      "2 A:133(CYS) 1.0\n",
      "2 A:194(ASP) 1.0\n",
      "2 A:82(LYS) 1.0\n",
      "3 A:133(CYS) 1.0\n",
      "\n",
      "1 A:140(GLU) 1.0\n",
      "2 A:133(CYS) 0.5900399014484501\n",
      "3 A:133(CYS) 1.0\n",
      "\n",
      "2 A:133(CYS) 0.37252731104450554\n",
      "2 A:82(LYS) 1.0\n",
      "3 A:133(CYS) 1.0\n",
      "\n",
      "3 A:59(LEU) 1.0\n",
      "\n"
     ]
    }
   ],
   "source": [
    "def print_hbonds(ligand, pose):\n",
    "    for (code, res), score in data.docking[data.lm.st].ligands[ligand].poses[pose].fp.items():\n",
    "        if code in [1, 2, 3] and score:\n",
    "            print(code, res, score)\n",
    "    print()\n",
    "    \n",
    "print_hbonds('2YAC_lig', native[0])\n",
    "print_hbonds('3THB_lig', native[1])\n",
    "print_hbonds('2YAC_lig', reference[0])\n",
    "print_hbonds('3THB_lig', reference[1])"
   ]
  },
  {
   "cell_type": "code",
   "execution_count": null,
   "metadata": {},
   "outputs": [],
   "source": []
  }
 ],
 "metadata": {
  "anaconda-cloud": {},
  "kernelspec": {
   "display_name": "Python 3",
   "language": "python",
   "name": "python3"
  },
  "language_info": {
   "codemirror_mode": {
    "name": "ipython",
    "version": 3
   },
   "file_extension": ".py",
   "mimetype": "text/x-python",
   "name": "python",
   "nbconvert_exporter": "python",
   "pygments_lexer": "ipython3",
   "version": "3.7.1"
  }
 },
 "nbformat": 4,
 "nbformat_minor": 2
}
