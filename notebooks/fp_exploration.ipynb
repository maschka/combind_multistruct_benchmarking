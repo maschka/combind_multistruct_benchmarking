{
 "cells": [
  {
   "cell_type": "markdown",
   "metadata": {},
   "source": [
    "# Examine raw fingerprints"
   ]
  },
  {
   "cell_type": "code",
   "execution_count": 1,
   "metadata": {
    "collapsed": true
   },
   "outputs": [],
   "source": [
    "import numpy as np\n",
    "import matplotlib.pyplot as plt\n",
    "\n",
    "%matplotlib inline"
   ]
  },
  {
   "cell_type": "code",
   "execution_count": 2,
   "metadata": {
    "collapsed": false
   },
   "outputs": [
    {
     "ename": "IOError",
     "evalue": "[Errno 2] No such file or directory: '../combind_sherlock/bpp_outputs/fps.csv'",
     "output_type": "error",
     "traceback": [
      "\u001b[0;31m---------------------------------------------------------------------------\u001b[0m",
      "\u001b[0;31mIOError\u001b[0m                                   Traceback (most recent call last)",
      "\u001b[0;32m<ipython-input-2-6cb20ebe2545>\u001b[0m in \u001b[0;36m<module>\u001b[0;34m()\u001b[0m\n\u001b[1;32m      1\u001b[0m \u001b[0mdata\u001b[0m \u001b[0;34m=\u001b[0m \u001b[0;34m{\u001b[0m\u001b[0;34m}\u001b[0m\u001b[0;34m\u001b[0m\u001b[0m\n\u001b[0;32m----> 2\u001b[0;31m \u001b[0;32mwith\u001b[0m \u001b[0mopen\u001b[0m\u001b[0;34m(\u001b[0m\u001b[0;34m'../combind_sherlock/bpp_outputs/fps.csv'\u001b[0m\u001b[0;34m)\u001b[0m \u001b[0;32mas\u001b[0m \u001b[0mfp\u001b[0m\u001b[0;34m:\u001b[0m\u001b[0;34m\u001b[0m\u001b[0m\n\u001b[0m\u001b[1;32m      3\u001b[0m     \u001b[0mfp\u001b[0m\u001b[0;34m.\u001b[0m\u001b[0mreadline\u001b[0m\u001b[0;34m(\u001b[0m\u001b[0;34m)\u001b[0m\u001b[0;34m\u001b[0m\u001b[0m\n\u001b[1;32m      4\u001b[0m     \u001b[0;32mfor\u001b[0m \u001b[0mline\u001b[0m \u001b[0;32min\u001b[0m \u001b[0mfp\u001b[0m\u001b[0;34m:\u001b[0m\u001b[0;34m\u001b[0m\u001b[0m\n\u001b[1;32m      5\u001b[0m         \u001b[0;32mtry\u001b[0m\u001b[0;34m:\u001b[0m\u001b[0;34m\u001b[0m\u001b[0m\n",
      "\u001b[0;31mIOError\u001b[0m: [Errno 2] No such file or directory: '../combind_sherlock/bpp_outputs/fps.csv'"
     ]
    }
   ],
   "source": [
    "data = {}\n",
    "with open('../combind_sherlock/bpp_outputs/fps.csv') as fp:\n",
    "    fp.readline()\n",
    "    for line in fp:\n",
    "        try:\n",
    "            (protein, struct, ligand, rank, gscore, emodel,\n",
    "             rmsd, finger) = line.strip().split('\\t')\n",
    "            if protein not in data: data[protein] = {}\n",
    "            if ligand not in data[protein]: data[protein][ligand] = {}\n",
    "            finger = {(int(interaction), residue): float(score)\n",
    "                      for interaction, residue, score in \\\n",
    "                      map(lambda x: x.split(','), finger.split(';'))}\n",
    "            gscore, emodel, rmsd = float(gscore), float(emodel), float(rmsd)\n",
    "            rank = int(rank)\n",
    "            data[protein][ligand][rank] = (gscore, emodel, rmsd, finger)\n",
    "        except:\n",
    "            pass"
   ]
  },
  {
   "cell_type": "code",
   "execution_count": 38,
   "metadata": {
    "collapsed": true
   },
   "outputs": [],
   "source": [
    "features = {\n",
    "    'hbond':[2,3],\n",
    "    #'sb1':[0],\n",
    "    'sb2':[1],\n",
    "    #'sb3':[4],\n",
    "    'pipi':[6],\n",
    "    'picat':[7,8],\n",
    "    'contact':[11]\n",
    "}"
   ]
  },
  {
   "cell_type": "markdown",
   "metadata": {},
   "source": [
    "# Number of each interaction type"
   ]
  },
  {
   "cell_type": "code",
   "execution_count": 104,
   "metadata": {
    "collapsed": false
   },
   "outputs": [
    {
     "name": "stdout",
     "output_type": "stream",
     "text": [
      "sb2 0 0.959979715167\n",
      "sb2 1 0.0378861513756\n",
      "sb2 2 0.00211300342307\n",
      "sb2 3 2.11300342307e-05\n",
      "picat 0 0.808688670076\n",
      "picat 1 0.177978278325\n",
      "picat 2 0.0127625406753\n",
      "picat 3 0.000549380889997\n",
      "picat 4 2.11300342307e-05\n",
      "contact 0 0.0942188226345\n",
      "contact 1 0.233803828762\n",
      "contact 2 0.262096944597\n",
      "contact 3 0.210793221485\n",
      "contact 4 0.11632083844\n",
      "contact 5 0.0536491569116\n",
      "contact 6 0.0206863035118\n",
      "contact 7 0.00559945907112\n",
      "contact 8 0.00162701263576\n",
      "contact 9 0.000802941300765\n",
      "contact 10 0.000380340616152\n",
      "contact 11 2.11300342307e-05\n",
      "pipi 0 0.660862950598\n",
      "pipi 1 0.299454845117\n",
      "pipi 2 0.0379072814098\n",
      "pipi 3 0.00175379284114\n",
      "pipi 4 2.11300342307e-05\n",
      "hbond 0 0.673900181718\n",
      "hbond 1 0.263935257575\n",
      "hbond 2 0.0536068968432\n",
      "hbond 3 0.00790263280227\n",
      "hbond 4 0.000570510924228\n",
      "hbond 5 8.45201369226e-05\n"
     ]
    }
   ],
   "source": [
    "for feature, codes in features.items():\n",
    "    counts = []\n",
    "    for protein, ligands in data.items():\n",
    "        for ligand, poses in ligands.items():\n",
    "            for rank, pose in poses.items():\n",
    "                counts += [sum([code in codes\n",
    "                                for (code, residue), score in pose[-1].items()\n",
    "                                if score < .5])]\n",
    "    counts = np.array(counts)\n",
    "    for i in range(counts.max()+1):\n",
    "        print feature, i, sum(counts == i) / float(len(counts))"
   ]
  },
  {
   "cell_type": "markdown",
   "metadata": {},
   "source": [
    "# Any Correlation with correctness?"
   ]
  },
  {
   "cell_type": "code",
   "execution_count": 100,
   "metadata": {
    "collapsed": false
   },
   "outputs": [
    {
     "data": {
      "image/png": "[encoded data removed]",
      "text/plain": [
       "<matplotlib.figure.Figure at 0x127754fd0>"
      ]
     },
     "metadata": {},
     "output_type": "display_data"
    },
    {
     "data": {
      "image/png": "[encoded data removed]",
      "text/plain": [
       "<matplotlib.figure.Figure at 0x12b5fbcd0>"
      ]
     },
     "metadata": {},
     "output_type": "display_data"
    },
    {
     "data": {
      "image/png": "[encoded data removed]",
      "text/plain": [
       "<matplotlib.figure.Figure at 0x12b586890>"
      ]
     },
     "metadata": {},
     "output_type": "display_data"
    },
    {
     "data": {
      "image/png": "[encoded data removed]",
      "text/plain": [
       "<matplotlib.figure.Figure at 0x12c660550>"
      ]
     },
     "metadata": {},
     "output_type": "display_data"
    },
    {
     "data": {
      "image/png": "[encoded data removed]",
      "text/plain": [
       "<matplotlib.figure.Figure at 0x1236440d0>"
      ]
     },
     "metadata": {},
     "output_type": "display_data"
    }
   ],
   "source": [
    "from sklearn.metrics import roc_auc_score\n",
    "\n",
    "\n",
    "for feature, codes in features.items():\n",
    "    native, decoy = [], []\n",
    "    for protein, ligands in data.items():\n",
    "        for ligand, poses in ligands.items():\n",
    "            for rank, pose in poses.items():\n",
    "                if rank > 1: continue\n",
    "                count = sum([score for (code, residue), score in pose[-1].items() if code in codes])\n",
    "                if pose[2] < 2:\n",
    "                    native += [count]\n",
    "                decoy += [count]\n",
    "    plt.hist([native, decoy], label = ['native', 'decoy'], normed = True)\n",
    "    plt.legend()\n",
    "    plt.show()"
   ]
  },
  {
   "cell_type": "code",
   "execution_count": 106,
   "metadata": {
    "collapsed": false
   },
   "outputs": [
    {
     "name": "stdout",
     "output_type": "stream",
     "text": [
      "sb2\n",
      "0.5 0.575432329772\n"
     ]
    },
    {
     "data": {
      "image/png": "[encoded data removed]",
      "text/plain": [
       "<matplotlib.figure.Figure at 0x12b58a410>"
      ]
     },
     "metadata": {},
     "output_type": "display_data"
    },
    {
     "name": "stdout",
     "output_type": "stream",
     "text": [
      "picat\n",
      "0.5 0.464714841868\n"
     ]
    },
    {
     "data": {
      "image/png": "[encoded data removed]",
      "text/plain": [
       "<matplotlib.figure.Figure at 0x123848a10>"
      ]
     },
     "metadata": {},
     "output_type": "display_data"
    },
    {
     "name": "stdout",
     "output_type": "stream",
     "text": [
      "contact\n",
      "0.65 0.609781046989\n"
     ]
    },
    {
     "data": {
      "image/png": "[encoded data removed]",
      "text/plain": [
       "<matplotlib.figure.Figure at 0x12c07c290>"
      ]
     },
     "metadata": {},
     "output_type": "display_data"
    },
    {
     "name": "stdout",
     "output_type": "stream",
     "text": [
      "pipi\n",
      "0.5 0.520557245573\n"
     ]
    },
    {
     "data": {
      "image/png": "[encoded data removed]",
      "text/plain": [
       "<matplotlib.figure.Figure at 0x123661350>"
      ]
     },
     "metadata": {},
     "output_type": "display_data"
    },
    {
     "name": "stdout",
     "output_type": "stream",
     "text": [
      "hbond\n",
      "0.65 0.625590304878\n"
     ]
    },
    {
     "data": {
      "image/png": "[encoded data removed]",
      "text/plain": [
       "<matplotlib.figure.Figure at 0x127f9d3d0>"
      ]
     },
     "metadata": {},
     "output_type": "display_data"
    }
   ],
   "source": [
    "from sklearn.metrics import roc_auc_score\n",
    "\n",
    "for feature, codes in features.items():\n",
    "    auc = []\n",
    "    for protein, ligands in data.items():\n",
    "        for ligand, poses in ligands.items():\n",
    "            y = []\n",
    "            y_hat = []\n",
    "            weights = []\n",
    "            for rank, pose in poses.items():\n",
    "                if rank > 20: continue\n",
    "                y += [pose[2] < 2]\n",
    "                y_hat += [sum([score for (code, residue), score in pose[-1].items() if code in codes])]\n",
    "\n",
    "                #weights += [np.exp(-pose[0])]\n",
    "            if sum(label == 1 for label in y) and sum(label == 0 for label in y):\n",
    "                auc += [roc_auc_score(y, y_hat)]\n",
    "    print feature\n",
    "    print np.median(auc), np.mean(auc)\n",
    "    plt.hist(auc)\n",
    "    plt.show()"
   ]
  },
  {
   "cell_type": "code",
   "execution_count": 105,
   "metadata": {
    "collapsed": false
   },
   "outputs": [
    {
     "name": "stdout",
     "output_type": "stream",
     "text": [
      "sb2\n",
      "0.532095344977\n",
      "picat\n",
      "0.474587532051\n",
      "contact\n",
      "0.571504835831\n",
      "pipi\n",
      "0.437217974796\n",
      "hbond\n",
      "0.620449603703\n"
     ]
    }
   ],
   "source": [
    "from sklearn.metrics import roc_auc_score\n",
    "\n",
    "for feature, codes in features.items():\n",
    "    y = []\n",
    "    y_hat = []\n",
    "    weights = []\n",
    "    for protein, ligands in data.items():\n",
    "        for ligand, poses in ligands.items():\n",
    "\n",
    "            for rank, pose in poses.items():\n",
    "                if rank > 1: continue\n",
    "                y += [pose[2] < 2]\n",
    "                y_hat += [sum([score for (code, residue), score in pose[-1].items() if code in codes])]\n",
    "    print feature\n",
    "    print roc_auc_score(y, y_hat)"
   ]
  },
  {
   "cell_type": "code",
   "execution_count": null,
   "metadata": {
    "collapsed": true
   },
   "outputs": [],
   "source": []
  }
 ],
 "metadata": {
  "anaconda-cloud": {},
  "kernelspec": {
   "display_name": "Python [conda root]",
   "language": "python",
   "name": "conda-root-py"
  },
  "language_info": {
   "codemirror_mode": {
    "name": "ipython",
    "version": 2
   },
   "file_extension": ".py",
   "mimetype": "text/x-python",
   "name": "python",
   "nbconvert_exporter": "python",
   "pygments_lexer": "ipython2",
   "version": "2.7.3"
  }
 },
 "nbformat": 4,
 "nbformat_minor": 2
}
