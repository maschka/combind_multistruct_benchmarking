{
 "cells": [
  {
   "cell_type": "code",
   "execution_count": null,
   "metadata": {
    "collapsed": false
   },
   "outputs": [],
   "source": [
    "import sys\n",
    "\n",
    "sys.path.append('../3_analyze')\n",
    "from containers import Dataset\n",
    "from utils import plot_docking\n",
    "\n",
    "get_ipython().magic(u'matplotlib inline')"
   ]
  },
  {
   "cell_type": "code",
   "execution_count": null,
   "metadata": {
    "collapsed": false
   },
   "outputs": [],
   "source": [
    "gpcrs = ['B1AR','B2AR','A2AR']\n",
    "kinases = ['BRAF','CDK2','CHK1','JAK2','PLK1']\n",
    "nuclear = ['AR','ERA','GCR','VITD']\n",
    "\n",
    "proteins = ['BRAF']"
   ]
  },
  {
   "cell_type": "code",
   "execution_count": null,
   "metadata": {
    "collapsed": false
   },
   "outputs": [],
   "source": [
    "all_data = Dataset(proteins)\n",
    "\n",
    "ligands = {p:prot.lm.pdb for p,prot in all_data.proteins.items()}\n",
    "st = {p:prot.lm.grids for p,prot in all_data.proteins.items()}\n",
    "all_data.load(ligands, st, load_fp=False, load_mcss=False)"
   ]
  },
  {
   "cell_type": "code",
   "execution_count": null,
   "metadata": {
    "collapsed": false,
    "scrolled": false
   },
   "outputs": [],
   "source": [
    "n_list = [1,5,25,100,300]\n",
    "show_only_st_that_all_docked = False\n",
    "\n",
    "for prot, p in sorted(all_data.proteins.items()):\n",
    "    for st, s in sorted(p.docking.items()):\n",
    "        all_rmsds = [ [] for n in n_list ]\n",
    "\n",
    "        rmsds = s.glide_perf(n_list=n_list, ligands=ligands[prot])\n",
    "        if show_only_st_that_all_docked and None in rmsds[0]: continue\n",
    "        for i, n in enumerate(n_list):\n",
    "            all_rmsds[i].extend(rmsds[i])\n",
    "        \n",
    "        plot_docking(all_rmsds, ['top-{}'.format(n) for n in n_list], '{}, {}'.format(prot, st))"
   ]
  },
  {
   "cell_type": "code",
   "execution_count": null,
   "metadata": {
    "collapsed": true
   },
   "outputs": [],
   "source": []
  }
 ],
 "metadata": {
  "kernelspec": {
   "display_name": "Python 2",
   "language": "python",
   "name": "python2"
  },
  "language_info": {
   "codemirror_mode": {
    "name": "ipython",
    "version": 2
   },
   "file_extension": ".py",
   "mimetype": "text/x-python",
   "name": "python",
   "nbconvert_exporter": "python",
   "pygments_lexer": "ipython2",
   "version": "2.7.11"
  }
 },
 "nbformat": 4,
 "nbformat_minor": 0
}
