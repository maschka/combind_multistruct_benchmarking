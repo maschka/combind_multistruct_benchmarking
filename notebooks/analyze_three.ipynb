{
 "cells": [
  {
   "cell_type": "code",
   "execution_count": 1,
   "metadata": {},
   "outputs": [],
   "source": [
    "import sys\n",
    "import os\n",
    "\n",
    "import matplotlib\n",
    "matplotlib.use('Agg')\n",
    "from matplotlib import pyplot as plt\n",
    "import numpy as np\n",
    "\n",
    "sys.path.append(os.getcwd())\n",
    "from load_data import *\n",
    "from plotting_tools import *\n",
    "\n",
    "sys.path.append('../3_score/')\n",
    "from optimize import Scores\n",
    "from fingerprint import FuzzyFingerPrint"
   ]
  },
  {
   "cell_type": "code",
   "execution_count": 2,
   "metadata": {
    "collapsed": true
   },
   "outputs": [],
   "source": [
    "def get_data(\n",
    "        receptor,\n",
    "        rmsd_file = 'xrmsd.csv',\n",
    "        glide = 'xglide',\n",
    "        crystal_ifp = 'ifp/crystal_ifp_3/ifp.fp',\n",
    "        glide_ifp = 'ifp/xglide_ifp_3',\n",
    "        w = [10,10,10,0,0]\n",
    "    ):\n",
    "    \n",
    "    data_set_dir = '/scratch/PI/rondror/docking_data/'+receptor\n",
    "    glide_dir = '{}/{}/'.format(data_set_dir, glide)\n",
    "    crystal_fp_file = '{}/{}'.format(data_set_dir, crystal_ifp)\n",
    "    glide_fp_dir = '{}/{}/'.format(data_set_dir, glide_ifp)\n",
    "    \n",
    "    return load_data(data_set_dir, rmsd_file, glide_dir, crystal_fp_file, glide_fp_dir,w)\n",
    "\n",
    "def sort_data(d):\n",
    "    crystals, glides = d\n",
    "    \n",
    "    ligs = sorted(glides.keys())\n",
    "    if receptor == 'HSP90': ligs = hsp90_ligs(ligs)\n",
    "    if receptor == 'B2AR': ligs = b2ar_ligs(ligs)\n",
    "        \n",
    "    structs = []\n",
    "    for l in ligs:\n",
    "        structs.extend([i for i in glides[l] if i not in structs])\n",
    "    structs.sort()\n",
    "\n",
    "    new_glides = {l:{s:glides[l][s] for s in glides[l] if s in structs} for l in glides if l in ligs}\n",
    "\n",
    "    return crystals, new_glides, ligs, structs\n",
    "\n",
    "def hsp90_ligs(all_ligs):\n",
    "    return [l for l in all_ligs if l not in ['4YKY', '4YKZ', '4YKX']]\n",
    "\n",
    "def b2ar_ligs(all_ligs):\n",
    "    return [l for l in all_ligs if l not in ['3P0G']]\n",
    "\n",
    "def print_table(a):\n",
    "    str1 = '|'\n",
    "    str2 = '|'\n",
    "    for i in ['min','ave','norm','opt','glide','us']:\n",
    "        str1 = '{} {} |'.format(str1, i)\n",
    "        str2 = '{} {} |'.format(str2, str(np.mean(a[i]))[:4])\n",
    "    \n",
    "    print str1\n",
    "    print str2\n",
    "                \n",
    "def analyze(scores):\n",
    "    a = scores.all_analysis\n",
    "    plot_score_breakdown(scores)\n",
    "    plot_n_rmsds(scores)\n",
    "    #plot_clusters(scores)\n",
    "    for i, l in enumerate(scores.ligands):\n",
    "        #if a['us'][1][i] > 2 or a['us'][1][i] > a['glide'][1][i] + 1:\n",
    "        print l\n",
    "        print 'Ligand {}, structure {}, has an rmsd of {}'.format(l, scores.struct, a['us'][1][i])\n",
    "        s = scores.get_final_scores(l)\n",
    "        print 'Glide pose: {}. Score: {}.'.format(a['glide'][0][i], s[a['glide'][0][i]])\n",
    "        print 'Best pose: {}. Score: {}.'.format(a['min'][0][i], s[a['min'][0][i]])\n",
    "        print 'Our pose: {}. Score: {}.'.format(a['us'][0][i], s[a['us'][0][i]])\n",
    "        print 'Neighbors: <lig> [pose_num, pair_score, rmsd]'\n",
    "        scores.print_neighbors(l, a['us'][0][i])\n",
    "        print '----------------'\n",
    "        #for j, l2 in enumerate(scores.ligands):\n",
    "            #if l == l2: continue\n",
    "            #plot_all_poses(l, l2, scores, '{}, {}'.format(l, l2))\n",
    "        \n",
    "        #plot_scores_vs_rmsds(l, scores, lab=l)\n",
    "            \n",
    "    #return [a['glide'][1][:] for l in range(len(scores.ligands))])"
   ]
  },
  {
   "cell_type": "code",
   "execution_count": 3,
   "metadata": {
    "collapsed": true
   },
   "outputs": [],
   "source": [
    "def plot_fp_breakdown(fp_list, label_list, title):\n",
    "    bd = {label_list[i]: fp_breakdown(fp_list[i]) for i in range(len(fp_list))}\n",
    "    fp_ind = np.arange(len(fp_list))\n",
    "    leg = {0:'res=hdonor', 1:'res=hacc', 2:'sb', 3:'lj', 4:''}\n",
    "    plt.bar(fp_ind, [bd[l][0] for l in label_list], label=leg[0])\n",
    "    for i in range(1,len(bd[label_list[0]])):\n",
    "        prev = [sum([bd[l][i-n-1] for n in range(i)]) for l in label_list]\n",
    "        plt.bar(fp_ind, [bd[l][i] for l in label_list], bottom=prev, label=leg[i])\n",
    "    plt.gca().set_xticklabels(label_list, minor=False, rotation='vertical')\n",
    "    plt.gca().set_xticks(np.arange(0,len(label_list),1))\n",
    "    plt.legend()\n",
    "    plt.title(title)\n",
    "    plt.show()\n",
    "    \n",
    "\n",
    "\n",
    "def plot_all_pairs(l1, l2, l3, scores):\n",
    "    plot_all_poses(l1, l2, scores, l1+l2)\n",
    "    plot_all_poses(l1, l3, scores, l1+l3)\n",
    "    plot_all_poses(l2, l3, scores, l2+l3)"
   ]
  },
  {
   "cell_type": "code",
   "execution_count": 11,
   "metadata": {
    "collapsed": true
   },
   "outputs": [],
   "source": [
    "def mul_overlap(fp1, fp2, i=None):\n",
    "    score = 0\n",
    "    for r in fp1.feats:\n",
    "        if r in fp2.feats:\n",
    "            score += np.dot(fp1.feats[r], fp2.feats[r])\n",
    "    return score\n",
    "\n",
    "def distance(fp1, fp2, p=1):\n",
    "    dist = 0\n",
    "    empty = [0,0,0,0,0]\n",
    "    mag1 = 0\n",
    "    mag2 = 0\n",
    "    #is_interaction = lambda fp, r, i: r in fp.feats and True in [fp.feats[r][j] >= 1 for j in i]\n",
    "    all_r = fp1.feats.keys() + [r for r in fp2.feats if r not in fp1.feats.keys()]\n",
    "    for r in all_r:#[r for r in fp1.feats if is_interaction(fp1,r,[0,1,3]) and is_interaction(fp2,r,[0,1,3])]:\n",
    "        vec1 = np.square(fp1.feats.get(r,empty))\n",
    "        vec2 = np.square(fp2.feats.get(r,empty))\n",
    "        dist += np.linalg.norm(np.subtract(vec1, vec2),ord=p)**p\n",
    "        mag1 += np.linalg.norm(vec1, ord=p)**p\n",
    "        mag2 += np.linalg.norm(vec2, ord=p)**p\n",
    "    return (dist/(mag1*mag2)**0.5)**(1.0/p)\n",
    "\n",
    "def add_overlap(fp1, fp2, w=[1,1,1,1,1]):\n",
    "    #new_feats = {}\n",
    "    score = 0\n",
    "    empty = [0,0,0,0,0]\n",
    "    for r in fp1.feats.keys() + [i for i in fp2.feats if i not in fp1.feats]:\n",
    "        vec1 = np.square(np.multiply(fp1.feats.get(r,empty),w))\n",
    "        vec2 = np.square(np.multiply(fp2.feats.get(r,empty),w))\n",
    "        score += np.sum(np.square(np.add(vec1, vec2)))\n",
    "        #score += np.sum(np.square(np.add(, np.square(fp2.feats.get(r,[0,0,0,0,0])))))\n",
    "    #for r in fp2.feats:\n",
    "    #    if r not in fp1.feats:\n",
    "    #        score += np.sum(np.square(np.square(fp2.feats[r])))\n",
    "    return score\n",
    "\n",
    "def score_fp(fp):\n",
    "    return np.sum([np.sum(fp.feats[r]) for r in fp.feats])\n",
    "\n",
    "def score_three_mul(fp1, fp2, fp3, overlap=mul_overlap):\n",
    "    return score_fp(overlap(overlap(fp1, fp2), fp3))\n",
    "\n",
    "def score_three_sum(fp1, fp2, fp3, overlap=mul_overlap):\n",
    "    return overlap(fp1, fp2) + overlap(fp1, fp3) + overlap(fp2, fp3)\n",
    "    #return score_fp(overlap(fp1, fp2))+score_fp(overlap(fp1, fp3))+score_fp(overlap(fp2, fp3))\n",
    "\n",
    "def fp_breakdown(fp):\n",
    "    bd = {}\n",
    "    for r in fp.feats:\n",
    "        for i, s in enumerate(fp.feats[r]):\n",
    "            bd[i] = bd.get(i,0) + s\n",
    "    return bd"
   ]
  },
  {
   "cell_type": "code",
   "execution_count": 12,
   "metadata": {
    "collapsed": true
   },
   "outputs": [],
   "source": [
    "def plot_ifp_comparison(fp1, fp2, i=[0,1,2,3], lab1='fp1', lab2='fp2', title={0:'res=hdonor',1:'res=hacc',2:'sb',3:'lj'}):\n",
    "    is_interaction = lambda fp, r, i: r in fp.feats and True in [fp.feats[r][j] >= 1 for j in i]\n",
    "    sort_key = lambda r: int(r)\n",
    "    fp1_res = sorted([r for r in fp1.feats if is_interaction(fp1, r, i) and not is_interaction(fp2, r, i)], key=sort_key)\n",
    "    both_res= sorted([r for r in fp1.feats if is_interaction(fp1, r, i) and is_interaction(fp2, r, i)], key=sort_key)\n",
    "    fp2_res = sorted([r for r in fp2.feats if not is_interaction(fp1, r, i) and is_interaction(fp2, r, i)], key=sort_key)\n",
    "    symb = {0:'*',1:'s',2:'d',3:'.'}\n",
    "    res = fp1_res + both_res + fp2_res\n",
    "    val1 = {j:[] for j in i}\n",
    "    val2 = {j:[] for j in i}\n",
    "    for j in i:\n",
    "        for r in res:\n",
    "            if is_interaction(fp1, r, [j]):\n",
    "                val1[j].append(fp1.feats[r][j]**2)\n",
    "            else:\n",
    "                val1[j].append(-1)\n",
    "            if is_interaction(fp2, r, [j]):\n",
    "                val2[j].append(fp2.feats[r][j]**2)\n",
    "            else:\n",
    "                val2[j].append(-1)\n",
    "        plt.plot(val1[j], symb[j]+'r', markersize=10, label=title[j])\n",
    "        plt.plot(val2[j], symb[j]+'b', markersize=10)\n",
    "    plt.legend()\n",
    "    plt.title('red = {}, blue = {}'.format(lab1, lab2))\n",
    "    plt.gca().set_ylim([0,12])\n",
    "    plt.gca().set_xticklabels(res, minor=False, rotation='vertical')\n",
    "    plt.gca().set_xticks(np.arange(0,len(res),1))\n",
    "    plt.show()\n",
    "    print 'Distance: {}'.format(distance(fp1, fp2, 2))"
   ]
  },
  {
   "cell_type": "code",
   "execution_count": 6,
   "metadata": {},
   "outputs": [
    {
     "name": "stdout",
     "output_type": "stream",
     "text": [
      "Loading crystal structures...\n",
      "Loading glidescores...\n",
      "0 of 169 total pairs failed to dock.\n",
      "Loading fingerprints...\n",
      "Loading docking results...\n"
     ]
    }
   ],
   "source": [
    "receptor = 'CHK1' # ['AR', 'B2AR', 'CHK1', 'CDK2']\n",
    "(xcrystals, xglides, all_ligs, all_structs) = sort_data(get_data(receptor))"
   ]
  },
  {
   "cell_type": "code",
   "execution_count": 7,
   "metadata": {
    "collapsed": true
   },
   "outputs": [],
   "source": [
    "n = 25\n",
    "best_rmsd_matrix = get_docking_stats(all_ligs, all_structs, xglides, n, lambda x: np.min(x) if x != [] else np.nan)"
   ]
  },
  {
   "cell_type": "code",
   "execution_count": 13,
   "metadata": {},
   "outputs": [
    {
     "data": {
      "image/png": "[encoded data removed]",
      "text/plain": [
       "<matplotlib.figure.Figure at 0x7f16b085b8d0>"
      ]
     },
     "metadata": {},
     "output_type": "display_data"
    }
   ],
   "source": [
    "get_ipython().magic(u'matplotlib inline')\n",
    "lig_subset = ['4FSM', '4FSN', '4FSQ','4FSR','4FSW','4FSZ','4FT0','4FT5']\n",
    "struct = '4FT7'\n",
    "crystal_cluster = {(l, -1):xcrystals[l].fp for l in xcrystals}#lig_subset}\n",
    "plot_shared_interactions(crystal_cluster, max_r=20,title='Crystal')"
   ]
  },
  {
   "cell_type": "code",
   "execution_count": 14,
   "metadata": {},
   "outputs": [],
   "source": [
    "scores = Scores(xglides, xcrystals, lig_subset, '4FT7', n, mul_overlap)"
   ]
  },
  {
   "cell_type": "code",
   "execution_count": 15,
   "metadata": {},
   "outputs": [
    {
     "data": {
      "image/png": "[encoded data removed]",
      "text/plain": [
       "<matplotlib.figure.Figure at 0x7f168cea7d50>"
      ]
     },
     "metadata": {},
     "output_type": "display_data"
    }
   ],
   "source": [
    "get_ipython().magic(u'matplotlib inline')\n",
    "plot_shared_interactions(scores.get_best_cluster(), max_r=20,title='Best')"
   ]
  },
  {
   "cell_type": "code",
   "execution_count": 16,
   "metadata": {},
   "outputs": [
    {
     "data": {
      "image/png": "[encoded data removed]",
      "text/plain": [
       "<matplotlib.figure.Figure at 0x7f1686c27710>"
      ]
     },
     "metadata": {},
     "output_type": "display_data"
    }
   ],
   "source": [
    "opt_cluster = [(l,p) for (l,p) in scores.optimized_scores.items()]\n",
    "#print opt_cluster\n",
    "opt_cluster = {(l,p):xglides[l][struct].poses[p].fp for (l,p) in opt_cluster}\n",
    "#print opt_cluster\n",
    "get_ipython().magic(u'matplotlib inline')\n",
    "plot_shared_interactions(opt_cluster, max_r=20,title='Opt')"
   ]
  },
  {
   "cell_type": "code",
   "execution_count": 17,
   "metadata": {},
   "outputs": [
    {
     "data": {
      "image/png": "[encoded data removed]",
      "text/plain": [
       "<matplotlib.figure.Figure at 0x7f1689501590>"
      ]
     },
     "metadata": {},
     "output_type": "display_data"
    }
   ],
   "source": [
    "final_rmsds = plot_final_rmsds(scores, receptor+' docked to: '+'4FT7')"
   ]
  },
  {
   "cell_type": "code",
   "execution_count": 19,
   "metadata": {
    "scrolled": false
   },
   "outputs": [],
   "source": [
    "#get_ipython().magic(u'matplotlib inline')\n",
    "#for l in lig_subset:\n",
    "#    top_p = int(np.argmax(scores.get_final_scores(l)[:-1]))\n",
    "#    plot_shared_interactions(scores.get_neighbor_cluster(l,top_p), max_r=20, title=l)\n",
    "    "
   ]
  },
  {
   "cell_type": "code",
   "execution_count": null,
   "metadata": {
    "collapsed": true
   },
   "outputs": [],
   "source": [
    "three_ligs = ['4FSM','4FSN','4FSQ']\n",
    "(l1,l2,l3) = tuple(three_ligs)\n",
    "struct = '4FT7'\n",
    "\n",
    "pairs = [('4FSM', '4FSN'), ('4FSQ','4FSM'), ('4FSM','4FSR'),('4FSW','4FSZ'),('4FSW','4FT0'),('4FT5','4FSN')]"
   ]
  },
  {
   "cell_type": "code",
   "execution_count": null,
   "metadata": {
    "collapsed": true
   },
   "outputs": [],
   "source": [
    "get_ipython().magic(u'matplotlib inline')\n",
    "for (l1, l2) in pairs:\n",
    "    scores1 = Scores(xglides, xcrystals, [l1,l2], struct, n, distance)\n",
    "    scores2 = Scores(xglides, xcrystals, [l1,l2], struct, n, mul_overlap)\n",
    "    scores3 = Scores(xglides, xcrystals, [l1,l2], struct, n, add_overlap)\n",
    "    #scores4 = Scores(xglides, xcrystals, [l1,l2], struct, n, pair_score)\n",
    "    plot_all_poses(l1, l2, scores1, '{},{},{}'.format(l1, l2, 'l1-dist'))\n",
    "    plot_all_poses(l1, l2, scores2, '{},{},{}'.format(l1, l2, 'mult'))\n",
    "    plot_all_poses(l1, l2, scores3, '{},{},{}'.format(l1, l2, 'add'))\n",
    "    #plot_all_poses(l1, l2, scores4, '{},{},{}'.format(l1, l2, 'mul-dist'))\n",
    "    \n",
    "    plot_ifp_comparison(xcrystals[l1].fp, xcrystals[l2].fp, lab1=l1, lab2=l2)"
   ]
  },
  {
   "cell_type": "code",
   "execution_count": null,
   "metadata": {
    "collapsed": true
   },
   "outputs": [],
   "source": [
    "get_ipython().magic(u'matplotlib inline')\n",
    "\n",
    "(l1_b, l1_t) = 3, 13\n",
    "(l2_b, l2_t) = 5, 11\n",
    "(l3_b, l3_t) = 3, 19\n",
    "\n",
    "fp1 = xglides[l1][struct].poses[l1_b].fp\n",
    "fp2 = xglides[l2][struct].poses[l2_b].fp\n",
    "fp3 = xglides[l3][struct].poses[l3_b].fp\n",
    "\n",
    "lab1 = l1 + ' Best'\n",
    "lab2 = l2 + ' Best'\n",
    "lab3 = l3 + ' Best'\n",
    "\n",
    "plot_ifp_comparison(fp1, fp2, i=[0,1,3], lab1=lab1, lab2=lab2)\n",
    "plot_ifp_comparison(fp1, fp3, i=[0,1,3], lab1=lab1, lab2=lab3)\n",
    "plot_ifp_comparison(fp2, fp3, i=[0,1,3], lab1=lab2, lab2=lab3)"
   ]
  },
  {
   "cell_type": "code",
   "execution_count": null,
   "metadata": {
    "collapsed": true
   },
   "outputs": [],
   "source": [
    "fp4 = xglides[l1][struct].poses[l1_t].fp\n",
    "fp5 = xglides[l2][struct].poses[l2_t].fp\n",
    "fp6 = xglides[l3][struct].poses[l3_t].fp\n",
    "\n",
    "lab4 = l1 + ' Top'\n",
    "lab5 = l2 + ' Top'\n",
    "lab6 = l3 + ' Top'\n",
    "\n",
    "plot_ifp_comparison(fp4, fp5, i=[0,1,3], lab1=lab4, lab2=lab5)\n",
    "plot_ifp_comparison(fp4, fp6, i=[0,1,3], lab1=lab4, lab2=lab6)\n",
    "plot_ifp_comparison(fp5, fp6, i=[0,1,3], lab1=lab5, lab2=lab6)"
   ]
  },
  {
   "cell_type": "code",
   "execution_count": null,
   "metadata": {
    "collapsed": true
   },
   "outputs": [],
   "source": [
    "pose_ind = [(-1,-1,-1)]\n",
    "x = [0]\n",
    "y1 = [list_add_overlap([xcrystals[l1].fp, xcrystals[l2].fp, xcrystals[l3].fp])]\n",
    "y2 = [list_distance([xcrystals[l1].fp, xcrystals[l2].fp, xcrystals[l3].fp])]\n",
    "for p1 in range(n):\n",
    "    print p1\n",
    "    f1 = xglides[l1][struct].poses[p1]\n",
    "    for p2 in range(n):\n",
    "        f2 = xglides[l2][struct].poses[p2]\n",
    "        for p3 in range(n):\n",
    "            pose_ind.append((p1, p2, p3))\n",
    "            f3 = xglides[l3][struct].poses[p3]\n",
    "            x.append((f1.rmsd+f2.rmsd+f3.rmsd)/3)\n",
    "            y1.append(list_add_overlap([f1.fp, f2.fp, f3.fp]))\n",
    "            y2.append(list_distance([f1.fp, f2.fp, f3.fp]))\n",
    "#top_sum = int(np.argmax(y_sum[1:]) + 1)\n",
    "#(p1_s, p2_s, p3_s) = pose_ind[top_sum]\n",
    "#top_mul = int(np.argmax(y_mul[1:]) + 1)\n",
    "#(p1_m, p2_m, p3_m) = pose_ind[top_mul]\n",
    "#print 'Sum Objective RMSD: {}, Score: {}'.format(x[top_sum], y_sum[top_sum])\n",
    "#print 'Top triplet: {}: {}. {}: {}. {}:{}.'.format(l1, p1_s, l2, p2_s, l3, p3_s)\n",
    "#print 'Mul Objective RMSD: {}, Score: {}'.format(x[top_mul], y_mul[top_mul])\n",
    "#print 'Top triplet: {}: {}. {}: {}. {}:{}.'.format(l1, p1_m, l2, p2_m, l3, p3_m)\n",
    "plt.plot(x, y1, '.')\n",
    "plt.title('Add Objective: ' + struct)\n",
    "plt.show()\n",
    "plt.plot(x, y2, '.')\n",
    "plt.title('Dist Objective: ' + struct)\n",
    "plt.show()\n",
    "#f_list_mul = [xglides[l1][struct].poses[p1_m].fp, xglides[l2][struct].poses[p2_m].fp, xglides[l3][struct].poses[p3_m].fp]\n",
    "#f_list_sum = [xglides[l1][struct].poses[p1_s].fp, xglides[l2][struct].poses[p2_s].fp, xglides[l3][struct].poses[p3_s].fp]\n",
    "\n",
    "#three_crystals = [xcrystals[l1].fp, xcrystals[l2].fp, xcrystals[l3].fp]\n",
    "#plot_fp_breakdown(three_crystals + [overlap(three_crystals[0], three_crystals[1]),\n",
    "#                  overlap(three_crystals[0], three_crystals[2]),\n",
    "#                  overlap(three_crystals[1], three_crystals[2]),\n",
    "#                  overlap(overlap(three_crystals[0], three_crystals[1]), three_crystals[2])],\n",
    "#                  [l1, l2, l3, l1+l2, l1+l3, l2+l3, 'all'], 'Crystal Cluster. RMSD: 0')\n",
    "\n",
    "#plot_fp_breakdown(f_list_mul + [overlap(f_list_mul[0], f_list_mul[1]),\n",
    "#                  overlap(f_list_mul[0], f_list_mul[2]),\n",
    "#                  overlap(f_list_mul[1], f_list_mul[2]),\n",
    "#                  overlap(overlap(f_list_mul[0], f_list_mul[1]), f_list_mul[2])],\n",
    "#                  [l1, l2, l3, l1+l2, l1+l3, l2+l3, 'all'], 'Top Mul Cluster. RMSD: {}'.format(x[top_mul]))\n",
    "\n",
    "#plot_fp_breakdown(f_list_sum + [overlap(f_list_sum[0], f_list_sum[1]),\n",
    "#                  overlap(f_list_sum[0], f_list_sum[2]),\n",
    "#                  overlap(f_list_sum[1], f_list_sum[2]),\n",
    "#                  overlap(overlap(f_list_sum[0], f_list_sum[1]), f_list_sum[2])],\n",
    "#                  [l1, l2, l3, l1+l2, l1+l3, l2+l3, 'all'], 'Top Sum Cluster. RMSD: {}'.format(x[top_sum]))\n",
    "    \n",
    "#print 'average across all data:'\n",
    "#print_table(all_final)"
   ]
  },
  {
   "cell_type": "code",
   "execution_count": null,
   "metadata": {
    "collapsed": true,
    "scrolled": true
   },
   "outputs": [],
   "source": [
    "for combo in range(10):\n",
    "    combo_obj = np.subtract(y1, np.multiply(combo*10,y2))\n",
    "    top_obj = int(np.argmax(combo_obj[1:]) + 1)\n",
    "    print '{}, Top RMSD: {}, Score: {}'.format(combo, x[top_obj], combo_obj[top_obj])\n",
    "    \n",
    "    (p1_s, p2_s, p3_s) = pose_ind[top_obj]\n",
    "    print 'Top triplet: {}: {}. {}: {}. {}:{}.'.format(l1, p1_s, l2, p2_s, l3, p3_s)\n",
    "    \n",
    "    plt.plot(x, combo_obj, '.')\n",
    "    plt.title(combo)\n",
    "    plt.show()"
   ]
  },
  {
   "cell_type": "code",
   "execution_count": null,
   "metadata": {
    "collapsed": true
   },
   "outputs": [],
   "source": [
    "def pair_score(fp1, fp2, i=None):\n",
    "    return mul_overlap(fp1, fp2) - 20*distance(fp1, fp2, 1)\n",
    "\n",
    "def list_add_overlap(fp_list):\n",
    "    res_intersect = set([r for i in fp_list for r in i.feats.keys()])\n",
    "    new_feats = {}\n",
    "    score = 0\n",
    "    for r in res_intersect:\n",
    "        for fp in fp_list:\n",
    "            new_feats[r] = np.add(new_feats.get(r, [0,0,0,0,0]), np.square(fp.feats.get(r,[0,0,0,0,0])))\n",
    "        #new_feats[r] = np.add(fp1.feats[r], fp2.feats.get(r,[0,0,0,0,0]))\n",
    "        score += np.sum(np.square(new_feats[r]))\n",
    "    return score\n",
    "    \n",
    "def list_distance(fp_list, p=1):\n",
    "    score = 0\n",
    "    for i in range(len(fp_list)):\n",
    "        for j in range(i+1, len(fp_list)):\n",
    "            score += distance(fp_list[i], fp_list[j], p)\n",
    "    return score\n",
    "\n",
    "def objective(fp_list, p=1, scale=1):\n",
    "    return list_add_overlap(fp_list) - scale*list_distance(fp_list, p)"
   ]
  },
  {
   "cell_type": "code",
   "execution_count": null,
   "metadata": {
    "collapsed": true,
    "scrolled": false
   },
   "outputs": [],
   "source": [
    "get_ipython().magic(u'matplotlib inline')\n",
    "\n",
    "all_final = {}\n",
    "\n",
    "good_ligs = three_ligs#['4FSM','4FSN','4FSQ']#,'4FT0']\n",
    "#[l for l in all_ligs if best_rmsd_matrix[all_structs.index(struct)][all_ligs.index(l)] < 1.5]\n",
    "# all_ligs = ['4FSM', '4FSN', '4FSQ', '4FSR', '4FSW', '4FSZ', '4FT0', '4FT5']\n",
    "#if False in good_poses: \n",
    "#    print 'no good poses found for some ligands! proceed with caution...'\n",
    "\n",
    "scores = Scores(xglides, xcrystals, good_ligs, struct, n, pair_score)\n",
    "final_rmsds = plot_final_rmsds(scores, receptor+' docked to: '+struct)\n",
    "\n",
    "#plot_all_pairs(l1,l2,l3,scores)\n",
    "\n",
    "# print out our performance\n",
    "a = scores.all_analysis\n",
    "print_table({i:a[i][1][:] for i in a})\n",
    "\n",
    "analyze(scores)"
   ]
  },
  {
   "cell_type": "code",
   "execution_count": null,
   "metadata": {
    "collapsed": true
   },
   "outputs": [],
   "source": []
  }
 ],
 "metadata": {
  "anaconda-cloud": {},
  "kernelspec": {
   "display_name": "Python 2",
   "language": "python",
   "name": "python2"
  },
  "language_info": {
   "codemirror_mode": {
    "name": "ipython",
    "version": 2
   },
   "file_extension": ".py",
   "mimetype": "text/x-python",
   "name": "python",
   "nbconvert_exporter": "python",
   "pygments_lexer": "ipython2",
   "version": "2.7.11"
  }
 },
 "nbformat": 4,
 "nbformat_minor": 1
}
