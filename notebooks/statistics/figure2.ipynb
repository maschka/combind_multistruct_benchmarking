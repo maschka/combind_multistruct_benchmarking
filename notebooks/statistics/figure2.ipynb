{
 "cells": [
  {
   "cell_type": "markdown",
   "metadata": {},
   "source": [
    "# Statistics Figure Panels"
   ]
  },
  {
   "cell_type": "code",
   "execution_count": 1,
   "metadata": {},
   "outputs": [],
   "source": [
    "import matplotlib.pyplot as plt\n",
    "import numpy as np\n",
    "import sys\n",
    "sys.path.append('../../')\n",
    "from score.density_estimate import DensityEstimate\n",
    "from shared_paths import proteins, shared_paths, feature_defs\n",
    "from score.statistics import statistics\n",
    "import os\n",
    "from glob import glob\n",
    "%matplotlib inline"
   ]
  },
  {
   "cell_type": "code",
   "execution_count": null,
   "metadata": {},
   "outputs": [
    {
     "name": "stdout",
     "output_type": "stream",
     "text": [
      "Computing statistics for: CHRM3\n"
     ]
    }
   ],
   "source": [
    "stats = statistics(proteins, feature_defs.keys())"
   ]
  },
  {
   "cell_type": "code",
   "execution_count": null,
   "metadata": {},
   "outputs": [],
   "source": [
    "names = {\n",
    "    'hbond'  : 'Hydrogen Bond',\n",
    "    'sb'     : 'Salt Bridge',\n",
    "    'contact': 'Contact',\n",
    "    'mcss'   : 'MCSS',\n",
    "}\n",
    "\n",
    "f, ax = plt.subplots(1, 3, figsize = (6, 1.5))\n",
    "for i, interaction in enumerate(['hbond', 'sb', 'contact']):\n",
    "    ref = stats['reference'][interaction]\n",
    "    nat = stats['native'][interaction]\n",
    "    \n",
    "    ax[i].spines['left'].set_visible(False)\n",
    "    ax[i].spines['right'].set_visible(False)\n",
    "    ax[i].spines['top'].set_visible(False)\n",
    "    \n",
    "    ax[i].plot(ref.x, ref.fx, c = 'b', lw = 3)\n",
    "    ax[i].plot(nat.x, nat.fx, c = 'g', lw = 3)\n",
    "    ax[i].set_title(names[interaction], fontsize = 10, fontdict = {'verticalalignment': 'top'})\n",
    "    ax[i].set_xticks([0, 1])\n",
    "    ax[i].set_xticklabels([0, 1], fontsize = 8)\n",
    "    ax[i].set_yticks([])\n",
    "    ax[i].set_ylim(0)\n",
    "#plt.subplots_adjust(wspace = 0.1, top = 0.1, bottom = 0.0, left = 0.1, right = 0.9)\n",
    "plt.tight_layout()\n",
    "plt.savefig('../../pymol/figures/fig2_panels/interaction_similarities.pdf')\n",
    "plt.show()"
   ]
  },
  {
   "cell_type": "code",
   "execution_count": 3,
   "metadata": {},
   "outputs": [
    {
     "data": {
      "image/png": "[encoded data removed]",
      "text/plain": [
       "<Figure size 432x108 with 3 Axes>"
      ]
     },
     "metadata": {
      "needs_background": "light"
     },
     "output_type": "display_data"
    }
   ],
   "source": [
    "names = {\n",
    "    'hbond'  : 'Hydrogen Bond',\n",
    "    'sb'     : 'Salt Bridge',\n",
    "    'contact': 'Contact',\n",
    "    'mcss'   : 'MCSS',\n",
    "}\n",
    "\n",
    "f, ax = plt.subplots(1, 3, figsize = (6, 1.5))\n",
    "for i, interaction in enumerate(['hbond', 'sb', 'contact']):\n",
    "    ref = stats['reference'][interaction]\n",
    "    nat = stats['native'][interaction]\n",
    "    \n",
    "    ax[i].spines['left'].set_visible(False)\n",
    "    ax[i].spines['right'].set_visible(False)\n",
    "    ax[i].spines['top'].set_visible(False)\n",
    "    \n",
    "    ax[i].plot(ref.x, ref.fx, c = 'b', lw = 3)\n",
    "    ax[i].plot(nat.x, nat.fx, c = 'g', lw = 3)\n",
    "    ax[i].set_title(names[interaction], fontsize = 10, fontdict = {'verticalalignment': 'top'})\n",
    "    ax[i].set_xticks([0, 1])\n",
    "    ax[i].set_xticklabels([0, 1], fontsize = 8)\n",
    "    ax[i].set_yticks([])\n",
    "    ax[i].set_ylim(0)\n",
    "#plt.subplots_adjust(wspace = 0.1, top = 0.1, bottom = 0.0, left = 0.1, right = 0.9)\n",
    "plt.tight_layout()\n",
    "plt.savefig('../../pymol/figures/fig2_panels/interaction_similarities.pdf')\n",
    "plt.show()"
   ]
  },
  {
   "cell_type": "code",
   "execution_count": 4,
   "metadata": {},
   "outputs": [
    {
     "data": {
      "image/png": "[encoded data removed]",
      "text/plain": [
       "<Figure size 151.2x108 with 1 Axes>"
      ]
     },
     "metadata": {
      "needs_background": "light"
     },
     "output_type": "display_data"
    }
   ],
   "source": [
    "# The spacing at edges of figure is slightly bigger than the spacing\n",
    "# between panels in the above. The result is that we need to make\n",
    "# a 5% wider figure than you would expect by simple division to get\n",
    "# figures that are exactlty the same dimension.\n",
    "\n",
    "f, ax = plt.subplots(1, 1, figsize = (2*1.05, 1.5))\n",
    "ref = stats['reference']['mcss']\n",
    "nat = stats['native']['mcss']\n",
    "\n",
    "ax.spines['left'].set_visible(False)\n",
    "ax.spines['right'].set_visible(False)\n",
    "ax.spines['top'].set_visible(False)\n",
    "ax.plot(ref.x, ref.fx, c = 'b', lw = 3)\n",
    "ax.plot(nat.x, nat.fx, c = 'g', lw = 3)\n",
    "ax.set_title(names['mcss'], fontsize = 10, fontdict = {'verticalalignment': 'top'})\n",
    "ax.set_xticks([0, 2, 5, 10])\n",
    "ax.set_xticklabels([0, 2, 5, 10], fontsize = 8)\n",
    "ax.set_yticks([])\n",
    "ax.set_ylim(0)\n",
    "\n",
    "plt.tight_layout()\n",
    "plt.savefig('../../pymol/figures/fig2_panels/mcss_similarities.pdf')\n",
    "plt.show()"
   ]
  },
  {
   "cell_type": "code",
   "execution_count": null,
   "metadata": {
    "collapsed": true
   },
   "outputs": [],
   "source": []
  }
 ],
 "metadata": {
  "anaconda-cloud": {},
  "kernelspec": {
   "display_name": "Python 3",
   "language": "python",
   "name": "python3"
  },
  "language_info": {
   "codemirror_mode": {
    "name": "ipython",
    "version": 3
   },
   "file_extension": ".py",
   "mimetype": "text/x-python",
   "name": "python",
   "nbconvert_exporter": "python",
   "pygments_lexer": "ipython3",
   "version": "3.7.1"
  }
 },
 "nbformat": 4,
 "nbformat_minor": 2
}
