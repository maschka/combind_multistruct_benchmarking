{
 "cells": [
  {
   "cell_type": "code",
   "execution_count": 7,
   "metadata": {},
   "outputs": [],
   "source": [
    "import sys\n",
    "sys.path.append('/Users/jpaggi/Downloads/combind_code')\n",
    "from containers import Protein\n",
    "from shared_paths import shared_paths\n",
    "\n",
    "shared_paths['data'] = '/Users/jpaggi/Downloads/combind_data/bpp_data'"
   ]
  },
  {
   "cell_type": "code",
   "execution_count": 24,
   "metadata": {},
   "outputs": [],
   "source": [
    "prot = Protein('5HT2B')\n",
    "prot.load_docking(prot.lm.pdb, load_mcss=True, load_fp=True)"
   ]
  },
  {
   "cell_type": "code",
   "execution_count": 25,
   "metadata": {},
   "outputs": [
    {
     "name": "stdout",
     "output_type": "stream",
     "text": [
      "4IB4_lig 0.93470269228 0.203658899888\n",
      "5TVN_lig 2.28691669722 0.744893194306\n",
      "6DRX_lig 0.95267256861 0.649758630877\n",
      "6DRY_lig 1.94883188445 0.830607985984\n",
      "6DRZ_lig 2.76714946309 1.10537217631\n",
      "6DS0_lig 3.53928570219 0.705401409381\n"
     ]
    }
   ],
   "source": [
    "for name, ligand in prot.docking[prot.lm.st].ligands.items():\n",
    "    print(name, ligand.poses[0].rmsd, min(map(lambda x: x.rmsd, ligand.poses)))"
   ]
  },
  {
   "cell_type": "code",
   "execution_count": 23,
   "metadata": {},
   "outputs": [
    {
     "name": "stdout",
     "output_type": "stream",
     "text": [
      "4IB4_crystal_lig-6DS0_lig False ['CNCCc1c2c(nc1)cccc2'] ['C[N+]CCc1cnc2c1cccc2']\n",
      "5TVN_lig-6DRX_lig True ['C=1CCN(C)C(C=12)Cc3c4c(nc3)cccc24'] ['C=1CCN(C)C(C=12)C=C3c4c(N=C3)cccc24']\n",
      "5TVN_lig-6DRY_lig True ['CCNC(=O)C(C=1)CN(C)C2Cc3cnc(ccc4)c3c4C=12'] ['CCNC(=O)C(C1)C[N+](C)C2Cc3cnc(ccc4)c3c4C12']\n",
      "4IB4_lig-6DRX_lig True ['C=1CCN(C)C(C=12)Cc3c4c(nc3)cccc24'] ['C=1CCN(C)C(C=12)C=C3c4c(N=C3)cccc24']\n",
      "5TVN_lig-6DS0_lig True ['CNCCc1c2c(nc1)cccc2'] ['C[N+]CCc1cnc2c1cccc2']\n",
      "5TVN_lig-6DRZ_lig True ['CCNC(=O)C(C=1)CN(C)C2Cc3cnc(ccc4)c3c4C=12'] ['CCNC(=O)C(C=1)CN(C)C2C=C3C=[N+]c(ccc4)c3c4C=12']\n",
      "6DRX_lig-6DRZ_lig True ['C=1CCN(C)C(C=12)C=C3c4c(N=C3)cccc24'] ['C=1CCN(C)C(C=12)C=C3c4c([N+]=C3)cccc24']\n",
      "4IB4_lig-6DS0_lig False ['CNCCc1c2c(nc1)cccc2'] ['C[N+]CCc1cnc2c1cccc2']\n",
      "6DRZ_lig-6DS0_lig False ['CNCC=C1c2c([N+]=C1)cccc2'] ['C[N+]CCc1cnc2c1cccc2']\n",
      "6DRY_lig-6DS0_lig True ['C[N+]CCc1c2c(nc1)cccc2'] ['C[N+]CCc1cnc2c1cccc2']\n",
      "6DRX_lig-6DRY_lig True ['C=1CCN(C)C(C=12)C=C3c4c(N=C3)cccc24'] ['C1CC[N+](C)C(C12)Cc3c4c(nc3)cccc24']\n",
      "4IB4_crystal_lig-6DRZ_lig True ['CN1CC(C(=O)N)C=C(C12)c3c4c(C2)cnc4ccc3'] ['CN1CC(C(=O)N)C=C(C12)c3c4c(ccc3)[N+]=CC4=C2']\n",
      "4IB4_lig-6DRY_lig True ['CN1CC(C(=O)N)C=C(C12)c3c4c(C2)cnc4ccc3'] ['C[N+]1CC(C(=O)N)CC(C12)c3c4c(C2)cnc4ccc3']\n",
      "6DRY_lig-6DRZ_lig True ['CCC(CO)NC(=O)C(C1)C[N+](C)C2Cc3cnc(ccc4)c3c4C12'] ['CCC(CO)NC(=O)C(C=1)CN(C)C2C=C3C=[N+]c(ccc4)c3c4C=12']\n",
      "4IB4_lig-6DRZ_lig True ['CN1CC(C(=O)N)C=C(C12)c3c4c(C2)cnc4ccc3'] ['CN1CC(C(=O)N)C=C(C12)c3c4c(ccc3)[N+]=CC4=C2']\n",
      "6DRX_lig-6DS0_lig True ['CNCC=C1c2c(N=C1)cccc2'] ['C[N+]CCc1cnc2c1cccc2']\n",
      "4IB4_crystal_lig-5TVN_lig True ['CN1CC(C(=O)N)C=C(C12)c3c4c(C2)cnc4ccc3'] ['CN1CC(C(=O)N)C=C(C12)c3c4c(C2)cnc4ccc3']\n",
      "4IB4_crystal_lig-6DRY_lig True ['CN1CC(C(=O)N)C=C(C12)c3c4c(C2)cnc4ccc3'] ['C[N+]1CC(C(=O)N)CC(C12)c3c4c(C2)cnc4ccc3']\n",
      "4IB4_crystal_lig-6DRX_lig True ['C=1CCN(C)C(C=12)Cc3c4c(nc3)cccc24'] ['C=1CCN(C)C(C=12)C=C3c4c(N=C3)cccc24']\n",
      "4IB4_lig-5TVN_lig True ['CN1CC(C(=O)N)C=C(C12)c3c4c(C2)cnc4ccc3'] ['CN1CC(C(=O)N)C=C(C12)c3c4c(C2)cnc4ccc3']\n"
     ]
    }
   ],
   "source": [
    "for pair, mcss in prot.lm.mcss.MCSSs.items():\n",
    "    if 'CHEMBL' not in pair:\n",
    "        print(pair, mcss.is_valid(), mcss.smarts_l1, mcss.smarts_l2)"
   ]
  },
  {
   "cell_type": "code",
   "execution_count": null,
   "metadata": {},
   "outputs": [],
   "source": []
  }
 ],
 "metadata": {
  "kernelspec": {
   "display_name": "Python 3",
   "language": "python",
   "name": "python3"
  },
  "language_info": {
   "codemirror_mode": {
    "name": "ipython",
    "version": 3
   },
   "file_extension": ".py",
   "mimetype": "text/x-python",
   "name": "python",
   "nbconvert_exporter": "python",
   "pygments_lexer": "ipython3",
   "version": "3.7.3"
  }
 },
 "nbformat": 4,
 "nbformat_minor": 2
}
