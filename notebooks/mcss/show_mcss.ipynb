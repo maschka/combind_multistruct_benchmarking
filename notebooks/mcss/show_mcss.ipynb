{
 "cells": [
  {
   "cell_type": "code",
   "execution_count": 1,
   "metadata": {},
   "outputs": [],
   "source": [
    "import sys\n",
    "sys.path.append('../../')\n",
    "from containers import Protein\n",
    "from shared_paths import shared_paths\n",
    "import numpy as np\n",
    "\n",
    "shared_paths['data'] = '/Users/jpaggi/Downloads/combind_data/bpp_data'\n",
    "\n",
    "import matplotlib.pyplot as plt\n",
    "%matplotlib inline"
   ]
  },
  {
   "cell_type": "code",
   "execution_count": 12,
   "metadata": {},
   "outputs": [],
   "source": [
    "prot = Protein('HSP90AA1')\n",
    "prot.load_docking(prot.lm.docked(prot.lm.pdb)[:30], load_mcss=True, load_fp=False)"
   ]
  },
  {
   "cell_type": "code",
   "execution_count": 13,
   "metadata": {},
   "outputs": [
    {
     "name": "stdout",
     "output_type": "stream",
     "text": [
      "1YC1_lig 0.404547285101 0.207842400645\n",
      "1YC4_lig 0.565247449997 0.562152335467\n",
      "1YET_lig 6.90265611654 3.53850430072\n",
      "2QFO_lig 2.06608665257 0.652729152737\n",
      "2QG0_lig 5.73473663853 2.23405594344\n",
      "2QG2_lig 7.43374080761 4.37767593302\n",
      "2UWD_lig 0.578485136649 0.357299403135\n",
      "2XAB_lig 1.79188229759 1.78353712956\n",
      "2XDK_lig 3.99645454455 0.378252134969\n",
      "2XDL_lig 0.866528684602 0.590403179585\n",
      "2XDX_lig 3.76009280783 0.623371138833\n",
      "2XHT_lig 2.60946350413 0.629458698969\n",
      "2XJG_lig 1.79041711455 1.7309219603\n",
      "2XJJ_lig 1.53486421687 1.50977360756\n",
      "2XJX_lig 3.41490419144 2.70850649945\n",
      "2YI0_lig 5.67034002886 0.640718808963\n",
      "2YI7_lig 1.78473933748 1.53003744321\n",
      "2YKI_lig 8.90605404855 7.38589836543\n",
      "3B24_lig 3.87400392946 1.54853996912\n",
      "3B25_lig 5.38579450392 2.94697770809\n",
      "3B26_lig 4.7331349179 1.77335248466\n",
      "3B27_lig 4.73381354272 0.934553870665\n",
      "3D0B_lig 7.00860353336 4.42744750122\n",
      "3EKO_lig 5.13649584475 0.585786550489\n",
      "3EKR_lig 5.79146060467 4.35977242103\n",
      "3HEK_lig 2.05931431568 1.28649833403\n",
      "3K97_lig 1.67073085576 1.67073085576\n",
      "3QDD_lig 6.03763732533 4.10061388776\n",
      "3R4N_lig 5.31272684306 1.01242573717\n",
      "3R4P_lig 2.55439835345 1.87037900092\n"
     ]
    }
   ],
   "source": [
    "for name, ligand in prot.docking[prot.lm.st].ligands.items():\n",
    "    print(name, ligand.poses[0].rmsd, min(map(lambda x: x.rmsd, ligand.poses)))"
   ]
  },
  {
   "cell_type": "code",
   "execution_count": 14,
   "metadata": {},
   "outputs": [
    {
     "name": "stdout",
     "output_type": "stream",
     "text": [
      "1YC1_lig 0.404547285101 0.207842400645\n",
      "1YC4_lig 0.565247449997 0.562152335467\n",
      "1YET_lig 6.90265611654 3.53850430072\n",
      "2QFO_lig 2.06608665257 0.652729152737\n",
      "2QG0_lig 5.73473663853 2.23405594344\n",
      "2QG2_lig 7.43374080761 4.37767593302\n",
      "2UWD_lig 0.578485136649 0.357299403135\n",
      "2XAB_lig 1.79188229759 1.78353712956\n",
      "2XDK_lig 3.99645454455 0.378252134969\n",
      "2XDL_lig 0.866528684602 0.590403179585\n",
      "2XDX_lig 3.76009280783 0.623371138833\n",
      "2XHT_lig 2.60946350413 0.629458698969\n",
      "2XJG_lig 1.79041711455 1.7309219603\n",
      "2XJJ_lig 1.53486421687 1.50977360756\n",
      "2XJX_lig 3.41490419144 2.70850649945\n",
      "2YI0_lig 5.67034002886 0.640718808963\n",
      "2YI7_lig 1.78473933748 1.53003744321\n",
      "2YKI_lig 8.90605404855 7.38589836543\n",
      "3B24_lig 3.87400392946 1.54853996912\n",
      "3B25_lig 5.38579450392 2.94697770809\n",
      "3B26_lig 4.7331349179 1.77335248466\n",
      "3B27_lig 4.73381354272 0.934553870665\n",
      "3D0B_lig 7.00860353336 4.42744750122\n",
      "3EKO_lig 5.13649584475 0.585786550489\n",
      "3EKR_lig 5.79146060467 4.35977242103\n",
      "3HEK_lig 2.05931431568 1.28649833403\n",
      "3K97_lig 1.67073085576 1.67073085576\n",
      "3QDD_lig 6.03763732533 4.10061388776\n",
      "3R4N_lig 5.31272684306 1.01242573717\n",
      "3R4P_lig 2.55439835345 1.87037900092\n"
     ]
    }
   ],
   "source": [
    "for name, ligand in prot.docking[prot.lm.st].ligands.items():\n",
    "    print(name, ligand.poses[0].rmsd, min(map(lambda x: x.rmsd, ligand.poses)))"
   ]
  },
  {
   "cell_type": "code",
   "execution_count": 15,
   "metadata": {},
   "outputs": [
    {
     "name": "stdout",
     "output_type": "stream",
     "text": [
      "1YC1_crystal_lig-2UWD_lig True 27 27 20 ['c1ccccc1-c(c(n)C=O)c-c2ccc(O)cc2O'] ['c1ccccc1-c(c(n)C=O)c-c2ccc([O-])cc2O']\n",
      "1YC1_crystal_lig-2YI7_lig True 27 23 18 ['c1ccccc1-cc(nn)-c2ccc(O)cc2O'] ['c1ccccc1-cc(nn)-c2ccc(O)cc2O']\n",
      "1YC1_crystal_lig-1YC4_lig True 27 20 15 ['CCc1c(O)cc(O)c(c1)-c2nncc2'] ['CCc1c(O)cc(O)c(c1)-c2nncc2']\n",
      "1YC1_crystal_lig-2YI0_lig True 27 22 18 ['c1ccccc1-cc(nn)-c2ccc(O)cc2O'] ['c1ccccc1-cc(nn)-c2ccc(O)cc2O']\n"
     ]
    }
   ],
   "source": [
    "for pair, mcss in prot.lm.mcss.MCSSs.items():\n",
    "    if 'CHEMBL' not in pair:\n",
    "        if not mcss.is_valid(): continue\n",
    "        if 'crystal' not in pair: continue\n",
    "        print(pair, mcss.is_valid(), mcss.n_l1_atoms, mcss.n_l2_atoms, mcss.n_mcss_atoms, mcss.smarts_l1, mcss.smarts_l2)"
   ]
  },
  {
   "cell_type": "code",
   "execution_count": null,
   "metadata": {
    "scrolled": true
   },
   "outputs": [],
   "source": [
    "for pair, mcss in prot.lm.mcss.MCSSs.items():\n",
    "    if 'CHEMBL' not in pair:\n",
    "        if not mcss.is_valid(): continue\n",
    "        if 'crystal' in pair: continue\n",
    "        nat, ref = [], []\n",
    "        for (i, j), rmsd in mcss.rmsds.items():\n",
    "            c1 = prot.docking[prot.lm.st].ligands[mcss.l1].poses[i].rmsd < 2.0\n",
    "            c2 = prot.docking[prot.lm.st].ligands[mcss.l2].poses[j].rmsd < 2.0\n",
    "            if c1 and c2:\n",
    "                nat += [rmsd]\n",
    "            ref += [rmsd]\n",
    "        if not nat: continue\n",
    "        plt.hist([nat, ref], normed=True)\n",
    "        plt.title(pair)\n",
    "        plt.show()"
   ]
  },
  {
   "cell_type": "code",
   "execution_count": null,
   "metadata": {},
   "outputs": [],
   "source": [
    "# Expect 10 if all pairs present.\n",
    "ligands = ['3EML', '5IU7', '5IU8',  '5IUA', '5IUB']\n",
    "for pair, mcss in prot.lm.mcss.MCSSs.items():\n",
    "    if 'CHEMBL' not in pair:\n",
    "        if not mcss.is_valid(): continue\n",
    "        if 'crystal' in pair: continue\n",
    "        l1 = pair.split('_')[0]\n",
    "        l2 = pair.split('-')[1].split('_')[0]\n",
    "        if not (l1 in ligands and l2 in ligands): continue\n",
    "        print(pair, mcss.is_valid(), mcss.smarts_l1, mcss.smarts_l2)"
   ]
  },
  {
   "cell_type": "code",
   "execution_count": null,
   "metadata": {},
   "outputs": [],
   "source": [
    "# Expect 10 if all pairs present.\n",
    "ligands = ['3EML', '5IU7', '5IU8',  '5IUA', '5IUB']\n",
    "for pair, mcss in prot.lm.mcss.MCSSs.items():\n",
    "    if 'CHEMBL' not in pair:\n",
    "        if not mcss.is_valid(): continue\n",
    "        if '2YDO' in pair: continue\n",
    "        if 'crystal' in pair: continue\n",
    "        l1 = pair.split('_')[0]\n",
    "        l2 = pair.split('-')[1].split('_')[0]\n",
    "        if sum([l1 in ligands, l2 in ligands]) != 1: continue\n",
    "        print(pair, mcss.is_valid(), mcss.smarts_l1, mcss.smarts_l2)"
   ]
  },
  {
   "cell_type": "code",
   "execution_count": null,
   "metadata": {},
   "outputs": [],
   "source": [
    "# Expect 10 if all pairs present.\n",
    "ligands = ['3EML', '5IU7', '5IU8',  '5IUA', '5IUB']\n",
    "for pair, mcss in prot.lm.mcss.MCSSs.items():\n",
    "    if 'CHEMBL' not in pair:\n",
    "        if not mcss.is_valid(): continue\n",
    "        if '2YDO' in pair: continue\n",
    "        if 'crystal' in pair: continue\n",
    "        l1 = pair.split('_')[0]\n",
    "        l2 = pair.split('-')[1].split('_')[0]\n",
    "        if sum([l1 in ligands, l2 in ligands]) != 0: continue\n",
    "        print(pair, mcss.is_valid(), mcss.smarts_l1, mcss.smarts_l2)"
   ]
  },
  {
   "cell_type": "code",
   "execution_count": null,
   "metadata": {},
   "outputs": [],
   "source": []
  }
 ],
 "metadata": {
  "kernelspec": {
   "display_name": "Python 3",
   "language": "python",
   "name": "python3"
  },
  "language_info": {
   "codemirror_mode": {
    "name": "ipython",
    "version": 3
   },
   "file_extension": ".py",
   "mimetype": "text/x-python",
   "name": "python",
   "nbconvert_exporter": "python",
   "pygments_lexer": "ipython3",
   "version": "3.7.3"
  }
 },
 "nbformat": 4,
 "nbformat_minor": 2
}
