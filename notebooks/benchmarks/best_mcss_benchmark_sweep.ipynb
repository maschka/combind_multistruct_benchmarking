{
 "cells": [
  {
   "cell_type": "markdown",
   "metadata": {},
   "source": [
    "# Benchmark ComBind on PDB ligands"
   ]
  },
  {
   "cell_type": "code",
   "execution_count": 1,
   "metadata": {
    "collapsed": false
   },
   "outputs": [],
   "source": [
    "import os\n",
    "from glob import glob\n",
    "from benchmark import benchmark\n",
    "\n",
    "%matplotlib inline"
   ]
  },
  {
   "cell_type": "code",
   "execution_count": 2,
   "metadata": {
    "collapsed": false
   },
   "outputs": [
    {
     "name": "stdout",
     "output_type": "stream",
     "text": [
      "mode\tprotein\tligand\tn_ligs\talpha\tfeatures\tcombind_rank\tcombind_rmsd\tglide_rank\tglide_rmsd\tbest_rank\tbest_rmsd\n",
      "\n"
     ]
    }
   ],
   "source": [
    "data = {} # mode, (alpha, features), protein, ligand, scores\n",
    "with open('/Users/jpaggi/Downloads/combind_data/bpp_outputs/stats6_best_mcss.tsv') as fp:\n",
    "    print fp.readline()\n",
    "    for line in fp:\n",
    "        if 'None' in line: continue\n",
    "        (mode, protein, ligand, num_ligs, alpha, features, _, combind_rmsd,\n",
    "         _, glide_rmsd, _, best_rmsd) = line.strip().split('\\t')\n",
    "        alpha, combind_rmsd,glide_rmsd, best_rmsd = float(alpha), float(combind_rmsd),float(glide_rmsd), float(best_rmsd)\n",
    "        num_ligs = int(num_ligs)\n",
    "        if alpha == 0.5: continue\n",
    "        if mode not in data: data[mode] = {}\n",
    "        k = (num_ligs, alpha, features)\n",
    "        if k not in data[mode]: data[mode][k] = {}\n",
    "        if protein not in data[mode][k]: data[mode][k][protein] = {}\n",
    "        data[mode][k][protein][ligand] = (float(combind_rmsd), float(glide_rmsd), float(best_rmsd))"
   ]
  },
  {
   "cell_type": "code",
   "execution_count": 3,
   "metadata": {
    "collapsed": false
   },
   "outputs": [
    {
     "ename": "NameError",
     "evalue": "global name 'np' is not defined",
     "output_type": "error",
     "traceback": [
      "\u001b[0;31m---------------------------------------------------------------------------\u001b[0m",
      "\u001b[0;31mNameError\u001b[0m                                 Traceback (most recent call last)",
      "\u001b[0;32m<ipython-input-3-ac0b57efb1c8>\u001b[0m in \u001b[0;36m<module>\u001b[0;34m()\u001b[0m\n\u001b[1;32m     22\u001b[0m     \u001b[0mplt\u001b[0m\u001b[0;34m.\u001b[0m\u001b[0mshow\u001b[0m\u001b[0;34m(\u001b[0m\u001b[0;34m)\u001b[0m\u001b[0;34m\u001b[0m\u001b[0m\n\u001b[1;32m     23\u001b[0m \u001b[0;34m\u001b[0m\u001b[0m\n\u001b[0;32m---> 24\u001b[0;31m \u001b[0msweep\u001b[0m\u001b[0;34m(\u001b[0m\u001b[0mdata\u001b[0m\u001b[0;34m,\u001b[0m \u001b[0;34m'standard'\u001b[0m\u001b[0;34m,\u001b[0m \u001b[0;34m'pipi_contact_hbond_sb'\u001b[0m\u001b[0;34m)\u001b[0m\u001b[0;34m\u001b[0m\u001b[0m\n\u001b[0m\u001b[1;32m     25\u001b[0m \u001b[0msweep\u001b[0m\u001b[0;34m(\u001b[0m\u001b[0mdata\u001b[0m\u001b[0;34m,\u001b[0m \u001b[0;34m'crystal'\u001b[0m\u001b[0;34m,\u001b[0m  \u001b[0;34m'pipi_contact_hbond_sb'\u001b[0m\u001b[0;34m)\u001b[0m\u001b[0;34m\u001b[0m\u001b[0m\n",
      "\u001b[0;32m<ipython-input-3-ac0b57efb1c8>\u001b[0m in \u001b[0;36msweep\u001b[0;34m(data, mode, feature)\u001b[0m\n\u001b[1;32m     14\u001b[0m         \u001b[0mperformances\u001b[0m \u001b[0;34m=\u001b[0m \u001b[0;34m[\u001b[0m\u001b[0;34m]\u001b[0m\u001b[0;34m\u001b[0m\u001b[0m\n\u001b[1;32m     15\u001b[0m         \u001b[0;32mfor\u001b[0m \u001b[0malpha_factor\u001b[0m \u001b[0;32min\u001b[0m \u001b[0malpha_factors\u001b[0m\u001b[0;34m:\u001b[0m\u001b[0;34m\u001b[0m\u001b[0m\n\u001b[0;32m---> 16\u001b[0;31m             \u001b[0mperformances\u001b[0m \u001b[0;34m+=\u001b[0m \u001b[0;34m[\u001b[0m\u001b[0mperformance\u001b[0m\u001b[0;34m(\u001b[0m\u001b[0mdata\u001b[0m\u001b[0;34m[\u001b[0m\u001b[0mmode\u001b[0m\u001b[0;34m]\u001b[0m\u001b[0;34m[\u001b[0m\u001b[0;34m(\u001b[0m\u001b[0mn\u001b[0m\u001b[0;34m,\u001b[0m \u001b[0malpha_factor\u001b[0m\u001b[0;34m,\u001b[0m \u001b[0mfeature\u001b[0m\u001b[0;34m)\u001b[0m\u001b[0;34m]\u001b[0m\u001b[0;34m)\u001b[0m\u001b[0;34m]\u001b[0m\u001b[0;34m\u001b[0m\u001b[0m\n\u001b[0m\u001b[1;32m     17\u001b[0m         \u001b[0mplt\u001b[0m\u001b[0;34m.\u001b[0m\u001b[0mplot\u001b[0m\u001b[0;34m(\u001b[0m\u001b[0malpha_factors\u001b[0m\u001b[0;34m,\u001b[0m \u001b[0;34m[\u001b[0m\u001b[0mp\u001b[0m\u001b[0;34m[\u001b[0m\u001b[0;36m3\u001b[0m\u001b[0;34m]\u001b[0m \u001b[0;32mfor\u001b[0m \u001b[0mp\u001b[0m \u001b[0;32min\u001b[0m \u001b[0mperformances\u001b[0m\u001b[0;34m]\u001b[0m\u001b[0;34m,\u001b[0m \u001b[0mlabel\u001b[0m \u001b[0;34m=\u001b[0m \u001b[0mn\u001b[0m\u001b[0;34m)\u001b[0m\u001b[0;34m\u001b[0m\u001b[0m\n\u001b[1;32m     18\u001b[0m         \u001b[0;32mfor\u001b[0m \u001b[0mp\u001b[0m \u001b[0;32min\u001b[0m \u001b[0mperformances\u001b[0m\u001b[0;34m:\u001b[0m\u001b[0;34m\u001b[0m\u001b[0m\n",
      "\u001b[0;32m<ipython-input-3-ac0b57efb1c8>\u001b[0m in \u001b[0;36mperformance\u001b[0;34m(results)\u001b[0m\n\u001b[1;32m      5\u001b[0m             \u001b[0mx\u001b[0m \u001b[0;34m+=\u001b[0m \u001b[0;34m[\u001b[0m\u001b[0mglide\u001b[0m\u001b[0;34m]\u001b[0m\u001b[0;34m\u001b[0m\u001b[0m\n\u001b[1;32m      6\u001b[0m             \u001b[0my\u001b[0m \u001b[0;34m+=\u001b[0m \u001b[0;34m[\u001b[0m\u001b[0mcombind\u001b[0m\u001b[0;34m]\u001b[0m\u001b[0;34m\u001b[0m\u001b[0m\n\u001b[0;32m----> 7\u001b[0;31m     return (sum(x) / float(len(x)), sum(np.array(x) <= 2.0) /  float(len(x)),\n\u001b[0m\u001b[1;32m      8\u001b[0m             sum(y) / float(len(y)), sum(np.array(y) <= 2.0) /  float(len(y)))\n\u001b[1;32m      9\u001b[0m \u001b[0;34m\u001b[0m\u001b[0m\n",
      "\u001b[0;31mNameError\u001b[0m: global name 'np' is not defined"
     ]
    }
   ],
   "source": [
    "def performance(results):\n",
    "    x, y = [], []\n",
    "    for prot, ligs in results.items():\n",
    "        for lig, (combind, glide, best) in ligs.items():\n",
    "            x += [glide]\n",
    "            y += [combind]\n",
    "    return (sum(x) / float(len(x)), sum(np.array(x) <= 2.0) /  float(len(x)),\n",
    "            sum(y) / float(len(y)), sum(np.array(y) <= 2.0) /  float(len(y)))\n",
    "\n",
    "def sweep(data, mode, feature):\n",
    "    num_ligs = sorted(set(k[0] for k in data[mode].keys()))\n",
    "    alpha_factors = sorted(set(k[1] for k in data[mode].keys()))\n",
    "    for n in [1, 3, 10, 20]: #num_ligs:\n",
    "        performances = []\n",
    "        for alpha_factor in alpha_factors:\n",
    "            performances += [performance(data[mode][(n, alpha_factor, feature)])]\n",
    "        plt.plot(alpha_factors, [p[3] for p in performances], label = n)\n",
    "        for p in performances:\n",
    "            plt.axhline(p[1], c = 'grey')\n",
    "    plt.legend(bbox_to_anchor=(1.0, 1.0))\n",
    "    plt.title(mode)\n",
    "    plt.show()\n",
    "\n",
    "sweep(data, 'standard', 'pipi_contact_hbond_sb')\n",
    "sweep(data, 'crystal',  'pipi_contact_hbond_sb')"
   ]
  },
  {
   "cell_type": "code",
   "execution_count": null,
   "metadata": {
    "collapsed": false
   },
   "outputs": [],
   "source": [
    "thresh = 2.0\n",
    "def benchmark(results):\n",
    "    tot = 0\n",
    "    for prot, ligs in results.items():\n",
    "        print prot, len(ligs)\n",
    "        tot += len(ligs)\n",
    "    print tot\n",
    "        \n",
    "    x, y = [], []\n",
    "    for prot, ligs in results.items():\n",
    "        for lig, (combind, glide, best) in ligs.items():\n",
    "            x += [glide]\n",
    "            y += [combind]\n",
    "\n",
    "    # All ligands separately\n",
    "    print ttest_rel(x, y)\n",
    "    \n",
    "    gap = 0.5\n",
    "    print 'Combind improves pose for {} of {} ligands'.format(np.sum(np.array(x) > np.array(y)+gap),\n",
    "                                                              len(x))\n",
    "    print 'Combind degrades pose for {} of {} ligands'.format(np.sum(np.array(x)+gap < np.array(y)),\n",
    "                                                              len(x))\n",
    "\n",
    "    \n",
    "    f, ax = plt.subplots()\n",
    "    plt.scatter(x, y, alpha = 0.5, s = 10)\n",
    "    plt.xlabel('Glide', fontsize = 16)\n",
    "    plt.ylabel('ComBind', fontsize = 16)\n",
    "    plt.title('All Ligands RMSD', fontsize = 20)\n",
    "    plt.xlim(0, 15)\n",
    "    plt.ylim(0, 15)\n",
    "    plt.xticks(range(0, 15, 2), range(0, 15, 2))\n",
    "    ax.set_aspect('equal', 'box')\n",
    "    print 'Glide Average:  ', sum(x) / float(len(x)), sum(np.array(x) <= thresh) /  float(len(x))\n",
    "    print 'ComBind Average:', sum(y) / float(len(y)), sum(np.array(y) <= thresh) /  float(len(y))\n",
    "    plt.show()\n",
    "\n",
    "    # By Protein (RMSD)\n",
    "    x, y, label = [], [], []\n",
    "    for prot, ligs in results.items():\n",
    "        _x, _y = [], []\n",
    "        for lig, (combind, glide, best) in ligs.items():\n",
    "            _x += [glide]\n",
    "            _y += [combind]\n",
    "        label += [prot]\n",
    "        x += [sum(_x)/float(len(_x))]\n",
    "        y += [sum(_y)/float(len(_y))]\n",
    "\n",
    "    markers = ['o', 'v', 'x', 's']\n",
    "    f, ax = plt.subplots()\n",
    "    for i, (_x, _y, _label) in enumerate(zip(x, y, label)):\n",
    "        plt.scatter(_x, _y, marker = markers[i/10], label = _label)\n",
    "    plt.xlabel('Glide', fontsize = 16)\n",
    "    plt.ylabel('ComBind', fontsize = 16)\n",
    "    plt.title('Mean RMSD', fontsize = 20)\n",
    "    plt.plot(range(10), linestyle='--', c = 'k')\n",
    "    ax.set_aspect('equal', 'box')\n",
    "    print 'Mean RMSD Glide:   ', sum(x) / float(len(x))\n",
    "    print 'Mean RMSD Combind: ', sum(y) / float(len(y))\n",
    "    plt.legend(bbox_to_anchor=(1.1, 1.05), ncol=3)\n",
    "    plt.show()\n",
    "    \n",
    "    # By protein (% correct)\n",
    "    x, y = [], []\n",
    "    for prot, ligs in results.items():\n",
    "        _x, _y = [], []\n",
    "        for lig, (combind, glide, best) in ligs.items():\n",
    "            _x += [glide <= thresh]\n",
    "            _y += [combind <= thresh]\n",
    "        label += [prot]\n",
    "        x += [sum(_x)/float(len(_x))]\n",
    "        y += [sum(_y)/float(len(_y))]\n",
    "\n",
    "    markers = ['o', 'v', 'x', 's']\n",
    "    f, ax = plt.subplots()\n",
    "    for i, (_x, _y, _label) in enumerate(zip(x, y, label)):\n",
    "        plt.scatter(_x, _y, marker = markers[i/10], label = _label)\n",
    "    plt.xlabel('Glide', fontsize = 16)\n",
    "    plt.ylabel('ComBind', fontsize = 16)\n",
    "    plt.plot(range(2), linestyle='--', c = 'k')\n",
    "    plt.title('Fraction Near-Native', fontsize = 20)\n",
    "    ax.set_aspect('equal', 'box')\n",
    "    print 'Fraction Near-Native Glide:   ', sum(x) / float(len(x))\n",
    "    print 'Fraction Near-Native Combind: ',sum(y) / float(len(y))\n",
    "    plt.legend(bbox_to_anchor=(1.1, 1.05), ncol=3)\n",
    "    plt.show()"
   ]
  },
  {
   "cell_type": "code",
   "execution_count": null,
   "metadata": {
    "collapsed": false
   },
   "outputs": [],
   "source": [
    "benchmark(data['standard'][(20, 10, 'pipi_contact_hbond_sb')])"
   ]
  },
  {
   "cell_type": "code",
   "execution_count": null,
   "metadata": {
    "collapsed": true
   },
   "outputs": [],
   "source": []
  }
 ],
 "metadata": {
  "anaconda-cloud": {},
  "kernelspec": {
   "display_name": "Python [default]",
   "language": "python",
   "name": "python2"
  },
  "language_info": {
   "codemirror_mode": {
    "name": "ipython",
    "version": 2
   },
   "file_extension": ".py",
   "mimetype": "text/x-python",
   "name": "python",
   "nbconvert_exporter": "python",
   "pygments_lexer": "ipython2",
   "version": "2.7.3"
  }
 },
 "nbformat": 4,
 "nbformat_minor": 0
}
