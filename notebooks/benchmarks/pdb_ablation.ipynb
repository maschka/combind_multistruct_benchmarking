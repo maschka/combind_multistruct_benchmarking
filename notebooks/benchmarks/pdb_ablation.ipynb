{
 "cells": [
  {
   "cell_type": "markdown",
   "metadata": {},
   "source": [
    "# Benchmark ComBind on PDB ligands"
   ]
  },
  {
   "cell_type": "code",
   "execution_count": 1,
   "metadata": {
    "collapsed": false
   },
   "outputs": [],
   "source": [
    "import numpy as np\n",
    "from glob import glob\n",
    "from scipy.stats import ttest_rel\n",
    "import matplotlib.pyplot as plt\n",
    "%matplotlib inline"
   ]
  },
  {
   "cell_type": "code",
   "execution_count": 3,
   "metadata": {
    "collapsed": false
   },
   "outputs": [
    {
     "name": "stdout",
     "output_type": "stream",
     "text": [
      " All\n",
      "Glide Average: 3.67456440447 0.438752783964\n",
      "ComBind Average: 3.385343845 0.463251670379\n",
      "pipi\n",
      "Glide Average: 3.68468787028 0.4375\n",
      "ComBind Average: 3.4397385795 0.473214285714\n",
      "hbond\n",
      "Glide Average: 3.68468787028 0.4375\n",
      "ComBind Average: 3.57848660444 0.455357142857\n",
      "mcss\n",
      "Glide Average: 3.68468787028 0.4375\n",
      "ComBind Average: 3.44708713674 0.453125\n",
      "sb\n",
      "Glide Average: 3.68468787028 0.4375\n",
      "ComBind Average: 3.41792187455 0.464285714286\n",
      "contact\n",
      "Glide Average: 3.68468787028 0.4375\n",
      "ComBind Average: 3.45115793033 0.462053571429\n"
     ]
    }
   ],
   "source": [
    "terms = ['hbond',  'mcss', 'sb', 'contact']\n",
    "\n",
    "def extract_scores(fname):\n",
    "    results = {}\n",
    "    for fname in glob(fname):\n",
    "        prot = fname.split('/')[4]\n",
    "        if prot not in results: results[prot] = [{}, None]\n",
    "        with open(fname) as fp:\n",
    "            fp.readline()\n",
    "            for line in fp:\n",
    "                tok = line.strip().split(',')\n",
    "                if len(tok) == 3:\n",
    "                    results[prot][1] = map(lambda x: float(x.split('=')[1]), tok)\n",
    "                else:\n",
    "                    lig,combind_rank,combind_rmsd,glide_rank,glide_rmsd,best_rank,best_rmsd = tok\n",
    "                    results[prot][0][lig] = (float(combind_rmsd), float(glide_rmsd), float(best_rmsd))\n",
    "    return results\n",
    "\n",
    "def report(fname):\n",
    "    results = extract_scores(fname)\n",
    "    x, y = [], []\n",
    "    for prot, ligs in results.items():\n",
    "        for lig, (combind, glide, best) in ligs[0].items():\n",
    "            x += [glide]\n",
    "            y += [combind]\n",
    "    print 'Glide Average:', sum(x) / float(len(x)), sum(np.array(x) <= 2.0) /  float(len(x))\n",
    "    print 'ComBind Average:', sum(y) / float(len(y)), sum(np.array(y) <= 2.0) /  float(len(y))\n",
    "\n",
    "print 'All'\n",
    "fname = '../../../combind_data/bpp_data/*/scores/pdb_seperated_hbond_pipi/pdb.sc'\n",
    "report(fname)\n",
    "\n",
    "print 'pipi'\n",
    "fname = '../../../combind_data/bpp_data/*/scores/pdb_seperated_hbond/pdb.sc'\n",
    "report(fname)\n",
    "\n",
    "for term in terms:\n",
    "    fname = '../../../combind_data/bpp_data/*/scores/pdb_no_{}/pdb.sc'.format(term)\n",
    "    print term\n",
    "    report(fname)"
   ]
  },
  {
   "cell_type": "code",
   "execution_count": 4,
   "metadata": {
    "collapsed": false
   },
   "outputs": [
    {
     "ename": "ZeroDivisionError",
     "evalue": "float division by zero",
     "output_type": "error",
     "traceback": [
      "\u001b[0;31m---------------------------------------------------------------------------\u001b[0m",
      "\u001b[0;31mZeroDivisionError\u001b[0m                         Traceback (most recent call last)",
      "\u001b[0;32m<ipython-input-4-4a9e7514cd1b>\u001b[0m in \u001b[0;36m<module>\u001b[0;34m()\u001b[0m\n\u001b[1;32m     25\u001b[0m \u001b[0mplt\u001b[0m\u001b[0;34m.\u001b[0m\u001b[0mplot\u001b[0m\u001b[0;34m(\u001b[0m\u001b[0mrange\u001b[0m\u001b[0;34m(\u001b[0m\u001b[0;36m10\u001b[0m\u001b[0;34m)\u001b[0m\u001b[0;34m,\u001b[0m \u001b[0mlinestyle\u001b[0m\u001b[0;34m=\u001b[0m\u001b[0;34m'--'\u001b[0m\u001b[0;34m,\u001b[0m \u001b[0mc\u001b[0m \u001b[0;34m=\u001b[0m \u001b[0;34m'k'\u001b[0m\u001b[0;34m)\u001b[0m\u001b[0;34m\u001b[0m\u001b[0m\n\u001b[1;32m     26\u001b[0m \u001b[0max\u001b[0m\u001b[0;34m.\u001b[0m\u001b[0mset_aspect\u001b[0m\u001b[0;34m(\u001b[0m\u001b[0;34m'equal'\u001b[0m\u001b[0;34m,\u001b[0m \u001b[0;34m'box'\u001b[0m\u001b[0;34m)\u001b[0m\u001b[0;34m\u001b[0m\u001b[0m\n\u001b[0;32m---> 27\u001b[0;31m \u001b[0;32mprint\u001b[0m \u001b[0msum\u001b[0m\u001b[0;34m(\u001b[0m\u001b[0mx\u001b[0m\u001b[0;34m)\u001b[0m \u001b[0;34m/\u001b[0m \u001b[0mfloat\u001b[0m\u001b[0;34m(\u001b[0m\u001b[0mlen\u001b[0m\u001b[0;34m(\u001b[0m\u001b[0mx\u001b[0m\u001b[0;34m)\u001b[0m\u001b[0;34m)\u001b[0m\u001b[0;34m,\u001b[0m \u001b[0msum\u001b[0m\u001b[0;34m(\u001b[0m\u001b[0my\u001b[0m\u001b[0;34m)\u001b[0m \u001b[0;34m/\u001b[0m \u001b[0mfloat\u001b[0m\u001b[0;34m(\u001b[0m\u001b[0mlen\u001b[0m\u001b[0;34m(\u001b[0m\u001b[0my\u001b[0m\u001b[0;34m)\u001b[0m\u001b[0;34m)\u001b[0m\u001b[0;34m\u001b[0m\u001b[0m\n\u001b[0m\u001b[1;32m     28\u001b[0m \u001b[0mplt\u001b[0m\u001b[0;34m.\u001b[0m\u001b[0mlegend\u001b[0m\u001b[0;34m(\u001b[0m\u001b[0mbbox_to_anchor\u001b[0m\u001b[0;34m=\u001b[0m\u001b[0;34m(\u001b[0m\u001b[0;36m1.1\u001b[0m\u001b[0;34m,\u001b[0m \u001b[0;36m1.05\u001b[0m\u001b[0;34m)\u001b[0m\u001b[0;34m)\u001b[0m\u001b[0;34m\u001b[0m\u001b[0m\n\u001b[1;32m     29\u001b[0m \u001b[0mplt\u001b[0m\u001b[0;34m.\u001b[0m\u001b[0mshow\u001b[0m\u001b[0;34m(\u001b[0m\u001b[0;34m)\u001b[0m\u001b[0;34m\u001b[0m\u001b[0m\n",
      "\u001b[0;31mZeroDivisionError\u001b[0m: float division by zero"
     ]
    },
    {
     "data": {
      "image/png": "[encoded data removed]",
      "text/plain": [
       "<matplotlib.figure.Figure at 0x1a0830a4d0>"
      ]
     },
     "metadata": {},
     "output_type": "display_data"
    }
   ],
   "source": [
    "fname1 = '../../combind_data/bpp_data/*/scores/pdb_seperated_hbond_pipi/pdb.sc'\n",
    "fname2 = '../../combind_data/bpp_data/*/scores/pdb_no_mcss/pdb.sc'\n",
    "\n",
    "results1, results2 = extract_scores(fname1), extract_scores(fname2)\n",
    "\n",
    "x, y, label = [], [], []\n",
    "for prot, ligs in results1.items():\n",
    "    _x, _y = [], []\n",
    "    for lig in ligs[0]:\n",
    "        _x += [results1[prot][0][lig][0]]\n",
    "        _y += [results2[prot][0][lig][0]]\n",
    "    label += [prot]\n",
    "    x += [sum(_x)/float(len(_x))]\n",
    "    y += [sum(_y)/float(len(_y))]\n",
    "    \n",
    "markers = ['o', 'v', 'x', 's']\n",
    "f, ax = plt.subplots()\n",
    "for i, (_x, _y, _label) in enumerate(zip(x, y, label)):\n",
    "    plt.scatter(_x, _y, marker = markers[i/10], label = _label)\n",
    "plt.xlabel('All Features', fontsize = 16)\n",
    "plt.ylabel('Ablated', fontsize = 16)\n",
    "plt.title('Mean RMSD', fontsize = 20)\n",
    "#plt.xlim(0, 5)\n",
    "#plt.ylim(0, 5)\n",
    "plt.plot(range(10), linestyle='--', c = 'k')\n",
    "ax.set_aspect('equal', 'box')\n",
    "print sum(x) / float(len(x)), sum(y) / float(len(y))\n",
    "plt.legend(bbox_to_anchor=(1.1, 1.05))\n",
    "plt.show()"
   ]
  },
  {
   "cell_type": "code",
   "execution_count": null,
   "metadata": {
    "collapsed": true
   },
   "outputs": [],
   "source": []
  }
 ],
 "metadata": {
  "anaconda-cloud": {},
  "kernelspec": {
   "display_name": "Python [default]",
   "language": "python",
   "name": "python2"
  },
  "language_info": {
   "codemirror_mode": {
    "name": "ipython",
    "version": 2
   },
   "file_extension": ".py",
   "mimetype": "text/x-python",
   "name": "python",
   "nbconvert_exporter": "python",
   "pygments_lexer": "ipython2",
   "version": "2.7.3"
  }
 },
 "nbformat": 4,
 "nbformat_minor": 0
}
