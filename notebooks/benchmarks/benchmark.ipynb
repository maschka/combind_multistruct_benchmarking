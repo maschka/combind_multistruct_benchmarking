{
 "cells": [
  {
   "cell_type": "markdown",
   "metadata": {},
   "source": [
    "# Comparison of performance of SP and XP"
   ]
  },
  {
   "cell_type": "code",
   "execution_count": 1,
   "metadata": {},
   "outputs": [],
   "source": [
    "from benchmark_new import *\n",
    "%matplotlib inline"
   ]
  },
  {
   "cell_type": "code",
   "execution_count": 4,
   "metadata": {},
   "outputs": [],
   "source": [
    "def highlight_max(x):\n",
    "    c1 = 'background-color: yellow;'\n",
    "    c2 = 'font-weight: bold;'\n",
    "    m1 = x.groupby(level=list(range(len(x.index.names)-3)))['combind_correct'].transform('max').eq(x['combind_correct'])\n",
    "    m2 = x.groupby(level=list(range(len(x.index.names)-2)))['combind_correct'].transform('max').eq(x['combind_correct'])\n",
    "    \n",
    "    df1 = pd.DataFrame('', index=x.index, columns=x.columns)\n",
    "    df1.loc[m1, 'combind_correct'] += c1\n",
    "    df1.loc[m2, 'combind_correct'] += c2\n",
    "    return df1\n",
    "\n",
    "helpers = 'best_affinity'\n",
    "mcss = '../../../mcss_sizes.pkl'\n",
    "data = pd.concat(load('stats{}'.format(version), helpers, mcss)\n",
    "                 for version in [7, 17, 19, 21])\n",
    "#data = filter_to_ubiquitous_ligands(data)\n",
    "data = add_correct(data)\n",
    "data = data[(data.index.get_level_values('protein') != 'A2AR')]\n",
    "with pd.ExcelWriter('best_affinity.xlsx', mode='w') as ex:\n",
    "    for agg in ['drug-target', 'drug-ligand', 'target', 'ligand']:\n",
    "        for sim, func in [('all', lambda x: x > -1),\n",
    "                          ('sim', lambda x: x >= 0.5),\n",
    "                          ('dif', lambda x: x < 0.5)]:\n",
    "            ligand = data[func(data.mcss)].filter(regex='rmsd|correct')\n",
    "            target = ligand.groupby(level=list(range(len(ligand.index.levels)-1))).mean().dropna()\n",
    "            family_target = target.groupby(level=list(range(len(target.index.levels)-1))).mean()\n",
    "            family_ligand = ligand.groupby(level=list(range(len(ligand.index.levels)-2))).mean()\n",
    "            \n",
    "            \n",
    "            if agg == 'drug-target':\n",
    "                d = drug_average(family_target)\n",
    "            elif agg == 'drug-ligand':\n",
    "                d = drug_average(family_ligand)\n",
    "            elif agg == 'ligand':\n",
    "                d = ligand.groupby(level=list(range(len(ligand.index.levels)-3))).mean()\n",
    "            elif agg == 'target':\n",
    "                d = target.groupby(level=list(range(len(target.index.levels)-2))).mean()\n",
    "            \n",
    "            d = d.filter(regex='correct')\n",
    "            d = d[d['combind_correct'] != 0]\n",
    "            styled = d.style.apply(highlight_max, axis = None)\n",
    "            styled.to_excel(ex, sheet_name='{}-{}'.format(sim, agg))"
   ]
  },
  {
   "cell_type": "code",
   "execution_count": null,
   "metadata": {},
   "outputs": [],
   "source": []
  }
 ],
 "metadata": {
  "kernelspec": {
   "display_name": "Python 3",
   "language": "python",
   "name": "python3"
  },
  "language_info": {
   "codemirror_mode": {
    "name": "ipython",
    "version": 3
   },
   "file_extension": ".py",
   "mimetype": "text/x-python",
   "name": "python",
   "nbconvert_exporter": "python",
   "pygments_lexer": "ipython3",
   "version": "3.7.3"
  }
 },
 "nbformat": 4,
 "nbformat_minor": 2
}
