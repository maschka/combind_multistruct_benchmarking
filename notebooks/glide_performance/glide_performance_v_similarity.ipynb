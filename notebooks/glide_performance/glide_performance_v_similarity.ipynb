{
 "cells": [
  {
   "cell_type": "code",
   "execution_count": 1,
   "metadata": {
    "collapsed": false
   },
   "outputs": [],
   "source": [
    "import sys\n",
    "import os\n",
    "import numpy as np\n",
    "import matplotlib.pyplot as plt\n",
    "sys.path.append('../../1_dock')\n",
    "sys.path.append('../../ifp')\n",
    "sys.path.append('../../mcss')\n",
    "sys.path.append('../../3_analyze')\n",
    "from shared_paths import shared_paths\n",
    "from containers import Protein\n",
    "%matplotlib inline\n",
    "\n",
    "assert shared_paths['docking'] == 'glide12'"
   ]
  },
  {
   "cell_type": "code",
   "execution_count": 2,
   "metadata": {
    "collapsed": false
   },
   "outputs": [],
   "source": [
    "datasets = [d for d in sorted(os.listdir(shared_paths['data']))\n",
    "            if d[0] != '.' and d[-3:] != 'old']"
   ]
  },
  {
   "cell_type": "code",
   "execution_count": 3,
   "metadata": {
    "collapsed": false,
    "scrolled": true
   },
   "outputs": [
    {
     "name": "stdout",
     "output_type": "stream",
     "text": [
      "(0, '5HT2B')\n",
      "(1, 'A2AR')\n",
      "(2, 'AR')\n",
      "(3, 'B1AR')\n",
      "(4, 'B2AR')\n",
      "(5, 'BRAF')\n",
      "(6, 'CDK2')\n",
      "(7, 'CHK1')\n",
      "(8, 'DTRANSP')\n",
      "(9, 'ERA')\n",
      "(10, 'GCR')\n",
      "(11, 'GLUT1')\n",
      "(12, 'JAK2')\n",
      "(13, 'M3')\n",
      "(14, 'MEK1')\n",
      "(15, 'MGLUR5')\n",
      "(16, 'MR')\n",
      "(17, 'O60885')\n",
      "(18, 'P00489')\n",
      "(19, 'P00734')\n",
      "(20, 'P00742')\n",
      "(21, 'P00749')\n",
      "(22, 'P00760')\n",
      "(23, 'P03951')\n",
      "(24, 'P07900')\n",
      "(25, 'P18031')\n",
      "(26, 'P24941')\n",
      "(27, 'P56817')\n",
      "(28, 'PLK1')\n",
      "(29, 'Q16539')\n",
      "(30, 'Q9Y233')\n",
      "(31, 'SIGMA1')\n",
      "(32, 'SMO')\n",
      "(33, 'STRANSP')\n",
      "(34, 'TRPV1')\n",
      "(35, 'VITD')\n"
     ]
    }
   ],
   "source": [
    "data = {}\n",
    "for i, d in enumerate(datasets):\n",
    "    print(i, d)\n",
    "    protein = Protein(d)\n",
    "    lm = protein.lm\n",
    "\n",
    "    ligands = lm.docked(lm.pdb)[:20]\n",
    "    protein.load_docking(ligands, False, False, False)\n",
    "    lm.mcss.load_mcss()\n",
    "    for ligand in ligands:\n",
    "        crystal_lig = \"{}_lig\".format(lm.st)\n",
    "        if ligand == crystal_lig:\n",
    "            size = 'CRSYTAL'\n",
    "        else:\n",
    "            size = lm.mcss.get_mcss_size(ligand, crystal_lig)\n",
    "        rmsds = [pose.rmsd for pose in protein.docking[lm.st].ligands[ligand].poses]\n",
    "        if d not in data: data[d] = {}\n",
    "        data[d][ligand] = (size, rmsds)"
   ]
  },
  {
   "cell_type": "code",
   "execution_count": 4,
   "metadata": {
    "collapsed": false
   },
   "outputs": [
    {
     "name": "stdout",
     "output_type": "stream",
     "text": [
      "36\n",
      "513\n",
      "\n",
      "5HT2B\t2\n",
      "M3\t2\n",
      "SIGMA1\t2\n",
      "TRPV1\t2\n",
      "GLUT1\t3\n",
      "MGLUR5\t5\n",
      "STRANSP\t5\n",
      "SMO\t7\n",
      "B2AR\t8\n",
      "DTRANSP\t9\n",
      "AR\t11\n",
      "B1AR\t12\n",
      "PLK1\t12\n",
      "MR\t13\n",
      "P24941\t13\n",
      "P03951\t14\n",
      "O60885\t17\n",
      "A2AR\t18\n",
      "GCR\t18\n",
      "BRAF\t20\n",
      "CDK2\t20\n",
      "CHK1\t20\n",
      "ERA\t20\n",
      "JAK2\t20\n",
      "MEK1\t20\n",
      "P00489\t20\n",
      "P00734\t20\n",
      "P00742\t20\n",
      "P00749\t20\n",
      "P00760\t20\n",
      "P07900\t20\n",
      "P18031\t20\n",
      "P56817\t20\n",
      "Q16539\t20\n",
      "Q9Y233\t20\n",
      "VITD\t20\n"
     ]
    }
   ],
   "source": [
    "print len(data)\n",
    "print sum([len(v) for k, v in data.items()])\n",
    "print\n",
    "for count, key in sorted([(len(v), k) for k, v in data.items()]):\n",
    "    print '{}\\t{}'.format(key, count)"
   ]
  },
  {
   "cell_type": "code",
   "execution_count": 5,
   "metadata": {
    "collapsed": false
   },
   "outputs": [
    {
     "data": {
      "image/png": "[encoded data removed]",
      "text/plain": [
       "<matplotlib.figure.Figure at 0x10633bf90>"
      ]
     },
     "metadata": {},
     "output_type": "display_data"
    }
   ],
   "source": [
    "plt.hist([size for protein, ligands in data.items() for (size, rmsds) in ligands.values()\n",
    "          if size != 'CRSYTAL'])\n",
    "plt.xlabel('Overlap with crystallographic ligand')\n",
    "plt.show()"
   ]
  },
  {
   "cell_type": "code",
   "execution_count": 6,
   "metadata": {
    "collapsed": true
   },
   "outputs": [],
   "source": [
    "def plot(correct, total, crystal_correct, crystal_total, l1, l2, title):\n",
    "    a = plt.hist([correct, total], label = [l1, l2], bins = 5)\n",
    "    plt.xlabel('Overlap with crystallographic ligand')\n",
    "    plt.legend()\n",
    "    plt.show()\n",
    "\n",
    "    correct, total = a[0]\n",
    "    x = list((a[1][:-1] + a[1][1:]) / 2.0)\n",
    "\n",
    "    plt.bar(x + [1.1], list(np.array(correct) / np.array(total))+[crystal_correct/ float(crystal_total)],  width = 0.1)\n",
    "    plt.xlim(0, 1.2)\n",
    "    plt.ylim(0, 1)\n",
    "    plt.xticks([0, .2, .4, .6, .8, 1.0, 1.1], [0, .2, .4, .6, .8, 1.0, 'C'])\n",
    "    plt.title(title)\n",
    "    plt.xlabel('Overlap with crystallographic ligand')\n",
    "    plt.show()"
   ]
  },
  {
   "cell_type": "markdown",
   "metadata": {},
   "source": [
    "# Fraction top pose correct"
   ]
  },
  {
   "cell_type": "code",
   "execution_count": 13,
   "metadata": {
    "collapsed": false
   },
   "outputs": [
    {
     "name": "stdout",
     "output_type": "stream",
     "text": [
      "0.438413361169\n"
     ]
    },
    {
     "data": {
      "image/png": "[encoded data removed]",
      "text/plain": [
       "<matplotlib.figure.Figure at 0x112962e10>"
      ]
     },
     "metadata": {},
     "output_type": "display_data"
    },
    {
     "data": {
      "image/png": "[encoded data removed]",
      "text/plain": [
       "<matplotlib.figure.Figure at 0x107ca2fd0>"
      ]
     },
     "metadata": {},
     "output_type": "display_data"
    }
   ],
   "source": [
    "correct   = [size for protein, ligands in data.items() for (size, rmsds) in ligands.values()\n",
    "             if rmsds[0] <= 2.0 and size != 'CRSYTAL']\n",
    "total = [size for protein, ligands in data.items() for (size, rmsds) in ligands.values()\n",
    "         if size != 'CRSYTAL']\n",
    "             \n",
    "crystal_correct = sum([1 for protein, ligands in data.items() for (size, rmsds) in ligands.values()\n",
    "                       if rmsds[0] <= 2.0 and size == 'CRSYTAL'])\n",
    "crystal_total   = sum([1 for protein, ligands in data.items() for (size, rmsds) in ligands.values()\n",
    "                       if size == 'CRSYTAL'])\n",
    "print len(correct) / float(len(total))\n",
    "\n",
    "l1, l2, title = 'top pose near-native', 'total', 'Fraction top pose is near-native'\n",
    "plot(correct, total, crystal_correct, crystal_total, l1, l2, title)"
   ]
  },
  {
   "cell_type": "markdown",
   "metadata": {},
   "source": [
    "# Correct pose in top 100"
   ]
  },
  {
   "cell_type": "code",
   "execution_count": 14,
   "metadata": {
    "collapsed": false
   },
   "outputs": [
    {
     "name": "stdout",
     "output_type": "stream",
     "text": [
      "0.676409185804\n"
     ]
    },
    {
     "data": {
      "image/png": "[encoded data removed]",
      "text/plain": [
       "<matplotlib.figure.Figure at 0x107cba6d0>"
      ]
     },
     "metadata": {},
     "output_type": "display_data"
    },
    {
     "data": {
      "image/png": "[encoded data removed]",
      "text/plain": [
       "<matplotlib.figure.Figure at 0x10a9b9ed0>"
      ]
     },
     "metadata": {},
     "output_type": "display_data"
    }
   ],
   "source": [
    "correct   = [size for protein, ligands in data.items() for (size, rmsds) in ligands.values()\n",
    "             if min(rmsds[:100]) <= 2.0 and size != 'CRSYTAL']\n",
    "total = [size for protein, ligands in data.items() for (size, rmsds) in ligands.values()\n",
    "         if size != 'CRSYTAL']\n",
    "\n",
    "crystal_correct = sum([1 for protein, ligands in data.items() for (size, rmsds) in ligands.values()\n",
    "                       if min(rmsds[:100]) <= 2.0 and size == 'CRSYTAL'])\n",
    "crystal_total   = sum([1 for protein, ligands in data.items() for (size, rmsds) in ligands.values()\n",
    "                       if size == 'CRSYTAL'])\n",
    "print len(correct) / float(len(total))\n",
    "\n",
    "l1, l2, title = 'near-native in top 100', 'total', 'Fraction near-native pose in top 100'\n",
    "plot(correct, total, crystal_correct, crystal_total, l1, l2, title)"
   ]
  },
  {
   "cell_type": "markdown",
   "metadata": {},
   "source": [
    "# Top pose correct given that one exists in top 100"
   ]
  },
  {
   "cell_type": "code",
   "execution_count": 12,
   "metadata": {
    "collapsed": false
   },
   "outputs": [
    {
     "name": "stdout",
     "output_type": "stream",
     "text": [
      "0.648148148148\n"
     ]
    },
    {
     "data": {
      "image/png": "[encoded data removed]",
      "text/plain": [
       "<matplotlib.figure.Figure at 0x106e44990>"
      ]
     },
     "metadata": {},
     "output_type": "display_data"
    },
    {
     "data": {
      "image/png": "[encoded data removed]",
      "text/plain": [
       "<matplotlib.figure.Figure at 0x106e34990>"
      ]
     },
     "metadata": {},
     "output_type": "display_data"
    }
   ],
   "source": [
    "correct = [size for protein, ligands in data.items() for (size, rmsds) in ligands.values()\n",
    "           if rmsds[0] <= 2.0 and size != 'CRSYTAL']\n",
    "total   = [size for protein, ligands in data.items() for (size, rmsds) in ligands.values()\n",
    "           if min(rmsds[:100]) <= 2.0 and size != 'CRSYTAL']\n",
    "\n",
    "crystal_correct = sum([1 for protein, ligands in data.items() for (size, rmsds) in ligands.values()\n",
    "                       if rmsds[0] <= 2.0 and size == 'CRSYTAL'])\n",
    "crystal_total   = sum([1 for protein, ligands in data.items() for (size, rmsds) in ligands.values()\n",
    "                       if min(rmsds[:100]) <= 2.0 and size == 'CRSYTAL'])\n",
    "\n",
    "print len(correct) / float(len(total))\n",
    "\n",
    "l1, l2, title = 'top pose near-native', 'near-native in top 100', 'Top pose near-native given near-native pose in top 100'\n",
    "plot(correct, total, crystal_correct, crystal_total, l1, l2, title)"
   ]
  },
  {
   "cell_type": "markdown",
   "metadata": {},
   "source": [
    "# What does MCSS size zero look like? "
   ]
  },
  {
   "cell_type": "code",
   "execution_count": 10,
   "metadata": {
    "collapsed": false
   },
   "outputs": [
    {
     "name": "stdout",
     "output_type": "stream",
     "text": [
      "O60885 4OGJ_lig 0.1875\n",
      "P07900 2QFO_lig 0.0\n",
      "P07900 2XDK_lig 0.0\n",
      "P07900 3B24_lig 0.0\n",
      "P07900 1YET_lig 0.0\n",
      "P18031 1NWL_lig 0.0\n",
      "MEK1 3ZLS_lig 0.0\n",
      "JAK2 3IO7_lig 0.173913043478\n",
      "JAK2 2XA4_lig 0.173913043478\n",
      "JAK2 3FUP_lig 0.173913043478\n",
      "JAK2 3ZMM_lig 0.173913043478\n",
      "P00742 1NFW_lig 0.0\n",
      "P00742 1F0S_lig 0.0\n",
      "P00742 1NFX_lig 0.181818181818\n",
      "P00742 1Z6E_lig 0.176470588235\n",
      "P00742 2BOH_lig 0.181818181818\n",
      "P00734 1D3P_lig 0.153846153846\n",
      "P00734 1BHX_lig 0.193548387097\n",
      "P00734 1D3D_lig 0.157894736842\n",
      "AR 2HVC_lig 0.190476190476\n",
      "AR 2AX9_lig 0.0\n",
      "VITD 3AZ1_lig 0.0\n",
      "A2AR 5OLO_lig 0.157894736842\n",
      "SMO 4O9R_lig 0.0\n",
      "CHK1 2CGX_lig 0.0\n",
      "CHK1 1ZYS_lig 0.193548387097\n",
      "CHK1 2CGW_lig 0.0\n",
      "CHK1 1ZLT_lig 0.0\n",
      "CHK1 2C3J_lig 0.0\n",
      "CDK2 1DM2_lig 0.0\n",
      "CDK2 1H0V_lig 0.0\n",
      "CDK2 1GZ8_lig 0.0\n",
      "CDK2 1FIN_lig 0.0\n",
      "GCR 3E7C_lig 0.1875\n",
      "GCR 5G5W_lig 0.1875\n",
      "GCR 5NFT_lig 0.1875\n",
      "GCR 6EL6_lig 0.1875\n",
      "BRAF 3PPJ_lig 0.0\n",
      "MR 5L7G_lig 0.0\n",
      "MR 3VHV_lig 0.0\n",
      "MR 3WFG_lig 0.0\n",
      "MR 5HCV_lig 0.0\n",
      "MR 5MWP_lig 0.0\n",
      "MR 5L7E_lig 0.166666666667\n",
      "MR 3WFF_lig 0.0\n"
     ]
    },
    {
     "data": {
      "text/plain": [
       "0"
      ]
     },
     "execution_count": 10,
     "metadata": {},
     "output_type": "execute_result"
    }
   ],
   "source": [
    "c = 0\n",
    "for protein, ligands in data.items():\n",
    "    for ligand, (size, rmsds) in ligands.items():\n",
    "        if size < .2:\n",
    "            print protein, ligand, size\n",
    "c"
   ]
  },
  {
   "cell_type": "code",
   "execution_count": null,
   "metadata": {
    "collapsed": true
   },
   "outputs": [],
   "source": []
  }
 ],
 "metadata": {
  "anaconda-cloud": {},
  "kernelspec": {
   "display_name": "Python [conda root]",
   "language": "python",
   "name": "conda-root-py"
  },
  "language_info": {
   "codemirror_mode": {
    "name": "ipython",
    "version": 2
   },
   "file_extension": ".py",
   "mimetype": "text/x-python",
   "name": "python",
   "nbconvert_exporter": "python",
   "pygments_lexer": "ipython2",
   "version": "2.7.3"
  }
 },
 "nbformat": 4,
 "nbformat_minor": 2
}
