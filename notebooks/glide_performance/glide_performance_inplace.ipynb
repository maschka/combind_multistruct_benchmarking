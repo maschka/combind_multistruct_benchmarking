{
 "cells": [
  {
   "cell_type": "markdown",
   "metadata": {},
   "source": [
    "# Glide inplace\n",
    "\n",
    "When glide does not produce any good pose is this because it does not sample the correct pose, or is it that the correct pose does not fit in the binding pocket?\n",
    "\n",
    "Here, are results of glide docking using the refine only mode, which should start from the correct pose and refine to a local minimum. This would hopefully produce a correct pose whereever it is possible with the given protein conformation.\n",
    "\n",
    "However, there are some unanswered questions related to how effective this is. Namely there are cases where in place docking does not produce a pose, but normal docking does. This seems to discredit the assumption that inplace docking would have a high true positive rate."
   ]
  },
  {
   "cell_type": "code",
   "execution_count": 1,
   "metadata": {
    "collapsed": true
   },
   "outputs": [],
   "source": [
    "import numpy as np\n",
    "import matplotlib.pyplot as plt\n",
    "%matplotlib inline"
   ]
  },
  {
   "cell_type": "code",
   "execution_count": 2,
   "metadata": {
    "scrolled": true
   },
   "outputs": [
    {
     "name": "stdout",
     "output_type": "stream",
     "text": [
      "['BRAF', '1UWH', '3TV4_lig']\n",
      "['BRAF', '1UWH', '4MNF_lig']\n",
      "['BRAF', '1UWH', '4R5Y_lig']\n",
      "['BRAF', '1UWH', '4YHT_lig']\n",
      "['BRAF', '1UWH', '5C9C_lig']\n",
      "['BRAF', '1UWH', '5CSW_lig']\n",
      "['BRAF', '1UWH', '5CT7_lig']\n",
      "['BRAF', '1UWH', '5FD2_lig']\n",
      "['ERA', '1A52', '1L2I_lig']\n"
     ]
    }
   ],
   "source": [
    "data = {} # (prot, grid) -> ligand ->  np.array(N, 2) (rmsds, gscores)\n",
    "with open('../combind_sherlock/bpp_outputs/glide_performance_glide12.tsv') as fp:\n",
    "    for line in fp:\n",
    "        try:\n",
    "            (protein, grid, ligand, rmsds, gscores, emodels,\n",
    "             inplace_gscore, inplace_emodel, inplace_rmsd) = line.strip().split('\\t')\n",
    "            inplace_gscore = float(inplace_gscore)\n",
    "            inplace_emodel = float(inplace_emodel)\n",
    "            inplace_rmsd = float(inplace_rmsd)\n",
    "            if inplace_rmsd > 2:\n",
    "                inplace_gscore = float('inf')\n",
    "                inplace_emodel = float('inf')\n",
    "                \n",
    "            rmsds = map(float, rmsds.split(','))\n",
    "            gscores = map(float, gscores.split(','))\n",
    "            emodels = map(float, emodels.split(','))\n",
    "            assert len(rmsds) == len(gscores)\n",
    "            key = (protein, grid)\n",
    "            if key not in data: data[key] = {}\n",
    "            assert ligand not in data[key]\n",
    "            data[key][ligand] = (np.vstack([rmsds, gscores, emodels]),\n",
    "                                 inplace_gscore, inplace_emodel, inplace_rmsd)\n",
    "        except:\n",
    "            print line.strip().split()[:3]"
   ]
  },
  {
   "cell_type": "code",
   "execution_count": 3,
   "metadata": {},
   "outputs": [
    {
     "name": "stdout",
     "output_type": "stream",
     "text": [
      "36\n",
      "653\n",
      "2 5HT2B\n",
      "2 M3\n",
      "2 SIGMA1\n",
      "2 TRPV1\n",
      "3 GLUT1\n",
      "5 MGLUR5\n",
      "5 STRANSP\n",
      "7 SMO\n",
      "8 B2AR\n",
      "9 DTRANSP\n",
      "11 AR\n",
      "12 B1AR\n",
      "12 PLK1\n",
      "13 MR\n",
      "13 P24941\n",
      "14 P03951\n",
      "17 O60885\n",
      "18 A2AR\n",
      "18 GCR\n",
      "24 P00489\n",
      "24 Q16539\n",
      "24 Q9Y233\n",
      "27 ERA\n",
      "27 P00749\n",
      "28 BRAF\n",
      "28 CHK1\n",
      "29 CDK2\n",
      "29 MEK1\n",
      "30 JAK2\n",
      "30 P00734\n",
      "30 P00742\n",
      "30 P00760\n",
      "30 P07900\n",
      "30 P18031\n",
      "30 P56817\n",
      "30 VITD\n"
     ]
    }
   ],
   "source": [
    "print len(data)\n",
    "print sum([len(v) for k, v in data.items()])\n",
    "for count, key in sorted([(len(v), k) for k, v in data.items()]):\n",
    "    print count, key[0]"
   ]
  },
  {
   "cell_type": "markdown",
   "metadata": {},
   "source": [
    "# Percentage with minimized pose"
   ]
  },
  {
   "cell_type": "code",
   "execution_count": 4,
   "metadata": {},
   "outputs": [
    {
     "name": "stdout",
     "output_type": "stream",
     "text": [
      "(619, 3)\n",
      "0.780290791599\n"
     ]
    }
   ],
   "source": [
    "inplace = [(g, rmsds[0].min(), r)\n",
    "           for (prot, grid), ligands in data.items()\n",
    "           for ligand, (rmsds, g, e, r) in ligands.items()\n",
    "           if ligand.split('_')[0] != grid]\n",
    "inplace = np.array(inplace)\n",
    "print inplace.shape\n",
    "print sum(inplace[:, 0] != float('inf')) / float(len(inplace))"
   ]
  },
  {
   "cell_type": "code",
   "execution_count": 5,
   "metadata": {},
   "outputs": [
    {
     "name": "stdout",
     "output_type": "stream",
     "text": [
      "No inplace, no native 109\n",
      "No inplace, native 27\n",
      "Inplace, no native 79\n",
      "Inplace, native 404\n"
     ]
    }
   ],
   "source": [
    "# What is going on in the 20 cases where we can't get a minimized pose?\n",
    "print 'No inplace, no native', sum(inplace[inplace[:, 0] == float('inf'), 1] > 2)\n",
    "print 'No inplace, native', sum(inplace[inplace[:, 0] == float('inf'), 1] <= 2)\n",
    "print 'Inplace, no native', sum(inplace[inplace[:, 0] != float('inf'), 1] > 2)\n",
    "print 'Inplace, native', sum(inplace[inplace[:, 0] != float('inf'), 1] <= 2)"
   ]
  },
  {
   "cell_type": "code",
   "execution_count": 6,
   "metadata": {},
   "outputs": [
    {
     "name": "stdout",
     "output_type": "stream",
     "text": [
      "BRAF 1UWH 3C4C_lig\n",
      "BRAF 1UWH 3C4C_lig inf\n",
      "BRAF 1UWH 4EHG_lig inf\n",
      "BRAF 1UWH 3TV6_lig inf\n",
      "BRAF 1UWH 4MBJ_lig inf\n",
      "BRAF 1UWH 3SKC_lig inf\n",
      "BRAF 1UWH 4E26_lig inf\n",
      "BRAF 1UWH 4E4X_lig inf\n",
      "BRAF 1UWH 4EHE_lig inf\n",
      "ERA 1A52 2G5O_lig inf\n",
      "ERA 1A52 2AYR_lig inf\n",
      "ERA 1A52 2IOK_lig inf\n",
      "ERA 1A52 2IOG_lig inf\n",
      "O60885 2YEL 4NUE_lig 3.09236342046\n",
      "O60885 2YEL 4OGJ_lig 3.06107325809\n",
      "P24941 1E1X 1PXP_lig inf\n",
      "P24941 1E1X 2FVD_lig inf\n",
      "P24941 1E1X 4BCO_lig inf\n",
      "P24941 1E1X 2XMY_lig inf\n",
      "P24941 1E1X 4BCN_lig inf\n",
      "P24941 1E1X 2XNB_lig inf\n",
      "P24941 1E1X 4BCP_lig inf\n",
      "MGLUR5 4OO9 5CGD_lig inf\n",
      "MGLUR5 4OO9 5CGC_lig inf\n",
      "P07900 1YC1 2QG2_lig inf\n",
      "P07900 1YC1 3QDD_lig inf\n",
      "P07900 1YC1 3B25_lig inf\n",
      "P07900 1YC1 1YET_lig inf\n",
      "P07900 1YC1 3D0B_lig inf\n",
      "P07900 1YC1 2YKI_lig inf\n",
      "P18031 1BZC 1NO6_lig inf\n",
      "P18031 1BZC 1ONZ_lig inf\n",
      "P18031 1BZC 1NNY_lig inf\n",
      "P18031 1BZC 1NL9_lig inf\n",
      "P18031 1BZC 1ONY_lig inf\n",
      "P18031 1BZC 2NT7_lig inf\n",
      "P18031 1BZC 1NZ7_lig inf\n",
      "P00489 1A8I 3G2L_lig inf\n",
      "P00749 1C5X 4ZHM_lig inf\n",
      "SMO 4JKV 4O9R_lig inf\n",
      "SMO 4JKV 4QIN_lig inf\n",
      "SMO 4JKV 4N4W_lig inf\n",
      "P00760 1BJU 1O2O_lig 3.20816042204\n",
      "P00760 1BJU 1F0U_lig inf\n",
      "P03951 4CR5 4X6N_lig 3.52818891265\n",
      "P03951 4CR5 4X6M_lig 3.50465518993\n",
      "P03951 4CR5 4TY6_lig inf\n",
      "P03951 4CR5 4X6O_lig 3.05486043909\n",
      "P03951 4CR5 4TY7_lig inf\n",
      "P03951 4CR5 4Y8X_lig 3.23121952954\n",
      "P03951 4CR5 4X6P_lig 3.12414074664\n",
      "Q9Y233 3UI7 4LM0_lig 3.00857854938\n",
      "AR 1E3G 2AM9_lig\n",
      "AR 1E3G 2AM9_lig inf\n",
      "AR 1E3G 2HVC_lig inf\n",
      "MEK1 1S9J 3SLS_lig inf\n",
      "MEK1 1S9J 3ZM4_lig inf\n",
      "MEK1 1S9J 3ZLX_lig inf\n",
      "MEK1 1S9J 3E8N_lig inf\n",
      "MEK1 1S9J 3ZLS_lig inf\n",
      "MEK1 1S9J 3ZLW_lig inf\n",
      "MEK1 1S9J 3ZLY_lig inf\n",
      "P00742 1EZQ 2BOK_lig inf\n",
      "P00742 1EZQ 1LPG_lig inf\n",
      "P56817 1FKN 3I25_lig inf\n",
      "P56817 1FKN 4DJX_lig inf\n",
      "P56817 1FKN 3L59_lig inf\n",
      "P56817 1FKN 2VKM_lig inf\n",
      "P56817 1FKN 4DJU_lig 4.68313923545\n",
      "P56817 1FKN 4FM8_lig inf\n",
      "P56817 1FKN 4FM7_lig inf\n",
      "P56817 1FKN 4DJW_lig inf\n",
      "P56817 1FKN 4FSL_lig inf\n",
      "P56817 1FKN 4DJV_lig inf\n",
      "P56817 1FKN 2P4J_lig inf\n",
      "P56817 1FKN 4DJY_lig inf\n",
      "P56817 1FKN 3RSX_lig inf\n",
      "A2AR 2YDO 3REY_lig inf\n",
      "A2AR 2YDO 5OLO_lig inf\n",
      "A2AR 2YDO 5N2R_lig inf\n",
      "GCR 1NHZ 4CSJ_lig inf\n",
      "GCR 1NHZ 3E7C_lig inf\n",
      "GCR 1NHZ 4UDD_lig inf\n",
      "GCR 1NHZ 5G5W_lig inf\n",
      "GCR 1NHZ 4P6W_lig inf\n",
      "GCR 1NHZ 3K23_lig inf\n",
      "GCR 1NHZ 4MDD_lig inf\n",
      "GCR 1NHZ 3BQD_lig inf\n",
      "GCR 1NHZ 5NFT_lig inf\n",
      "GCR 1NHZ 3K22_lig inf\n",
      "GCR 1NHZ 6EL6_lig inf\n",
      "GCR 1NHZ 5NFP_lig inf\n",
      "GCR 1NHZ 3CLD_lig inf\n",
      "Q16539 1KV1 3IW5_lig inf\n",
      "Q16539 1KV1 3HL7_lig inf\n",
      "Q16539 1KV1 4F9W_lig inf\n",
      "Q16539 1KV1 3E92_lig\n",
      "Q16539 1KV1 3E92_lig inf\n",
      "Q16539 1KV1 1YQJ_lig inf\n",
      "Q16539 1KV1 3HUC_lig inf\n",
      "Q16539 1KV1 3HUB_lig inf\n",
      "Q16539 1KV1 4DLI_lig inf\n",
      "Q16539 1KV1 4F9Y_lig inf\n",
      "Q16539 1KV1 3E93_lig inf\n",
      "JAK2 2B7A 3TJD_lig inf\n",
      "JAK2 2B7A 3UGC_lig inf\n",
      "JAK2 2B7A 4D1S_lig 3.53128550686\n",
      "JAK2 2B7A 3KCK_lig inf\n",
      "JAK2 2B7A 3JY9_lig inf\n",
      "JAK2 2B7A 4BBF_lig inf\n",
      "MR 2A3I 5L7G_lig inf\n",
      "MR 2A3I 3VHV_lig inf\n",
      "MR 2A3I 3WFG_lig inf\n",
      "MR 2A3I 5HCV_lig inf\n",
      "MR 2A3I 5MWY_lig\n",
      "MR 2A3I 5MWY_lig inf\n",
      "MR 2A3I 5MWP_lig inf\n",
      "MR 2A3I 3WFF_lig inf\n"
     ]
    }
   ],
   "source": [
    "for (prot, grid), ligands in data.items():\n",
    "    for ligand, (rmsds, g, e, r) in ligands.items():\n",
    "        if ligand.split('_')[0] != grid:\n",
    "            if g == float('inf') and rmsds[0].min() < 1:\n",
    "                print prot, grid, ligand\n",
    "            if r > 3:\n",
    "                print prot, grid, ligand, r"
   ]
  },
  {
   "cell_type": "code",
   "execution_count": 7,
   "metadata": {},
   "outputs": [
    {
     "data": {
      "image/png": "[encoded data removed]",
      "text/plain": [
       "<matplotlib.figure.Figure at 0x1069d3e90>"
      ]
     },
     "metadata": {},
     "output_type": "display_data"
    }
   ],
   "source": [
    "plt.hist(inplace[inplace[:, 0] != float('inf'), 2], bins = 30)\n",
    "plt.show()"
   ]
  },
  {
   "cell_type": "code",
   "execution_count": 8,
   "metadata": {},
   "outputs": [
    {
     "data": {
      "image/png": "[encoded data removed]",
      "text/plain": [
       "<matplotlib.figure.Figure at 0x10c4b4d90>"
      ]
     },
     "metadata": {},
     "output_type": "display_data"
    }
   ],
   "source": [
    "plt.hist(inplace[inplace[:, 0] != float('inf'), 1], bins = 30)\n",
    "plt.show()"
   ]
  },
  {
   "cell_type": "code",
   "execution_count": 9,
   "metadata": {},
   "outputs": [
    {
     "data": {
      "image/png": "[encoded data removed]",
      "text/plain": [
       "<matplotlib.figure.Figure at 0x1041ed890>"
      ]
     },
     "metadata": {},
     "output_type": "display_data"
    }
   ],
   "source": [
    "plt.hist(inplace[inplace[:, 0] == float('inf'), 1], bins = 30)\n",
    "plt.show()"
   ]
  },
  {
   "cell_type": "code",
   "execution_count": 10,
   "metadata": {},
   "outputs": [
    {
     "data": {
      "image/png": "[encoded data removed]",
      "text/plain": [
       "<matplotlib.figure.Figure at 0x10fde8950>"
      ]
     },
     "metadata": {},
     "output_type": "display_data"
    }
   ],
   "source": [
    "plt.hist(inplace[inplace[:, 0] != float('inf'), 0])\n",
    "plt.show()"
   ]
  },
  {
   "cell_type": "code",
   "execution_count": null,
   "metadata": {
    "collapsed": true
   },
   "outputs": [],
   "source": []
  }
 ],
 "metadata": {
  "kernelspec": {
   "display_name": "Python 3",
   "language": "python",
   "name": "python3"
  },
  "language_info": {
   "codemirror_mode": {
    "name": "ipython",
    "version": 3
   },
   "file_extension": ".py",
   "mimetype": "text/x-python",
   "name": "python",
   "nbconvert_exporter": "python",
   "pygments_lexer": "ipython3",
   "version": "3.7.3"
  }
 },
 "nbformat": 4,
 "nbformat_minor": 2
}
