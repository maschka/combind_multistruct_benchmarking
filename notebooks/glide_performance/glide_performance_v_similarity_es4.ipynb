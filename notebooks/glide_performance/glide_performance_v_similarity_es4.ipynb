{
 "cells": [
  {
   "cell_type": "code",
   "execution_count": 1,
   "metadata": {
    "collapsed": false
   },
   "outputs": [],
   "source": [
    "import sys\n",
    "import os\n",
    "import numpy as np\n",
    "import matplotlib.pyplot as plt\n",
    "sys.path.append('../../1_dock')\n",
    "sys.path.append('../../ifp')\n",
    "sys.path.append('../../mcss')\n",
    "sys.path.append('../../3_analyze')\n",
    "from shared_paths import shared_paths\n",
    "from containers import Protein\n",
    "%matplotlib inline\n",
    "\n",
    "assert shared_paths['docking'] == 'confgen_es4'"
   ]
  },
  {
   "cell_type": "code",
   "execution_count": 2,
   "metadata": {
    "collapsed": false
   },
   "outputs": [],
   "source": [
    "datasets = [d for d in sorted(os.listdir(shared_paths['data']))\n",
    "            if d[0] != '.' and d[-3:] != 'old']"
   ]
  },
  {
   "cell_type": "code",
   "execution_count": 3,
   "metadata": {
    "collapsed": false,
    "scrolled": true
   },
   "outputs": [
    {
     "name": "stdout",
     "output_type": "stream",
     "text": [
      "(0, '5HT2B')\n",
      "(1, 'A2AR')\n",
      "(2, 'AR')\n",
      "(3, 'B1AR')\n",
      "(4, 'B2AR')\n",
      "(5, 'BRAF')\n",
      "<containers.Protein instance at 0x10651c9e0> 3Q4C_lig\n",
      "(6, 'CDK2')\n",
      "(7, 'CHK1')\n",
      "(8, 'DTRANSP')\n",
      "(9, 'ERA')\n",
      "(10, 'GCR')\n",
      "(11, 'GLUT1')\n",
      "(12, 'JAK2')\n",
      "(13, 'M3')\n",
      "(14, 'MEK1')\n",
      "(15, 'MGLUR5')\n",
      "(16, 'MR')\n",
      "(17, 'O60885')\n",
      "(18, 'P00489')\n",
      "(19, 'P00734')\n",
      "(20, 'P00742')\n",
      "(21, 'P00749')\n",
      "(22, 'P00760')\n",
      "(23, 'P03951')\n",
      "(24, 'P07900')\n",
      "(25, 'P18031')\n",
      "(26, 'P24941')\n",
      "(27, 'P56817')\n",
      "(28, 'PLK1')\n",
      "(29, 'Q16539')\n",
      "(30, 'Q9Y233')\n",
      "(31, 'SIGMA1')\n",
      "(32, 'SMO')\n",
      "(33, 'STRANSP')\n",
      "(34, 'TRPV1')\n",
      "(35, 'VITD')\n"
     ]
    }
   ],
   "source": [
    "data = {}\n",
    "for i, d in enumerate(datasets):\n",
    "    print(i, d)\n",
    "    protein = Protein(d)\n",
    "    lm = protein.lm\n",
    "\n",
    "    ligands = lm.docked(lm.pdb)[:20]\n",
    "    protein.load_docking(ligands, False, False, False)\n",
    "    lm.mcss.load_mcss()\n",
    "    for ligand in ligands:\n",
    "        crystal_lig = \"{}_lig\".format(lm.st)\n",
    "        if ligand == crystal_lig:\n",
    "            size = 'CRSYTAL'\n",
    "        else:\n",
    "            try:\n",
    "                size = lm.mcss.get_mcss_size(ligand, crystal_lig)\n",
    "            except:\n",
    "                print protein, ligand\n",
    "                continue\n",
    "        rmsds = [pose.rmsd for pose in protein.docking[lm.st].ligands[ligand].poses]\n",
    "        if d not in data: data[d] = {}\n",
    "        data[d][ligand] = (size, rmsds)"
   ]
  },
  {
   "cell_type": "code",
   "execution_count": 4,
   "metadata": {
    "collapsed": false
   },
   "outputs": [
    {
     "name": "stdout",
     "output_type": "stream",
     "text": [
      "36\n",
      "510\n",
      "\n",
      "5HT2B\t2\n",
      "M3\t2\n",
      "SIGMA1\t2\n",
      "TRPV1\t2\n",
      "GLUT1\t3\n",
      "MGLUR5\t5\n",
      "SMO\t5\n",
      "STRANSP\t5\n",
      "B2AR\t8\n",
      "DTRANSP\t9\n",
      "AR\t11\n",
      "B1AR\t12\n",
      "MR\t12\n",
      "PLK1\t12\n",
      "P24941\t13\n",
      "P03951\t14\n",
      "O60885\t17\n",
      "A2AR\t18\n",
      "BRAF\t19\n",
      "GCR\t19\n",
      "CDK2\t20\n",
      "CHK1\t20\n",
      "ERA\t20\n",
      "JAK2\t20\n",
      "MEK1\t20\n",
      "P00489\t20\n",
      "P00734\t20\n",
      "P00742\t20\n",
      "P00749\t20\n",
      "P00760\t20\n",
      "P07900\t20\n",
      "P18031\t20\n",
      "P56817\t20\n",
      "Q16539\t20\n",
      "Q9Y233\t20\n",
      "VITD\t20\n"
     ]
    }
   ],
   "source": [
    "print len(data)\n",
    "print sum([len(v) for k, v in data.items()])\n",
    "print\n",
    "for count, key in sorted([(len(v), k) for k, v in data.items()]):\n",
    "    print '{}\\t{}'.format(key, count)"
   ]
  },
  {
   "cell_type": "code",
   "execution_count": 5,
   "metadata": {
    "collapsed": false
   },
   "outputs": [
    {
     "data": {
      "image/png": "[encoded data removed]",
      "text/plain": [
       "<matplotlib.figure.Figure at 0x10643be90>"
      ]
     },
     "metadata": {},
     "output_type": "display_data"
    }
   ],
   "source": [
    "plt.hist([size for protein, ligands in data.items() for (size, rmsds) in ligands.values()\n",
    "          if size != 'CRSYTAL'])\n",
    "plt.xlabel('Overlap with crystallographic ligand')\n",
    "plt.show()"
   ]
  },
  {
   "cell_type": "code",
   "execution_count": 6,
   "metadata": {
    "collapsed": true
   },
   "outputs": [],
   "source": [
    "def plot(correct, total, crystal_correct, crystal_total, l1, l2, title):\n",
    "    a = plt.hist([correct, total], label = [l1, l2], bins = 5)\n",
    "    plt.xlabel('Overlap with crystallographic ligand')\n",
    "    plt.legend()\n",
    "    plt.show()\n",
    "\n",
    "    correct, total = a[0]\n",
    "    x = list((a[1][:-1] + a[1][1:]) / 2.0)\n",
    "\n",
    "    plt.bar(x + [1.1], list(np.array(correct) / np.array(total))+[crystal_correct/ float(crystal_total)],  width = 0.1)\n",
    "    plt.xlim(0, 1.2)\n",
    "    plt.ylim(0, 1)\n",
    "    plt.xticks([0, .2, .4, .6, .8, 1.0, 1.1], [0, .2, .4, .6, .8, 1.0, 'C'])\n",
    "    plt.title(title)\n",
    "    plt.xlabel('Overlap with crystallographic ligand')\n",
    "    plt.show()"
   ]
  },
  {
   "cell_type": "markdown",
   "metadata": {},
   "source": [
    "# Fraction top pose correct"
   ]
  },
  {
   "cell_type": "code",
   "execution_count": 12,
   "metadata": {
    "collapsed": false
   },
   "outputs": [
    {
     "name": "stdout",
     "output_type": "stream",
     "text": [
      "0.436974789916\n"
     ]
    },
    {
     "data": {
      "image/png": "[encoded data removed]",
      "text/plain": [
       "<matplotlib.figure.Figure at 0x10e30f2d0>"
      ]
     },
     "metadata": {},
     "output_type": "display_data"
    },
    {
     "data": {
      "image/png": "[encoded data removed]",
      "text/plain": [
       "<matplotlib.figure.Figure at 0x10e314c10>"
      ]
     },
     "metadata": {},
     "output_type": "display_data"
    }
   ],
   "source": [
    "correct   = [size for protein, ligands in data.items() for (size, rmsds) in ligands.values()\n",
    "             if rmsds[0] <= 2.0 and size != 'CRSYTAL']\n",
    "total = [size for protein, ligands in data.items() for (size, rmsds) in ligands.values()\n",
    "         if size != 'CRSYTAL']\n",
    "\n",
    "print len(correct) / float(len(total))\n",
    "             \n",
    "crystal_correct = sum([1 for protein, ligands in data.items() for (size, rmsds) in ligands.values()\n",
    "                       if rmsds[0] <= 2.0 and size == 'CRSYTAL'])\n",
    "crystal_total   = sum([1 for protein, ligands in data.items() for (size, rmsds) in ligands.values()\n",
    "                       if size == 'CRSYTAL'])\n",
    "\n",
    "l1, l2, title = 'top pose near-native', 'total', 'Fraction top pose is near-native'\n",
    "plot(correct, total, crystal_correct, crystal_total, l1, l2, title)"
   ]
  },
  {
   "cell_type": "markdown",
   "metadata": {},
   "source": [
    "# Correct pose in top 100"
   ]
  },
  {
   "cell_type": "code",
   "execution_count": 15,
   "metadata": {
    "collapsed": false
   },
   "outputs": [
    {
     "name": "stdout",
     "output_type": "stream",
     "text": [
      "0.689075630252\n",
      "0.689075630252\n"
     ]
    },
    {
     "data": {
      "image/png": "[encoded data removed]",
      "text/plain": [
       "<matplotlib.figure.Figure at 0x10d0e7410>"
      ]
     },
     "metadata": {},
     "output_type": "display_data"
    },
    {
     "data": {
      "image/png": "[encoded data removed]",
      "text/plain": [
       "<matplotlib.figure.Figure at 0x108208510>"
      ]
     },
     "metadata": {},
     "output_type": "display_data"
    }
   ],
   "source": [
    "correct   = [size for protein, ligands in data.items() for (size, rmsds) in ligands.values()\n",
    "             if min(rmsds[:100]) <= 2.0 and size != 'CRSYTAL']\n",
    "total = [size for protein, ligands in data.items() for (size, rmsds) in ligands.values()\n",
    "         if size != 'CRSYTAL']\n",
    "\n",
    "print len(correct) / float(len(total))\n",
    "crystal_correct = sum([1 for protein, ligands in data.items() for (size, rmsds) in ligands.values()\n",
    "                       if min(rmsds[:100]) <= 2.0 and size == 'CRSYTAL'])\n",
    "crystal_total   = sum([1 for protein, ligands in data.items() for (size, rmsds) in ligands.values()\n",
    "                       if size == 'CRSYTAL'])\n",
    "\n",
    "l1, l2, title = 'near-native in top 100', 'total', 'Fraction near-native pose in top 100'\n",
    "plot(correct, total, crystal_correct, crystal_total, l1, l2, title)"
   ]
  },
  {
   "cell_type": "markdown",
   "metadata": {},
   "source": [
    "# Top pose correct given that one exists in top 100"
   ]
  },
  {
   "cell_type": "code",
   "execution_count": 14,
   "metadata": {
    "collapsed": false
   },
   "outputs": [
    {
     "name": "stdout",
     "output_type": "stream",
     "text": [
      "0.634146341463\n"
     ]
    },
    {
     "data": {
      "image/png": "[encoded data removed]",
      "text/plain": [
       "<matplotlib.figure.Figure at 0x106db6750>"
      ]
     },
     "metadata": {},
     "output_type": "display_data"
    },
    {
     "data": {
      "image/png": "[encoded data removed]",
      "text/plain": [
       "<matplotlib.figure.Figure at 0x11838bd50>"
      ]
     },
     "metadata": {},
     "output_type": "display_data"
    }
   ],
   "source": [
    "correct = [size for protein, ligands in data.items() for (size, rmsds) in ligands.values()\n",
    "           if rmsds[0] <= 2.0 and size != 'CRSYTAL']\n",
    "total   = [size for protein, ligands in data.items() for (size, rmsds) in ligands.values()\n",
    "           if min(rmsds[:100]) <= 2.0 and size != 'CRSYTAL']\n",
    "\n",
    "crystal_correct = sum([1 for protein, ligands in data.items() for (size, rmsds) in ligands.values()\n",
    "                       if rmsds[0] <= 2.0 and size == 'CRSYTAL'])\n",
    "crystal_total   = sum([1 for protein, ligands in data.items() for (size, rmsds) in ligands.values()\n",
    "                       if min(rmsds[:100]) <= 2.0 and size == 'CRSYTAL'])\n",
    "print len(correct) / float(len(total))\n",
    "l1, l2, title = 'top pose near-native', 'near-native in top 100', 'Top pose near-native given near-native pose in top 100'\n",
    "plot(correct, total, crystal_correct, crystal_total, l1, l2, title)"
   ]
  },
  {
   "cell_type": "code",
   "execution_count": null,
   "metadata": {
    "collapsed": true
   },
   "outputs": [],
   "source": []
  }
 ],
 "metadata": {
  "anaconda-cloud": {},
  "kernelspec": {
   "display_name": "Python [conda root]",
   "language": "python",
   "name": "conda-root-py"
  },
  "language_info": {
   "codemirror_mode": {
    "name": "ipython",
    "version": 2
   },
   "file_extension": ".py",
   "mimetype": "text/x-python",
   "name": "python",
   "nbconvert_exporter": "python",
   "pygments_lexer": "ipython2",
   "version": "2.7.3"
  }
 },
 "nbformat": 4,
 "nbformat_minor": 2
}
