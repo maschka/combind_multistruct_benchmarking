{
 "cells": [
  {
   "cell_type": "code",
   "execution_count": 1,
   "metadata": {},
   "outputs": [],
   "source": [
    "import sys\n",
    "import os\n",
    "\n",
    "import matplotlib\n",
    "matplotlib.use('Agg')\n",
    "from matplotlib import pyplot as plt\n",
    "import numpy as np\n",
    "\n",
    "sys.path.append(os.getcwd())\n",
    "from load_data import *\n",
    "from plotting_tools import *\n",
    "\n",
    "sys.path.append('../3_score/')\n",
    "from optimize import Scores"
   ]
  },
  {
   "cell_type": "code",
   "execution_count": 2,
   "metadata": {
    "collapsed": true
   },
   "outputs": [],
   "source": [
    "receptor = 'MAP4K4'#AR B2AR CDK2 CHK1 HSP90 LPXC TRMD\n",
    "\n",
    "data_set_dir = '/scratch/PI/rondror/docking_data/'+receptor+'/'\n",
    "   \n",
    "rmsd_file = 'rmsd.csv'\n",
    "glide_dir = data_set_dir + 'glide/'\n",
    "crystal_fp_file = data_set_dir + '/ifp/crystal_ifp_3/ifp.fp'\n",
    "docking_fp_dir = data_set_dir + '/ifp/glide_ifp_3/'\n",
    "\n",
    "xrmsd_file = 'xrmsd.csv'\n",
    "xglide_dir = data_set_dir + 'xglide/'\n",
    "xdocking_fp_dir = data_set_dir + '/ifp/xglide_ifp_3/'"
   ]
  },
  {
   "cell_type": "code",
   "execution_count": null,
   "metadata": {
    "collapsed": true
   },
   "outputs": [],
   "source": [
    "def refine_poses(glides):\n",
    "    # glides maps [lig][struct] to ligands\n",
    "    # goal: output poses. map [lig] to all poses, ordered by gscore\n",
    "    poses = {}\n",
    "    for lig in glides.keys():\n",
    "        poses[lig] = []\n",
    "        for struct in glides[lig].keys():\n",
    "            if lig == struct: continue\n",
    "            p = glides[lig][struct].poses\n",
    "            poses[lig].extend([p[i] for i in p.keys()])\n",
    "        poses[lig].sort(key=lambda x: x.gscore)\n",
    "    return poses    "
   ]
  },
  {
   "cell_type": "code",
   "execution_count": 5,
   "metadata": {},
   "outputs": [
    {
     "name": "stdout",
     "output_type": "stream",
     "text": [
      "Loading crystal structures...\n",
      "Crystal structure fingerprint file not found.\n",
      "Loading glidescores...\n",
      "0 of 60 total pairs failed to dock.\n",
      "Loading fingerprints...\n",
      "Glide fingerprint directory not found.\n",
      "Loading docking results...\n"
     ]
    }
   ],
   "source": [
    "## useful class specifications:\n",
    "# Ligand -- attributes: crystal (currently not used/none), poses (dict of pose_num:pose).\n",
    "# Pose -- attributes: rmsd (float), fp (Fingerprint, num (integer), gscore (float)\n",
    "# FuzzyFingerPrint -- attributes: pdb, feats (dict of residue name:interaction list).\n",
    "\n",
    "# crystals: maps structures to Poses, \n",
    "#           e.g., crystals['4LDO'] = Pose(rmsd=0, fingerprint, num=0, gscore=0)\n",
    "# glides:   maps ligand_struct, grid_struct to Ligands, \n",
    "#           e.g., glides['4LDO']['4LDO'] = Ligand(...)\n",
    "\n",
    "## STEP 1:\n",
    "## load in the crystal structures, docking results, and fingerprints\n",
    "\n",
    "w1 = [10,10,10,1,0,0,0]\n",
    "w2 = [10,10,10,1,0]\n",
    "\n",
    "#(all_crystals, all_glides) = load_data(\n",
    "#    data_set_dir, rmsd_file, glide_dir, crystal_fp_file, docking_fp_dir,w=w2)\n",
    "(all_xcrystals, all_xglides) = load_data(\n",
    "    data_set_dir, xrmsd_file, xglide_dir, crystal_fp_file, xdocking_fp_dir,w=[10,10,10,1,0])"
   ]
  },
  {
   "cell_type": "code",
   "execution_count": 10,
   "metadata": {
    "scrolled": false
   },
   "outputs": [
    {
     "data": {
      "image/png": "[encoded data removed]",
      "text/plain": [
       "<matplotlib.figure.Figure at 0x7f0c9561afd0>"
      ]
     },
     "metadata": {},
     "output_type": "display_data"
    },
    {
     "name": "stdout",
     "output_type": "stream",
     "text": [
      "2.1753\n"
     ]
    },
    {
     "data": {
      "image/png": "[encoded data removed]",
      "text/plain": [
       "<matplotlib.figure.Figure at 0x7f0c92bbc850>"
      ]
     },
     "metadata": {},
     "output_type": "display_data"
    }
   ],
   "source": [
    "## STEP 2:\n",
    "## visualize docking results\n",
    "\n",
    "# in the heatmaps, each row is a structure and each column is a ligand\n",
    "\n",
    "ligs = sorted(all_xglides.keys())#['4LDL','4LDO','4QKX'] # ['3P0G','4LDL','4LDO','4QKX','3PDS']\n",
    "structs = ['4OBO','4U44']\n",
    "\n",
    "xglides = {l:{s:all_xglides[l][s] for s in all_xglides[l] if s in structs} for l in all_xglides if l in ligs}\n",
    "xcrystals = {s:all_xcrystals[s] for s in all_xcrystals if s in structs}\n",
    "\n",
    "get_ipython().magic(u'matplotlib inline')\n",
    "\n",
    "best_rmsd_matrix = best_pose(ligs, structs, xglides, 25)\n",
    "heatmap(best_rmsd_matrix, ligs, structs)\n",
    "print np.nanmean(best_rmsd_matrix)\n",
    "\n",
    "var_mat = docking_variance(ligs, structs, xglides, 25)\n",
    "heatmap(var_mat, ligs, structs)\n",
    "\n",
    "#luck = 0\n",
    "#total = 0\n",
    "#for l in glides.keys():\n",
    "#    for s in glides.keys():\n",
    "#        total += 1\n",
    "#        p = [glides[l][s].poses[i].rmsd for i in range(50) if i < len(glides[l][s].poses)]\n",
    "#        if np.mean(p) < 2 and np.var(p) < 1:\n",
    "#            luck += 1\n",
    "            #print 'lig, struct: ', l, s\n",
    "            #print 'mean: ', np.mean(p)\n",
    "            #print 'var: ', np.var(p)\n",
    "            \n",
    "#print luck, total"
   ]
  },
  {
   "cell_type": "code",
   "execution_count": null,
   "metadata": {
    "collapsed": true
   },
   "outputs": [],
   "source": [
    "get_ipython().magic(u'matplotlib inline')\n",
    "\n",
    "for lig in ligs:\n",
    "    print lig\n",
    "    for struct in structs:\n",
    "        if struct not in xglides[lig]: continue\n",
    "        #print 'lig, struct: ', lig, struct\n",
    "        poses = xglides[lig][struct].poses\n",
    "        pnum = [i for i in poses.keys()]\n",
    "        g1 = [i for i in poses.keys()]\n",
    "        rmsd = [poses[i].rmsd for i in poses.keys()]\n",
    "        plt.plot(g1[:25], rmsd[:25], '.', markersize=10)\n",
    "        #plt.plot(rmsd[:50], 'b.', markersize=10)\n",
    "        #print 'rmsd mean (blue): ', np.mean(rmsd[:50])\n",
    "        #print 'rmsd var (blue): ', np.var(rmsd[:50])\n",
    "        #if struct in xglides[lig].keys():\n",
    "        #    p2 = xglides[lig][struct].poses\n",
    "        #    pnum2 = [i for i in p2.keys()]\n",
    "        #    g2 = [i for i in p2.keys()]\n",
    "        #    r2 = [p2[i].rmsd for i in p2.keys()]\n",
    "        #    plt.plot(g2[:25],r2[:25], 'b.', markersize=10)\n",
    "            #plt.plot(r2[:50], 'r.', markersize=10)\n",
    "            #print 'rmsd mean (red): ', np.mean(r2[:25])\n",
    "            #print 'rmsd var (red): ', np.var(r2[:25])\n",
    "            \n",
    "    plt.gca().set_ylim([0,15])\n",
    "    plt.gca().set_xlim([0,25])\n",
    "    plt.show()"
   ]
  },
  {
   "cell_type": "code",
   "execution_count": null,
   "metadata": {
    "scrolled": false
   },
   "outputs": [],
   "source": [
    "## STEP 4:\n",
    "## score all pairs of ligands\n",
    "print glides.keys()\n",
    "best_rmsd_matrix = best_pose(glides.keys(), glides.keys(), glides, 50)\n",
    "best_rmsd_matrix2 = best_pose(xglides.keys(), xglides.keys(), xglides, 25)\n",
    "\n",
    "for best_structure in glides.keys():#filtered_ligands:\n",
    "    print best_structure\n",
    "    \n",
    "    struct_ind = glides.keys().index(best_structure)\n",
    "    filtered_ligands = ligs#[glides.keys()[i] for i in range(len(glides.keys())) if not np.isnan(best_rmsd_matrix[struct_ind][i])]\n",
    "    #print filtered_ligands, glides.keys(), crystals.keys()\n",
    "    #struct_ind2 = xglides.keys().index(best_structure)\n",
    "    #filtered_ligands2 = [xglides.keys()[i] for i in range(len(xglides.keys())) if not np.isnan(best_rmsd_matrix2[struct_ind2][i])]\n",
    "    \n",
    "    scores = Scores(glides, crystals, filtered_ligands, best_structure, 50)\n",
    "    scores2 = Scores(xglides, xcrystals, filtered_ligands, best_structure, 25)\n",
    "    final_rmsds = plot_final_rmsds(scores2, receptor+' docked to: '+best_structure, scores,'old dock: ')\n",
    "    \n",
    "    #plot_magnitudes(scores, receptor)\n",
    "    #plot_magnitudes(scores2, receptor)\n",
    "    #for lig in ligs:\n",
    "    #    plot_scores_vs_rmsds(lig, scores2, lab=lig, scores2=scores, lab2='old dock')"
   ]
  },
  {
   "cell_type": "code",
   "execution_count": null,
   "metadata": {
    "scrolled": false
   },
   "outputs": [],
   "source": [
    "(l1,l2,l3) = ('4FSW','4FSZ','4FT0')#tuple(ligs)[:3]\n",
    "for struct in ['4FT0']:#structs[3:6]:\n",
    "    for p1 in range(25):\n",
    "        print p1\n",
    "        f1 = xglides[l1][struct].poses[p1]\n",
    "        for p2 in range(25):\n",
    "            f2 = xglides[l2][struct].poses[p2]\n",
    "            for p3 in range(25):\n",
    "                f3 = xglides[l3][struct].poses[p3]\n",
    "                score = scores.score_pose_pair(f1.fp,f2.fp)+scores.score_pose_pair(f3.fp,f2.fp)+scores.score_pose_pair(f1.fp,f3.fp)\n",
    "                r = (f1.rmsd+f2.rmsd+f3.rmsd)/3\n",
    "                plt.plot([r],[score],'.k')\n",
    "    plt.show()"
   ]
  },
  {
   "cell_type": "code",
   "execution_count": null,
   "metadata": {
    "collapsed": true,
    "scrolled": false
   },
   "outputs": [],
   "source": [
    "(l1,l2,l3) = tuple(ligs)\n",
    "for struct in structs:\n",
    "    fig, ax = plt.subplots()\n",
    "    print struct\n",
    "    for p1 in range(25):\n",
    "        print p1\n",
    "        f1 = glides[l1][struct].poses[p1]\n",
    "        for p2 in range(25):\n",
    "            f2 = glides[l2][struct].poses[p2]\n",
    "            s1 = scores.score_pose_pair(f1.fp,f2.fp)\n",
    "            for p3 in range(25):\n",
    "                f3 = glides[l3][struct].poses[p3]\n",
    "                score = s1+scores.score_pose_pair(f3.fp,f2.fp)+scores.score_pose_pair(f1.fp,f3.fp)\n",
    "                r = (f1.rmsd+f2.rmsd+f3.rmsd)/3\n",
    "                plt.plot([r],[score],'.k')\n",
    "                ax.set_title(struct+' struct objective')\n",
    "\n",
    "    plt.show()"
   ]
  },
  {
   "cell_type": "code",
   "execution_count": null,
   "metadata": {
    "collapsed": true
   },
   "outputs": [],
   "source": [
    "for struct in \n",
    "plot_magnitudes(scores2, receptor)\n",
    "#scores2 = Scores(xglides, xcrystals, filtered_ligands, best_structure, 25)"
   ]
  },
  {
   "cell_type": "code",
   "execution_count": null,
   "metadata": {
    "collapsed": true
   },
   "outputs": [],
   "source": [
    "(worst_lig, worst_rmsd, b, c) = final_rmsds[np.argmax([i[1] for i in final_rmsds])]\n",
    "print worst_lig, worst_rmsd, b, c"
   ]
  },
  {
   "cell_type": "code",
   "execution_count": null,
   "metadata": {
    "collapsed": true
   },
   "outputs": [],
   "source": [
    "#worst_lig = '4YKU'\n",
    "\n",
    "for worst_lig in ['4YKY']:#filtered_ligands:\n",
    "    print worst_lig\n",
    "    final_scores = scores2.get_final_scores(worst_lig)[:-1]\n",
    "    rmsds = scores2.get_rmsds(worst_lig)[:-1]\n",
    "\n",
    "    top_pose = np.argmax(final_scores)\n",
    "    best_pose = np.argmin(rmsds)\n",
    "\n",
    "    print 'Top pose: ' + str(top_pose) + '. Score: ' + str(final_scores[top_pose]) + '. RMSD: ' + str(rmsds[top_pose])\n",
    "    print 'Best pose: ' + str(best_pose) + '. Score: ' + str(final_scores[best_pose]) + '. RMSD: ' + str(rmsds[best_pose])\n",
    "    print 'Crystal pose score: ' + str(scores.get_final_scores(worst_lig)[-1])\n",
    "\n",
    "#print rmsds\n",
    "#print [glides[worst_lig][best_structure].poses[i].rmsd for i in range(50)]"
   ]
  },
  {
   "cell_type": "code",
   "execution_count": null,
   "metadata": {
    "collapsed": true,
    "scrolled": false
   },
   "outputs": [],
   "source": [
    "#worst_lig='4FSW'\n",
    "\n",
    "## STEP 6:\n",
    "## look at the final scores for all poses of the worst ligand\n",
    "\n",
    "## for our method to work repeatably and reliably,\n",
    "## there needs to be a strong correlation in these plots\n",
    "\n",
    "plot_scores_vs_rmsds(worst_lig, scores2, lab=worst_lig)#, scores2=scores2, lab2='new h')"
   ]
  },
  {
   "cell_type": "code",
   "execution_count": null,
   "metadata": {
    "collapsed": true
   },
   "outputs": [],
   "source": [
    "fp = glides[worst_lig][best_structure].poses[best_pose].fp.feats\n",
    "\n",
    "for res in sorted(map(int,fp.keys())):\n",
    "    thresh = [i**2 if i**2 > 0.1 else 0 for i in fp[str(res)]]\n",
    "    if any(thresh):\n",
    "        print res, thresh"
   ]
  },
  {
   "cell_type": "code",
   "execution_count": null,
   "metadata": {
    "collapsed": true
   },
   "outputs": [],
   "source": [
    "fp = glides[worst_lig][best_structure].poses[top_pose].fp.feats\n",
    "\n",
    "for res in sorted(map(int,fp.keys())):\n",
    "    thresh = [i**2 if i**2 > 0.1 else 0 for i in fp[str(res)]]\n",
    "    if any(thresh):\n",
    "        print res, thresh"
   ]
  },
  {
   "cell_type": "code",
   "execution_count": null,
   "metadata": {
    "collapsed": true
   },
   "outputs": [],
   "source": [
    "fp = crystals[worst_lig].fp.feats\n",
    "\n",
    "for res in sorted(fp.keys()):\n",
    "    print res, [i if abs(i) > 0.1 else 0 for i in fp[res]]"
   ]
  },
  {
   "cell_type": "code",
   "execution_count": null,
   "metadata": {
    "collapsed": true
   },
   "outputs": [],
   "source": [
    "## STEP 3:\n",
    "## pick 1 receptor structure to use for all ligands\n",
    "## filter ligands that are poorly docked\n",
    "\n",
    "#rmsd_filter = lambda x: x < 2\n",
    "#best_structure, filtered_ligands, ave_rmsd = get_structure_and_ligands(best_rmsd_matrix, rmsd_filter, glides.keys())\n",
    "#print best_structure\n",
    "best_structure = '4YKQ'#highest_diam_ligand\n",
    "struct_ind = glides.keys().index(best_structure)\n",
    "filtered_ligands = [glides.keys()[i] for i in range(len(glides.keys())) if not np.isnan(best_rmsd_matrix[struct_ind][i])]\n",
    "\n",
    "struct_ind2 = xglides.keys().index(best_structure)\n",
    "filtered_ligands2 = [xglides.keys()[i] for i in range(len(xglides.keys())) if not np.isnan(best_rmsd_matrix[struct_ind2][i])]\n",
    "\n",
    "print 'The best structure is ' + best_structure\n",
    "print str(len(filtered_ligands)) + ' of ' + str(len(glides.keys())) + ' ligands were docked:'\n",
    "print filtered_ligands\n",
    "print 'with an average best rmsd of ' + str(np.nanmean(best_rmsd_matrix))[:5]"
   ]
  },
  {
   "cell_type": "code",
   "execution_count": null,
   "metadata": {
    "collapsed": true,
    "scrolled": false
   },
   "outputs": [],
   "source": [
    "## STEP 7: \n",
    "## look through pairs involving worst_lig\n",
    "\n",
    "l1 = worst_lig\n",
    "#(l2, next_worst_rmsd, b, c) = final_rmsds[np.argmax([i[1] if i[1] != worst_rmsd else 0 for i in final_rmsds])]\n",
    "l2 = '3V49'\n",
    "print l1, l2"
   ]
  },
  {
   "cell_type": "code",
   "execution_count": null,
   "metadata": {
    "collapsed": true
   },
   "outputs": [],
   "source": [
    "## STEP 8: debug the worst pair\n",
    "\n",
    "get_ipython().magic(u'matplotlib inline')\n",
    "\n",
    "plot_all_poses(l1, l2, scores2, l1 + ' ' + l2)#, scores2, 'new')"
   ]
  },
  {
   "cell_type": "code",
   "execution_count": null,
   "metadata": {
    "collapsed": true
   },
   "outputs": [],
   "source": [
    "## use this block to extract interesting pairs from the plot above\n",
    "\n",
    "# l1 pose num, l2 pose num, rmsd1, rmsd2, score\n",
    "\n",
    "bad_rmsd = lambda r1,r2: (r1+r2)/2.0 >= 2\n",
    "good_rmsd = lambda r1,r2: (r1+r2)/2.0 <= 2\n",
    "good_score = lambda score: score >= 50\n",
    "combo = lambda rmsd, score: score and rmsd\n",
    "\n",
    "# output: p1, p2, r1, r2, score(p1,p2)\n",
    "bad_pairs = scores.get_filtered_pose_pairs(l1, l2, bad_rmsd, good_score, combo)\n",
    "bad_pairs.sort(key=lambda x: x[4])\n",
    "bad_pairs.reverse()\n",
    "\n",
    "good_pairs = scores.get_filtered_pose_pairs(l1, l2, good_rmsd, good_score, combo)\n",
    "good_pairs.sort(key=lambda x: x[4])\n",
    "good_pairs.reverse()\n",
    "\n",
    "print l1, l2\n",
    "print 'Bad pairs:'\n",
    "for i in range(min(5, len(bad_pairs))):\n",
    "    print bad_pairs[i]\n",
    "print 'Good pairs:'\n",
    "for i in range(min(5, len(good_pairs))):\n",
    "    print good_pairs[i]"
   ]
  },
  {
   "cell_type": "code",
   "execution_count": null,
   "metadata": {
    "collapsed": true
   },
   "outputs": [],
   "source": [
    "(bad_score,  bad_interactions)  = scores.get_interactions(l1, l2, bad_pairs[0][0],  bad_pairs[0][1])\n",
    "(good_score, good_interactions) = scores.get_interactions(l1, l2, good_pairs[0][0], good_pairs[0][1])\n",
    "(true_score, true_interactions) = scores.get_interactions(l1, l2, -1, -1)\n",
    "\n",
    "# returns list of tuples: (arg1_strength - arg2_strenth, res, interaction_type)\n",
    "explore_1 = scores.find_mismatched_interactions(true_interactions, good_interactions)\n",
    "explore_2 = scores.find_mismatched_interactions(true_interactions, bad_interactions)\n",
    "\n",
    "explore_1.sort(key=lambda x: abs(x[0]), reverse=True) # sort on absolute value of the mismatch\n",
    "explore_2.sort(key=lambda x: x[0])\n",
    "\n",
    "print 'Biggest mismatches between the good pose and the crystal pose'\n",
    "for i in range(10):\n",
    "    print explore_1[i]\n",
    "print '--------'\n",
    "print 'Biggest negative mismatches between the bad pose and the crystal pose'\n",
    "for i in range(10):\n",
    "    print explore_2[i]"
   ]
  },
  {
   "cell_type": "code",
   "execution_count": null,
   "metadata": {
    "collapsed": true
   },
   "outputs": [],
   "source": [
    "#print crystals.keys()\n",
    "for res in crystals['3V4A'].fp.feats.keys():\n",
    "    print res, [i if abs(i) > .01 else 0 for i in crystals['3V4A'].fp.feats[res]]"
   ]
  },
  {
   "cell_type": "code",
   "execution_count": null,
   "metadata": {
    "collapsed": true
   },
   "outputs": [],
   "source": []
  }
 ],
 "metadata": {
  "anaconda-cloud": {},
  "kernelspec": {
   "display_name": "Python 2",
   "language": "python",
   "name": "python2"
  },
  "language_info": {
   "codemirror_mode": {
    "name": "ipython",
    "version": 2
   },
   "file_extension": ".py",
   "mimetype": "text/x-python",
   "name": "python",
   "nbconvert_exporter": "python",
   "pygments_lexer": "ipython2",
   "version": "2.7.11"
  }
 },
 "nbformat": 4,
 "nbformat_minor": 1
}
