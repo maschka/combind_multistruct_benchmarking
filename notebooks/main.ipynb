{
 "cells": [
  {
   "cell_type": "code",
   "execution_count": 1,
   "metadata": {},
   "outputs": [],
   "source": [
    "import sys\n",
    "import matplotlib\n",
    "matplotlib.use('Agg')\n",
    "from matplotlib import pyplot as plt\n",
    "import numpy as np\n",
    "\n",
    "sys.path.append('/share/PI/rondror/jbelk/docking_code/notebooks/')\n",
    "from load_data import *\n",
    "from plotting_tools import *\n",
    "\n",
    "sys.path.append('/share/PI/rondror/docking_code/3_score/')\n",
    "from optimize import Scores"
   ]
  },
  {
   "cell_type": "code",
   "execution_count": 2,
   "metadata": {
    "collapsed": true
   },
   "outputs": [],
   "source": [
    "data_set_dir = '/scratch/PI/rondror/docking_data/B2AR/'   \n",
    "   \n",
    "rmsd_file = 'rmsd.csv'\n",
    "ligands_dir = data_set_dir + 'ligands/'\n",
    "grids_dir = data_set_dir + 'grids/'\n",
    "glide_dir = data_set_dir + 'glide/'\n",
    "crystal_fp_file = data_set_dir + 'structure_fingerprints/ifp.fp'\n",
    "docking_fp_dir = data_set_dir + 'docking_fingerprints/'\n",
    "\n",
    "#crystal_fp_file_no_angle = data_set_dir + 'structure_fingerprints_no_angle/ifp.fp'\n",
    "#docking_fp_dir_no_angle = data_set_dir + 'docking_fingerprints_no_angle/'"
   ]
  },
  {
   "cell_type": "code",
   "execution_count": null,
   "metadata": {
    "collapsed": true
   },
   "outputs": [],
   "source": [
    "## useful class specifications:\n",
    "# Ligand -- attributes: crystal (currently not used/none), poses (dict of pose_num:pose).\n",
    "# Pose -- attributes: rmsd (float), fp (Fingerprint, num (integer), gscore (float)\n",
    "# FuzzyFingerPrint -- attributes: pdb, feats (dict of residue name:interaction list).\n",
    "\n",
    "# crystals: maps structures to Poses, \n",
    "#           e.g., crystals['4LDO'] = Pose(rmsd=0, fingerprint, num=0, gscore=0)\n",
    "# glides:   maps ligand_struct, grid_struct to Ligands, \n",
    "#           e.g., glides['4LDO']['4LDO'] = Ligand(...)\n",
    "\n",
    "## STEP 1:\n",
    "## load in the crystal structures, docking results, and fingerprints\n",
    "(TRMD_crystals, TRMD_glides) = load_data(\n",
    "    data_set_dir, rmsd_file, ligands_dir, grids_dir, glide_dir, crystal_fp_file, docking_fp_dir)\n",
    "\n",
    "#(TRMD_crystals_no_angle, TRMD_glides_no_angle) = load_data(\n",
    "#    data_set_dir, rmsd_file, ligands_dir, grids_dir, glide_dir, crystal_fp_file_no_angle, docking_fp_dir_no_angle)"
   ]
  },
  {
   "cell_type": "code",
   "execution_count": null,
   "metadata": {
    "collapsed": true
   },
   "outputs": [],
   "source": [
    "## STEP 2:\n",
    "## visualize docking results\n",
    "\n",
    "# in the heatmaps, each row is a structure and each column is a ligand\n",
    "\n",
    "get_ipython().magic(u'matplotlib inline')\n",
    "\n",
    "max_num_poses = 50\n",
    "\n",
    "# this shows the rmsds of glide's top ranked poses (pose 0)\n",
    "top_rmsd_matrix = top_pose(TRMD_glides)\n",
    "#heatmap(top_rmsd_matrix, TRMD_glides)\n",
    "\n",
    "# this shows the losest rmsd in the first 'max_num_poses' poses\n",
    "best_rmsd_matrix = best_pose(TRMD_glides, max_num_poses)\n",
    "heatmap(best_rmsd_matrix, TRMD_glides)"
   ]
  },
  {
   "cell_type": "code",
   "execution_count": null,
   "metadata": {
    "collapsed": true
   },
   "outputs": [],
   "source": [
    "## STEP 3:\n",
    "## pick 1 receptor structure to use for all ligands\n",
    "## filter ligands that are poorly docked\n",
    "\n",
    "rmsd_filter = lambda x: x < 2\n",
    "best_structure, filtered_ligands, ave_rmsd = get_structure_and_ligands(best_rmsd_matrix, rmsd_filter, TRMD_glides.keys())\n",
    "\n",
    "print 'The best structure is ' + best_structure\n",
    "print str(len(filtered_ligands)) + ' of ' + str(len(TRMD_glides.keys())) + ' ligands were docked well:'\n",
    "print filtered_ligands\n",
    "print 'with an average best rmsd of ' + str(ave_rmsd)[:5]"
   ]
  },
  {
   "cell_type": "code",
   "execution_count": null,
   "metadata": {
    "collapsed": true
   },
   "outputs": [],
   "source": [
    "## STEP 4:\n",
    "## score all pairs of ligands\n",
    "\n",
    "# optional arguments: overlap (function) and weights (dictionary of interaction_index to weight)\n",
    "scores = Scores(TRMD_glides, TRMD_crystals, filtered_ligands, best_structure, max_num_poses)"
   ]
  },
  {
   "cell_type": "code",
   "execution_count": null,
   "metadata": {
    "collapsed": true
   },
   "outputs": [],
   "source": [
    "## STEP 5:\n",
    "## plot results\n",
    "\n",
    "plot_final_rmsds(scores)\n",
    "plot_final_scores(scores)"
   ]
  },
  {
   "cell_type": "code",
   "execution_count": null,
   "metadata": {
    "collapsed": true
   },
   "outputs": [],
   "source": [
    "## STEP 4:\n",
    "## look at the highest-scoring pose of each pair of ligands\n",
    "\n",
    "get_ipython().magic(u'matplotlib inline')\n",
    "\n",
    "a = matplotlib.rcParams['figure.figsize']\n",
    "matplotlib.rcParams['figure.figsize'] = (30.0, 20.0)\n",
    "\n",
    "pairs = show_results_for_all_ligand_pairs(scores, scores2=None)\n",
    "\n",
    "matplotlib.rcParams['figure.figsize'] = a"
   ]
  },
  {
   "cell_type": "code",
   "execution_count": null,
   "metadata": {
    "collapsed": true,
    "scrolled": false
   },
   "outputs": [],
   "source": [
    "## STEP 5: find the worst pair\n",
    "\n",
    "(l1, l2, worst_rmsd) = pairs[44]#np.argmax([pairs[i][2] for i in pairs])]\n",
    "\n",
    "print 'The highest rmsd value is ' + str(worst_rmsd)\n",
    "print 'for pair ' + l1 + ', ' + l2"
   ]
  },
  {
   "cell_type": "code",
   "execution_count": null,
   "metadata": {
    "collapsed": true
   },
   "outputs": [],
   "source": [
    "## STEP 6: debug the worst pair\n",
    "\n",
    "get_ipython().magic(u'matplotlib inline')\n",
    "\n",
    "plot_all_poses(l1, l2, scores, l1 + ' ' + l2)#, scores2, label2)"
   ]
  },
  {
   "cell_type": "code",
   "execution_count": null,
   "metadata": {
    "collapsed": true
   },
   "outputs": [],
   "source": [
    "## use this block to extract interesting pairs from the plot above\n",
    "\n",
    "'''\n",
    "scored_pairs[0][pair], # rmsd ave\n",
    "scored_pairs[1][pair], # gscore sum\n",
    "scored_pairs[2][pair], # pair score\n",
    "scored_pairs[3][pair], # l1 pose num\n",
    "scored_pairs[4][pair]))# l2 pose num\n",
    "'''\n",
    "\n",
    "bad_rmsd = lambda r1,r2: (r1+r2)/2.0 >= 2\n",
    "good_rmsd = lambda r1,r2: (r1+r2)/2.0 <= 1\n",
    "good_score = lambda score: score >= 50\n",
    "combo = lambda rmsd, score: score and rmsd\n",
    "\n",
    "# output: p1, p2, r1, r2, score(p1,p2)\n",
    "bad_pairs = scores.get_filtered_pose_pairs(l1, l2, bad_rmsd, good_score, combo)\n",
    "bad_pairs.sort(key=lambda x: x[5])\n",
    "bad_pairs.reverse()\n",
    "\n",
    "good_pairs = scores.get_filtered_pose_pairs(l1, l2, good_rmsd, good_score, combo)\n",
    "good_pairs.sort(key=lambda x: x[5])\n",
    "good_pairs.reverse()\n",
    "\n",
    "print l1, l2\n",
    "print 'Bad pairs:'\n",
    "for i in range(min(5, len(bad_pairs))):\n",
    "    print bad_pairs[i]\n",
    "print 'Good pairs:'\n",
    "for i in range(min(5, len(good_pairs))):\n",
    "    print good_pairs[i]"
   ]
  },
  {
   "cell_type": "code",
   "execution_count": null,
   "metadata": {
    "collapsed": true
   },
   "outputs": [],
   "source": [
    "(bad_score,  bad_interactions)  = scores.get_interactions(l1, l2, bad_pairs[0][0],  bad_pairs[0][1])\n",
    "(good_score, good_interactions) = scores.get_interactions(l1, l2, good_pairs[0][0], good_pairs[0][1])\n",
    "(true_score, true_interactions) = scores.get_interactions(l1, l2, -1, -1)\n",
    "\n",
    "# returns list of tuples: (arg1_strength - arg2_strenth, res, interaction_type)\n",
    "explore_1 = find_mismatched_interactions(true_interactions, good_interactions)\n",
    "explore_2 = find_mismatched_interactions(true_interactions, bad_interactions)\n",
    "\n",
    "explore_1.sort(key=lambda x: abs(x[0]), reverse=True) # sort on absolute value of the mismatch\n",
    "explore_2.sort(key=lambda x: x[0])\n",
    "\n",
    "print 'Biggest mismatches between the good pose and the crystal pose'\n",
    "for i in range(10):\n",
    "    print explore_1[i]\n",
    "print '--------'\n",
    "print 'Biggest negative mismatches between the bad pose and the crystal pose'\n",
    "for i in range(10):\n",
    "    print explore_2[i]"
   ]
  },
  {
   "cell_type": "code",
   "execution_count": null,
   "metadata": {
    "collapsed": true
   },
   "outputs": [],
   "source": [
    "#print p1_good.fp.feats['133']\n",
    "#print p2_good.fp.feats['133']\n",
    "print p1_good.fp.feats['136']\n",
    "print p2_good.fp.feats['136']\n",
    "\n",
    "print '------'\n",
    "print crystal_fp1.feats['136']\n",
    "print crystal_fp2.feats['136']\n",
    "print '------'\n",
    "'''for r in p1_bad.fp.feats:\n",
    "    max_str = max([abs(i) for i in p1_bad.fp.feats[r]])\n",
    "    if max_str > 5:\n",
    "        print r, p1_bad.fp.feats[r]\n",
    "    #h1_str = p1_bad.fp.feats[r][0]\n",
    "    #h2_str = p1_bad.fp.feats[r][1]\n",
    "    #if h1_str > 1 or h2_str > 1:\n",
    "    #    print r, h1_str, h2_str\n",
    "print '------'\n",
    "for r in crystal_fp1.feats:\n",
    "    h1_str = crystal_fp1.feats[r][0]\n",
    "    h2_str = crystal_fp1.feats[r][1]\n",
    "    if h1_str > 2 or h2_str > 2:\n",
    "        print r, h1_str, h2_str'''"
   ]
  },
  {
   "cell_type": "code",
   "execution_count": null,
   "metadata": {
    "collapsed": true
   },
   "outputs": [],
   "source": [
    "for l in filtered_ligands:\n",
    "    print l, final_poses[l], TRMD_glides[l][best_structure].poses[final_poses[l]].rmsd"
   ]
  },
  {
   "cell_type": "code",
   "execution_count": null,
   "metadata": {
    "collapsed": true
   },
   "outputs": [],
   "source": []
  }
 ],
 "metadata": {
  "anaconda-cloud": {},
  "kernelspec": {
   "display_name": "Python 2",
   "language": "python",
   "name": "python2"
  },
  "language_info": {
   "codemirror_mode": {
    "name": "ipython",
    "version": 2
   },
   "file_extension": ".py",
   "mimetype": "text/x-python",
   "name": "python",
   "nbconvert_exporter": "python",
   "pygments_lexer": "ipython2",
   "version": "2.7.11"
  }
 },
 "nbformat": 4,
 "nbformat_minor": 1
}
