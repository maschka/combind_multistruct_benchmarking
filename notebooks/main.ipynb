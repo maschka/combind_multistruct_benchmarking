{
 "cells": [
  {
   "cell_type": "code",
   "execution_count": null,
   "metadata": {},
   "outputs": [],
   "source": [
    "import sys\n",
    "import os\n",
    "\n",
    "import matplotlib\n",
    "matplotlib.use('Agg')\n",
    "from matplotlib import pyplot as plt\n",
    "import numpy as np\n",
    "\n",
    "sys.path.append(os.getcwd())\n",
    "from load_data import *\n",
    "from plotting_tools import *\n",
    "\n",
    "sys.path.append('../3_score/')\n",
    "from optimize import Scores\n",
    "from fingerprint import FuzzyFingerPrint"
   ]
  },
  {
   "cell_type": "code",
   "execution_count": null,
   "metadata": {},
   "outputs": [],
   "source": [
    "## useful class specifications:\n",
    "# Ligand -- attributes: crystal (currently not used/none), poses (dict of pose_num:pose).\n",
    "# Pose -- attributes: rmsd (float), fp (Fingerprint, num (integer), gscore (float)\n",
    "# FuzzyFingerPrint -- attributes: pdb, feats (dict of residue name:interaction list).\n",
    "\n",
    "# crystals: maps structures to Poses, \n",
    "#           e.g., crystals['4LDO'] = Pose(rmsd=0, fingerprint, num=0, gscore=0)\n",
    "# glides:   maps ligand_struct, grid_struct to Ligands, \n",
    "#           e.g., glides['4LDO']['4LDO'] = Ligand(...)\n",
    "\n",
    "## STEP 1:\n",
    "## load in the crystal structures, docking results, and fingerprints\n",
    "\n",
    "receptor = 'TRMD'\n",
    "(xcrystals, xglides, ligs, structs) = load_data(receptor,w=[10,10,10,1,0],require_fp=True)"
   ]
  },
  {
   "cell_type": "code",
   "execution_count": null,
   "metadata": {
    "scrolled": false
   },
   "outputs": [],
   "source": [
    "## STEP 2:\n",
    "## visualize docking results\n",
    "\n",
    "# in the heatmaps, each row is a structure and each column is a ligand\n",
    "\n",
    "n = 25\n",
    "\n",
    "get_ipython().magic(u'matplotlib inline')\n",
    "\n",
    "best_rmsd_matrix = get_docking_stats(ligs, structs, xglides, n, lambda x: np.min(x) if x != [] else np.nan)\n",
    "heatmap(best_rmsd_matrix, ligs, structs)\n",
    "\n",
    "var_mat = get_docking_stats(ligs, structs, xglides, n, lambda x: np.var(x) if x != [] else np.nan)\n",
    "heatmap(var_mat, ligs, structs)\n",
    "\n",
    "helpfully_frozen(ligs, structs, xglides, n)"
   ]
  },
  {
   "cell_type": "code",
   "execution_count": null,
   "metadata": {
    "collapsed": true
   },
   "outputs": [],
   "source": [
    "get_ipython().magic(u'matplotlib inline')\n",
    "\n",
    "# [ligands], struct, glides, num_poses, glidscore=True (if false, plot vs pose_number instead)\n",
    "#plot_docking_output(['4FT9'],'4FTA',xglides,25,True)"
   ]
  },
  {
   "cell_type": "code",
   "execution_count": null,
   "metadata": {
    "scrolled": false
   },
   "outputs": [],
   "source": [
    "## STEP 4:\n",
    "## score all pairs of ligands\n",
    "#print glides.keys()\n",
    "#best_rmsd_matrix = best_pose(glides.keys(), glides.keys(), glides, 50)\n",
    "#best_rmsd_matrix2 = best_pose(xglides.keys(), xglides.keys(), xglides, 25)\n",
    "\n",
    "get_ipython().magic(u'matplotlib inline')\n",
    "\n",
    "all_final = {}\n",
    "\n",
    "for struct in structs:\n",
    "    filt_lig = [l for l in ligs]# if best_rmsd_matrix[structs.index(struct)][ligs.index(l)] < 1.5]\n",
    "        \n",
    "    scores = Scores(xglides, xcrystals, filt_lig, struct, n)\n",
    "    title = '{} docked to: {}'.format(receptor, struct)\n",
    "    final_rmsds = plot_final_rmsds(scores, title)\n",
    "    \n",
    "    crystal_cluster = {(l, -1):xcrystals[l].fp for l in filt_lig}\n",
    "    opt_cluster = [(l,p) for (l,p) in scores.optimized_scores.items()]\n",
    "    opt_cluster = {(l,p):xglides[l][struct].poses[p].fp for (l,p) in opt_cluster}\n",
    "    plot_shared_interactions(crystal_cluster, c2=opt_cluster, max_r=20,\n",
    "                             lab1='Crys', lab2='Opt', title=title,interactions=[0,1,2])\n",
    "    \n",
    "    #print opt_cluster.keys()\n",
    "    \n",
    "    a = scores.all_analysis\n",
    "    print struct, 'performance:'\n",
    "    print_table({i:a[i][1][:] for i in a})\n",
    "    for i in a:\n",
    "        if i not in all_final: all_final[i] = []\n",
    "        all_final[i].extend(a[i][1][:])\n",
    "\n",
    "print 'average across all data:'\n",
    "print_table(all_final)"
   ]
  },
  {
   "cell_type": "code",
   "execution_count": null,
   "metadata": {
    "collapsed": true
   },
   "outputs": [],
   "source": []
  }
 ],
 "metadata": {
  "anaconda-cloud": {},
  "kernelspec": {
   "display_name": "Python 2",
   "language": "python",
   "name": "python2"
  },
  "language_info": {
   "codemirror_mode": {
    "name": "ipython",
    "version": 2
   },
   "file_extension": ".py",
   "mimetype": "text/x-python",
   "name": "python",
   "nbconvert_exporter": "python",
   "pygments_lexer": "ipython2",
   "version": "2.7.11"
  }
 },
 "nbformat": 4,
 "nbformat_minor": 1
}
