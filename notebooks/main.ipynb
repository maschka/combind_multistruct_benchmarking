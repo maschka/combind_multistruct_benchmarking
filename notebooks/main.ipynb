{
 "cells": [
  {
   "cell_type": "code",
   "execution_count": 1,
   "metadata": {},
   "outputs": [],
   "source": [
    "import sys\n",
    "import os\n",
    "\n",
    "import matplotlib\n",
    "matplotlib.use('Agg')\n",
    "from matplotlib import pyplot as plt\n",
    "import numpy as np\n",
    "\n",
    "sys.path.append(os.getcwd())\n",
    "from load_data import *\n",
    "from plotting_tools import *\n",
    "\n",
    "sys.path.append('../3_score/')\n",
    "from optimize import Scores"
   ]
  },
  {
   "cell_type": "code",
   "execution_count": 13,
   "metadata": {
    "collapsed": true
   },
   "outputs": [],
   "source": [
    "data_set_dir = '/scratch/PI/rondror/docking_data/CHK1/'   \n",
    "   \n",
    "rmsd_file = 'rmsd.csv'\n",
    "ligands_dir = data_set_dir + 'ligands/'\n",
    "grids_dir = data_set_dir + 'grids/'\n",
    "glide_dir = data_set_dir + 'glide/'\n",
    "crystal_fp_file = data_set_dir + 'structure_fingerprints/ifp.fp'\n",
    "docking_fp_dir = data_set_dir + 'docking_fingerprints/'\n",
    "\n",
    "#crystal_fp_file2 = data_set_dir + 'crystal_fp_jetynan/ifp.fp'\n",
    "#docking_fp_dir2 = data_set_dir + 'glide_fp_jetynan/'"
   ]
  },
  {
   "cell_type": "code",
   "execution_count": 14,
   "metadata": {},
   "outputs": [
    {
     "name": "stdout",
     "output_type": "stream",
     "text": [
      "Found 13 grids\n",
      "Found 13 ligands\n",
      "Loading crystal structures...\n",
      "Loading docking results...\n",
      "Loading glidescores...\n",
      "All ligands and structures successfully docked. Nice!\n",
      "Loading rmsds...\n"
     ]
    }
   ],
   "source": [
    "## useful class specifications:\n",
    "# Ligand -- attributes: crystal (currently not used/none), poses (dict of pose_num:pose).\n",
    "# Pose -- attributes: rmsd (float), fp (Fingerprint, num (integer), gscore (float)\n",
    "# FuzzyFingerPrint -- attributes: pdb, feats (dict of residue name:interaction list).\n",
    "\n",
    "# crystals: maps structures to Poses, \n",
    "#           e.g., crystals['4LDO'] = Pose(rmsd=0, fingerprint, num=0, gscore=0)\n",
    "# glides:   maps ligand_struct, grid_struct to Ligands, \n",
    "#           e.g., glides['4LDO']['4LDO'] = Ligand(...)\n",
    "\n",
    "## STEP 1:\n",
    "## load in the crystal structures, docking results, and fingerprints\n",
    "(crystals, glides) = load_data(\n",
    "    data_set_dir, rmsd_file, ligands_dir, grids_dir, glide_dir, crystal_fp_file, docking_fp_dir)\n",
    "\n",
    "#(crystals2, glides2) = load_data(\n",
    "#    data_set_dir, rmsd_file, ligands_dir, grids_dir, glide_dir, crystal_fp_file2, docking_fp_dir2)"
   ]
  },
  {
   "cell_type": "code",
   "execution_count": 4,
   "metadata": {},
   "outputs": [
    {
     "data": {
      "image/png": "[encoded data removed]",
      "text/plain": [
       "<matplotlib.figure.Figure at 0x7f5e93d14790>"
      ]
     },
     "metadata": {},
     "output_type": "display_data"
    }
   ],
   "source": [
    "## STEP 2:\n",
    "## visualize docking results\n",
    "\n",
    "# in the heatmaps, each row is a structure and each column is a ligand\n",
    "\n",
    "get_ipython().magic(u'matplotlib inline')\n",
    "\n",
    "max_num_poses = 50\n",
    "\n",
    "# this shows the rmsds of glide's top ranked poses (pose 0)\n",
    "#top_rmsd_matrix = top_pose(glides)\n",
    "#heatmap(top_rmsd_matrix, glides)\n",
    "\n",
    "# this shows the losest rmsd in the first 'max_num_poses' poses\n",
    "best_rmsd_matrix = best_pose(glides, max_num_poses)\n",
    "heatmap(best_rmsd_matrix, glides)"
   ]
  },
  {
   "cell_type": "code",
   "execution_count": null,
   "metadata": {},
   "outputs": [],
   "source": [
    "## STEP 3:\n",
    "## pick 1 receptor structure to use for all ligands\n",
    "## filter ligands that are poorly docked\n",
    "\n",
    "rmsd_filter = lambda x: x < 2\n",
    "best_structure, filtered_ligands, ave_rmsd = get_structure_and_ligands(best_rmsd_matrix, rmsd_filter, glides.keys())\n",
    "\n",
    "print 'The best structure is ' + best_structure\n",
    "print str(len(filtered_ligands)) + ' of ' + str(len(glides.keys())) + ' ligands were docked well:'\n",
    "print filtered_ligands\n",
    "print 'with an average best rmsd of ' + str(ave_rmsd)[:5]"
   ]
  },
  {
   "cell_type": "code",
   "execution_count": null,
   "metadata": {
    "collapsed": true
   },
   "outputs": [],
   "source": [
    "## STEP 4:\n",
    "## score all pairs of ligands\n",
    "\n",
    "# optional arguments: overlap (function) and weights (dictionary of interaction_index to weight)\n",
    "scores = Scores(glides, crystals, filtered_ligands, best_structure, max_num_poses)"
   ]
  },
  {
   "cell_type": "code",
   "execution_count": null,
   "metadata": {
    "collapsed": true
   },
   "outputs": [],
   "source": [
    "scores2 = Scores(glides2, crystals2, filtered_ligands, best_structure, max_num_poses)"
   ]
  },
  {
   "cell_type": "code",
   "execution_count": null,
   "metadata": {},
   "outputs": [],
   "source": [
    "## STEP 5:\n",
    "## plot results\n",
    "\n",
    "# final_rmsds maps a ligand to its final_rmsd\n",
    "final_rmsds = plot_final_rmsds(scores,'final')#,scores2,'new h bonds', show_glide=False)"
   ]
  },
  {
   "cell_type": "code",
   "execution_count": null,
   "metadata": {},
   "outputs": [],
   "source": [
    "(worst_lig, worst_rmsd) = final_rmsds[np.argmax([i[1] for i in final_rmsds])]\n",
    "print worst_lig, worst_rmsd"
   ]
  },
  {
   "cell_type": "code",
   "execution_count": null,
   "metadata": {
    "scrolled": false
   },
   "outputs": [],
   "source": [
    "#worst_lig='4EK4'\n",
    "\n",
    "## STEP 6:\n",
    "## look at the final scores for all poses of the worst ligand\n",
    "\n",
    "## for our method to work repeatably and reliably,\n",
    "## there needs to be a strong correlation in these plots\n",
    "\n",
    "plot_scores_vs_rmsds(worst_lig, scores, lab=worst_lig)#, scores2=scores2, lab2='new h')"
   ]
  },
  {
   "cell_type": "code",
   "execution_count": null,
   "metadata": {
    "scrolled": false
   },
   "outputs": [],
   "source": [
    "## STEP 7: \n",
    "## look through pairs involving worst_lig\n",
    "\n",
    "l1 = worst_lig\n",
    "(l2, next_worst_rmsd) = final_rmsds[np.argmax([i[1] if i[1] != worst_rmsd else 0 for i in final_rmsds])]\n",
    "\n",
    "print l1, l2"
   ]
  },
  {
   "cell_type": "code",
   "execution_count": null,
   "metadata": {},
   "outputs": [],
   "source": [
    "## STEP 8: debug the worst pair\n",
    "\n",
    "get_ipython().magic(u'matplotlib inline')\n",
    "\n",
    "plot_all_poses(l1, l2, scores, l1 + ' ' + l2)#, scores2, label2)"
   ]
  },
  {
   "cell_type": "code",
   "execution_count": null,
   "metadata": {
    "collapsed": true
   },
   "outputs": [],
   "source": [
    "## use this block to extract interesting pairs from the plot above\n",
    "\n",
    "'''\n",
    "scored_pairs[0][pair], # rmsd ave\n",
    "scored_pairs[1][pair], # gscore sum\n",
    "scored_pairs[2][pair], # pair score\n",
    "scored_pairs[3][pair], # l1 pose num\n",
    "scored_pairs[4][pair]))# l2 pose num\n",
    "'''\n",
    "\n",
    "bad_rmsd = lambda r1,r2: (r1+r2)/2.0 >= 2\n",
    "good_rmsd = lambda r1,r2: (r1+r2)/2.0 <= 1\n",
    "good_score = lambda score: score >= 50\n",
    "combo = lambda rmsd, score: score and rmsd\n",
    "\n",
    "# output: p1, p2, r1, r2, score(p1,p2)\n",
    "bad_pairs = scores.get_filtered_pose_pairs(l1, l2, bad_rmsd, good_score, combo)\n",
    "bad_pairs.sort(key=lambda x: x[4])\n",
    "bad_pairs.reverse()\n",
    "\n",
    "good_pairs = scores.get_filtered_pose_pairs(l1, l2, good_rmsd, good_score, combo)\n",
    "good_pairs.sort(key=lambda x: x[4])\n",
    "good_pairs.reverse()\n",
    "\n",
    "print l1, l2\n",
    "print 'Bad pairs:'\n",
    "for i in range(min(5, len(bad_pairs))):\n",
    "    print bad_pairs[i]\n",
    "print 'Good pairs:'\n",
    "for i in range(min(5, len(good_pairs))):\n",
    "    print good_pairs[i]"
   ]
  },
  {
   "cell_type": "code",
   "execution_count": null,
   "metadata": {
    "collapsed": true
   },
   "outputs": [],
   "source": [
    "(bad_score,  bad_interactions)  = scores.get_interactions(l1, l2, bad_pairs[0][0],  bad_pairs[0][1])\n",
    "(good_score, good_interactions) = scores.get_interactions(l1, l2, good_pairs[0][0], good_pairs[0][1])\n",
    "(true_score, true_interactions) = scores.get_interactions(l1, l2, -1, -1)\n",
    "\n",
    "# returns list of tuples: (arg1_strength - arg2_strenth, res, interaction_type)\n",
    "explore_1 = scores.find_mismatched_interactions(true_interactions, good_interactions)\n",
    "explore_2 = scores.find_mismatched_interactions(true_interactions, bad_interactions)\n",
    "\n",
    "explore_1.sort(key=lambda x: abs(x[0]), reverse=True) # sort on absolute value of the mismatch\n",
    "explore_2.sort(key=lambda x: x[0])\n",
    "\n",
    "print 'Biggest mismatches between the good pose and the crystal pose'\n",
    "for i in range(10):\n",
    "    print explore_1[i]\n",
    "print '--------'\n",
    "print 'Biggest negative mismatches between the bad pose and the crystal pose'\n",
    "for i in range(10):\n",
    "    print explore_2[i]"
   ]
  }
 ],
 "metadata": {
  "anaconda-cloud": {},
  "kernelspec": {
   "display_name": "Python 2",
   "language": "python",
   "name": "python2"
  },
  "language_info": {
   "codemirror_mode": {
    "name": "ipython",
    "version": 2
   },
   "file_extension": ".py",
   "mimetype": "text/x-python",
   "name": "python",
   "nbconvert_exporter": "python",
   "pygments_lexer": "ipython2",
   "version": "2.7.11"
  }
 },
 "nbformat": 4,
 "nbformat_minor": 1
}
