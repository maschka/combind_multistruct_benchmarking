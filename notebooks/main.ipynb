{
 "cells": [
  {
   "cell_type": "code",
   "execution_count": 20,
   "metadata": {},
   "outputs": [
    {
     "name": "stderr",
     "output_type": "stream",
     "text": [
      "/home/jbelk/.local/lib/python2.7/site-packages/matplotlib/__init__.py:1405: UserWarning: \n",
      "This call to matplotlib.use() has no effect because the backend has already\n",
      "been chosen; matplotlib.use() must be called *before* pylab, matplotlib.pyplot,\n",
      "or matplotlib.backends is imported for the first time.\n",
      "\n",
      "  warnings.warn(_use_error_msg)\n"
     ]
    }
   ],
   "source": [
    "import sys\n",
    "import os\n",
    "\n",
    "import matplotlib\n",
    "matplotlib.use('Agg')\n",
    "from matplotlib import pyplot as plt\n",
    "import numpy as np\n",
    "\n",
    "sys.path.append(os.getcwd())\n",
    "from load_data import *\n",
    "from plotting_tools import *\n",
    "\n",
    "sys.path.append('../3_score/')\n",
    "from optimize import Scores"
   ]
  },
  {
   "cell_type": "code",
   "execution_count": 21,
   "metadata": {
    "collapsed": true
   },
   "outputs": [],
   "source": [
    "receptor = 'CHK1'#AR B2AR CDK2 CHK1 HSP90 LPXC TRMD\n",
    "\n",
    "data_set_dir = '/scratch/PI/rondror/docking_data/'+receptor+'/'\n",
    "   \n",
    "rmsd_file = 'rmsd.csv'\n",
    "ligands_dir = data_set_dir + 'ligands/'\n",
    "grids_dir = data_set_dir + 'grids/'\n",
    "glide_dir = data_set_dir + 'glide/'\n",
    "crystal_fp_file = data_set_dir + 'crystal_ifp_july9/ifp.fp'\n",
    "docking_fp_dir = data_set_dir + 'glide_ifp_july9/'\n",
    "\n",
    "#crystal_fp_file2 = data_set_dir + 'crystal_ifp_july8_2/ifp.fp'\n",
    "#docking_fp_dir2 = data_set_dir + 'glide_ifp_july8_2/'"
   ]
  },
  {
   "cell_type": "code",
   "execution_count": 22,
   "metadata": {},
   "outputs": [
    {
     "name": "stdout",
     "output_type": "stream",
     "text": [
      "Found 13 grids\n",
      "Found 13 ligands\n",
      "Loading crystal structures...\n",
      "Loading docking results...\n",
      "Loading glidescores...\n",
      "All ligands and structures successfully docked. Nice!\n",
      "Loading rmsds...\n",
      "All ligands successfully fingerprinted. Nice!\n"
     ]
    }
   ],
   "source": [
    "## useful class specifications:\n",
    "# Ligand -- attributes: crystal (currently not used/none), poses (dict of pose_num:pose).\n",
    "# Pose -- attributes: rmsd (float), fp (Fingerprint, num (integer), gscore (float)\n",
    "# FuzzyFingerPrint -- attributes: pdb, feats (dict of residue name:interaction list).\n",
    "\n",
    "# crystals: maps structures to Poses, \n",
    "#           e.g., crystals['4LDO'] = Pose(rmsd=0, fingerprint, num=0, gscore=0)\n",
    "# glides:   maps ligand_struct, grid_struct to Ligands, \n",
    "#           e.g., glides['4LDO']['4LDO'] = Ligand(...)\n",
    "w1 = [10,10,10,1,0]\n",
    "w2 = [10,10,0,0,1]\n",
    "## STEP 1:\n",
    "## load in the crystal structures, docking results, and fingerprints\n",
    "(crystals, glides) = load_data(\n",
    "    data_set_dir, rmsd_file, ligands_dir, grids_dir, glide_dir, crystal_fp_file, docking_fp_dir,w=w1)\n",
    "\n",
    "#(crystals2, glides2) = load_data(\n",
    "#    data_set_dir, rmsd_file, ligands_dir, grids_dir, glide_dir, crystal_fp_file, docking_fp_dir,w=w2)"
   ]
  },
  {
   "cell_type": "code",
   "execution_count": 23,
   "metadata": {},
   "outputs": [
    {
     "name": "stdout",
     "output_type": "stream",
     "text": [
      "50\n",
      "1.63082248521\n"
     ]
    },
    {
     "data": {
      "image/png": "[encoded data removed]",
      "text/plain": [
       "<matplotlib.figure.Figure at 0x7f0a847b4690>"
      ]
     },
     "metadata": {},
     "output_type": "display_data"
    }
   ],
   "source": [
    "## STEP 2:\n",
    "## visualize docking results\n",
    "\n",
    "# in the heatmaps, each row is a structure and each column is a ligand\n",
    "\n",
    "get_ipython().magic(u'matplotlib inline')\n",
    "\n",
    "max_num_poses = 50\n",
    "for n in [50]:#1,10,50,100,150]:\n",
    "    print n\n",
    "# this shows the rmsds of glide's top ranked poses (pose 0)\n",
    "#top_rmsd_matrix = top_pose(glides)\n",
    "#heatmap(top_rmsd_matrix, glides)\n",
    "\n",
    "# this shows the lowest rmsd in the first 'max_num_poses' poses\n",
    "    best_rmsd_matrix = best_pose(glides, 50)\n",
    "    print np.mean(best_rmsd_matrix)\n",
    "    heatmap(best_rmsd_matrix, glides)"
   ]
  },
  {
   "cell_type": "code",
   "execution_count": 24,
   "metadata": {},
   "outputs": [
    {
     "name": "stdout",
     "output_type": "stream",
     "text": [
      "The best structure is 4FSR\n",
      "11 of 13 ligands were docked well:\n",
      "['4FSR', '4FSQ', '4FSW', '4FST', '4FTC', '4FT7', '4FT9', '4FT0', '4FSN', '4FSM', '4FT5']\n",
      "with an average best rmsd of 0.854\n"
     ]
    }
   ],
   "source": [
    "## STEP 3:\n",
    "## pick 1 receptor structure to use for all ligands\n",
    "## filter ligands that are poorly docked\n",
    "\n",
    "rmsd_filter = lambda x: x < 2\n",
    "best_structure, filtered_ligands, ave_rmsd = get_structure_and_ligands(best_rmsd_matrix, rmsd_filter, glides.keys())\n",
    "\n",
    "print 'The best structure is ' + best_structure\n",
    "print str(len(filtered_ligands)) + ' of ' + str(len(glides.keys())) + ' ligands were docked well:'\n",
    "print filtered_ligands\n",
    "print 'with an average best rmsd of ' + str(ave_rmsd)[:5]"
   ]
  },
  {
   "cell_type": "code",
   "execution_count": 25,
   "metadata": {
    "collapsed": true
   },
   "outputs": [],
   "source": [
    "## STEP 4:\n",
    "## score all pairs of ligands\n",
    "\n",
    "scores = Scores(glides, crystals, filtered_ligands, best_structure, max_num_poses)\n",
    "#scores2 = Scores(glides2, crystals2, filtered_ligands, best_structure, max_num_poses)"
   ]
  },
  {
   "cell_type": "code",
   "execution_count": null,
   "metadata": {
    "collapsed": true
   },
   "outputs": [],
   "source": [
    "#plot_magnitudes(scores2, receptor)"
   ]
  },
  {
   "cell_type": "code",
   "execution_count": 26,
   "metadata": {},
   "outputs": [
    {
     "data": {
      "image/png": "[encoded data removed]",
      "text/plain": [
       "<matplotlib.figure.Figure at 0x7f0a847dc090>"
      ]
     },
     "metadata": {},
     "output_type": "display_data"
    },
    {
     "name": "stdout",
     "output_type": "stream",
     "text": [
      "Our average rmsd:  1.834\n",
      "Best possible average rmsd:  0.854818181818\n",
      "Glide's average rmsd:  2.18945454545\n"
     ]
    }
   ],
   "source": [
    "## STEP 5:\n",
    "## plot results\n",
    "\n",
    "# final_rmsds maps a ligand to its final_rmsd\n",
    "final_rmsds = plot_final_rmsds(scores,receptor)#,scores2,'new vdw: ')\n",
    "\n",
    "print 'Our average rmsd: ', sum([i[1] for i in final_rmsds])/float(len(final_rmsds))\n",
    "print 'Best possible average rmsd: ', sum([i[2] for i in final_rmsds])/float(len(final_rmsds))\n",
    "print 'Glide\\'s average rmsd: ', sum([i[3] for i in final_rmsds])/float(len(final_rmsds))"
   ]
  },
  {
   "cell_type": "code",
   "execution_count": 27,
   "metadata": {},
   "outputs": [
    {
     "name": "stdout",
     "output_type": "stream",
     "text": [
      "4FSW 6.044 0.997 5.611\n"
     ]
    }
   ],
   "source": [
    "(worst_lig, worst_rmsd, b, c) = final_rmsds[np.argmax([i[1] for i in final_rmsds])]\n",
    "print worst_lig, worst_rmsd, b, c"
   ]
  },
  {
   "cell_type": "code",
   "execution_count": 28,
   "metadata": {},
   "outputs": [
    {
     "name": "stdout",
     "output_type": "stream",
     "text": [
      "4FSR\n",
      "Top pose: 0. Score: 985.385461079. RMSD: 0.252\n",
      "Best pose: 0. Score: 985.385461079. RMSD: 0.252\n",
      "Crystal pose score: 990.409600254\n",
      "4FSQ\n",
      "Top pose: 0. Score: 785.18266952. RMSD: 0.554\n",
      "Best pose: 0. Score: 785.18266952. RMSD: 0.554\n",
      "Crystal pose score: 793.32375041\n",
      "4FSW\n",
      "Top pose: 5. Score: 631.953588186. RMSD: 6.044\n",
      "Best pose: 8. Score: 554.496449832. RMSD: 0.997\n",
      "Crystal pose score: 558.827847532\n",
      "4FST\n",
      "Top pose: 0. Score: 870.370383964. RMSD: 2.204\n",
      "Best pose: 47. Score: 827.770500555. RMSD: 1.689\n",
      "Crystal pose score: 856.061761745\n",
      "4FTC\n",
      "Top pose: 4. Score: 774.4720829. RMSD: 2.011\n",
      "Best pose: 18. Score: 745.849037152. RMSD: 1.018\n",
      "Crystal pose score: 782.12596376\n",
      "4FT7\n",
      "Top pose: 21. Score: 798.295379969. RMSD: 1.57\n",
      "Best pose: 30. Score: 770.543753902. RMSD: 1.455\n",
      "Crystal pose score: 826.064256733\n",
      "4FT9\n",
      "Top pose: 1. Score: 764.43113579. RMSD: 1.139\n",
      "Best pose: 7. Score: 738.870393134. RMSD: 1.1\n",
      "Crystal pose score: 781.292497599\n",
      "4FT0\n",
      "Top pose: 1. Score: 930.041839497. RMSD: 3.005\n",
      "Best pose: 17. Score: 847.241829688. RMSD: 0.76\n",
      "Crystal pose score: 887.511995595\n",
      "4FSN\n",
      "Top pose: 32. Score: 1071.64990006. RMSD: 2.123\n",
      "Best pose: 15. Score: 1055.36925209. RMSD: 0.697\n",
      "Crystal pose score: 1056.09523783\n",
      "4FSM\n",
      "Top pose: 17. Score: 758.981756318. RMSD: 0.39\n",
      "Best pose: 47. Score: 756.498619904. RMSD: 0.292\n",
      "Crystal pose score: 764.78878737\n",
      "4FT5\n",
      "Top pose: 9. Score: 890.541284758. RMSD: 0.882\n",
      "Best pose: 0. Score: 878.875795389. RMSD: 0.589\n",
      "Crystal pose score: 902.787718802\n"
     ]
    }
   ],
   "source": [
    "worst_lig = '2R3H'\n",
    "\n",
    "for worst_lig in filtered_ligands:\n",
    "    print worst_lig\n",
    "    final_scores = scores.get_final_scores(worst_lig)[:-1]\n",
    "    rmsds = scores.get_rmsds(worst_lig)[:-1]\n",
    "\n",
    "    top_pose = np.argmax(final_scores)\n",
    "    best_pose = np.argmin(rmsds)\n",
    "\n",
    "    print 'Top pose: ' + str(top_pose) + '. Score: ' + str(final_scores[top_pose]) + '. RMSD: ' + str(rmsds[top_pose])\n",
    "    print 'Best pose: ' + str(best_pose) + '. Score: ' + str(final_scores[best_pose]) + '. RMSD: ' + str(rmsds[best_pose])\n",
    "    print 'Crystal pose score: ' + str(scores.get_final_scores(worst_lig)[-1])\n",
    "\n",
    "#print rmsds\n",
    "#print [glides[worst_lig][best_structure].poses[i].rmsd for i in range(50)]"
   ]
  },
  {
   "cell_type": "code",
   "execution_count": 29,
   "metadata": {
    "scrolled": false
   },
   "outputs": [
    {
     "data": {
      "image/png": "[encoded data removed]",
      "text/plain": [
       "<matplotlib.figure.Figure at 0x7f0a8dbd13d0>"
      ]
     },
     "metadata": {},
     "output_type": "display_data"
    }
   ],
   "source": [
    "worst_lig='4FSW'\n",
    "\n",
    "## STEP 6:\n",
    "## look at the final scores for all poses of the worst ligand\n",
    "\n",
    "## for our method to work repeatably and reliably,\n",
    "## there needs to be a strong correlation in these plots\n",
    "\n",
    "plot_scores_vs_rmsds(worst_lig, scores, lab=worst_lig)#, scores2=scores2, lab2='new h')"
   ]
  },
  {
   "cell_type": "code",
   "execution_count": 30,
   "metadata": {},
   "outputs": [
    {
     "name": "stdout",
     "output_type": "stream",
     "text": [
      "13 [0, 0, 0, 0.16479705486799998, 0]\n",
      "14 [0, 0, 0, 0.237171088281, 0]\n",
      "15 [0, 0, 0, 7.6957296044300012, 0]\n",
      "16 [0, 0, 0, 0.69342340084900012, 0]\n",
      "17 [0, 0, 0, 0.18844643261499999, 0]\n",
      "22 [0, 0, 0, 0.142086199169, 0]\n",
      "23 [0, 0, 0, 4.1142350291800005, 0]\n",
      "24 [0, 0, 0, 0.28770834236499992, 0]\n",
      "25 [0, 0, 0, 0.36608550004500001, 0]\n",
      "35 [0, 0, 0, 0.18070457814999999, 0]\n",
      "36 [0, 0, 0, 1.8357745286800002, 0]\n",
      "37 [0, 0, 0, 0.26080029598300003, 0]\n",
      "38 [0, 0, 0, 0.84072834463900004, 0]\n",
      "68 [0, 0, 0, 0.52683160982999999, 0]\n",
      "82 [0, 0, 0, 0.11784801527999998, 0]\n",
      "84 [0, 0, 0, 1.1783317942, 0]\n",
      "85 [0, 0.54416310005000001, 0, 0.97729949476599998, 0]\n",
      "86 [0, 0, 0, 3.7858032261299996, 0]\n",
      "87 [9.1634152360700014, 0, 0, 3.3695145906599997, 0]\n",
      "88 [0, 0, 0, 0.55048251448100005, 0]\n",
      "89 [0, 0, 0, 0.31168270112399993, 0]\n",
      "90 [0, 0, 0, 2.1477877519499997, 0]\n",
      "91 [0, 0.69099929591900022, 0, 2.9349216830299998, 0]\n",
      "94 [0, 0, 0, 0.12551459340900001, 0]\n",
      "134 [0, 0, 0, 0.33281594608199999, 0]\n",
      "135 [0, 0, 0, 0.37179484383199995, 0]\n",
      "136 [0, 0, 0, 0.179637794781, 0]\n",
      "137 [0, 0, 0, 5.2650639517999993, 0]\n",
      "138 [0, 0, 0, 0.26134022128200002, 0]\n",
      "145 [0, 0, 0, 0.13169354729700003, 0]\n",
      "147 [0, 0, 0, 1.06568380044, 0]\n",
      "148 [0, 0, 0, 0.72052526622199997, 0]\n"
     ]
    }
   ],
   "source": [
    "fp = glides[worst_lig][best_structure].poses[best_pose].fp.feats\n",
    "\n",
    "for res in sorted(map(int,fp.keys())):\n",
    "    thresh = [i**2 if i**2 > 0.1 else 0 for i in fp[str(res)]]\n",
    "    if any(thresh):\n",
    "        print res, thresh"
   ]
  },
  {
   "cell_type": "code",
   "execution_count": 31,
   "metadata": {},
   "outputs": [
    {
     "name": "stdout",
     "output_type": "stream",
     "text": [
      "13 [0, 0, 0, 0.113832776272, 0]\n",
      "14 [0, 0, 0, 0.17711252576700004, 0]\n",
      "15 [0, 0, 0, 6.4598160006899992, 0]\n",
      "16 [0, 0, 0, 0.74633633398800003, 0]\n",
      "17 [0, 0, 0, 0.16537869926899998, 0]\n",
      "22 [0, 0, 0, 0.13525364519300004, 0]\n",
      "23 [0, 0, 0, 4.1693579908699991, 0]\n",
      "24 [0, 0, 0, 0.31219233953400005, 0]\n",
      "25 [0, 0, 0, 0.37454227404000001, 0]\n",
      "35 [0, 0, 0, 0.24054722557200001, 0]\n",
      "36 [0, 0, 0, 2.3849832006899998, 0]\n",
      "37 [0, 0, 0, 0.32028538073400004, 0]\n",
      "38 [0, 0, 0, 0.98177860701499986, 0]\n",
      "55 [0, 0, 0, 0.10306407724399999, 0]\n",
      "68 [0, 0, 0, 1.3857097292699998, 0]\n",
      "69 [0, 0, 0, 0.12445830096800001, 0]\n",
      "82 [0, 0, 0, 0.17019932932000001, 0]\n",
      "83 [0, 0, 0, 0.112840559157, 0]\n",
      "84 [0, 0, 0, 2.5611235673499997, 0]\n",
      "85 [0, 1.0081233432099996, 0, 1.5672570987000003, 0]\n",
      "86 [0, 0, 0, 3.8681596058399998, 0]\n",
      "87 [0, 0, 0, 3.3282252885600005, 0]\n",
      "88 [0, 0, 0, 0.48457167957200004, 0]\n",
      "89 [0, 0, 0, 0.197965941058, 0]\n",
      "90 [0, 0, 0, 1.23215298574, 0]\n",
      "91 [0, 0, 0, 1.5020532836599998, 0]\n",
      "134 [0, 0, 0, 0.26294983980600001, 0]\n",
      "135 [0, 0, 0, 0.45710235856199999, 0]\n",
      "136 [0, 0, 0, 0.17559802364700003, 0]\n",
      "137 [0, 0, 0, 5.3461508876499995, 0]\n",
      "138 [0, 0, 0, 0.23401255225000003, 0]\n",
      "145 [0, 0, 0, 0.17006830322400002, 0]\n",
      "146 [0, 0, 0, 0.157119687309, 0]\n",
      "147 [0, 0, 0, 2.55831529652, 0]\n",
      "148 [0, 0, 0, 1.66988630599, 0]\n",
      "149 [0, 0, 0, 0.26189065748200008, 0]\n"
     ]
    }
   ],
   "source": [
    "fp = glides[worst_lig][best_structure].poses[top_pose].fp.feats\n",
    "\n",
    "for res in sorted(map(int,fp.keys())):\n",
    "    thresh = [i**2 if i**2 > 0.1 else 0 for i in fp[str(res)]]\n",
    "    if any(thresh):\n",
    "        print res, thresh"
   ]
  },
  {
   "cell_type": "code",
   "execution_count": null,
   "metadata": {
    "collapsed": true
   },
   "outputs": [],
   "source": [
    "fp = crystals[worst_lig].fp.feats\n",
    "\n",
    "for res in sorted(fp.keys()):\n",
    "    print res, [i if abs(i) > 0.1 else 0 for i in fp[res]]"
   ]
  },
  {
   "cell_type": "code",
   "execution_count": null,
   "metadata": {
    "collapsed": true,
    "scrolled": false
   },
   "outputs": [],
   "source": [
    "## STEP 7: \n",
    "## look through pairs involving worst_lig\n",
    "\n",
    "l1 = worst_lig\n",
    "#(l2, next_worst_rmsd, b, c) = final_rmsds[np.argmax([i[1] if i[1] != worst_rmsd else 0 for i in final_rmsds])]\n",
    "l2 = '3V49'\n",
    "print l1, l2"
   ]
  },
  {
   "cell_type": "code",
   "execution_count": null,
   "metadata": {
    "collapsed": true
   },
   "outputs": [],
   "source": [
    "## STEP 8: debug the worst pair\n",
    "\n",
    "get_ipython().magic(u'matplotlib inline')\n",
    "\n",
    "plot_all_poses(l1, l2, scores2, l1 + ' ' + l2)#, scores2, 'new')"
   ]
  },
  {
   "cell_type": "code",
   "execution_count": null,
   "metadata": {
    "collapsed": true
   },
   "outputs": [],
   "source": [
    "## use this block to extract interesting pairs from the plot above\n",
    "\n",
    "# l1 pose num, l2 pose num, rmsd1, rmsd2, score\n",
    "\n",
    "bad_rmsd = lambda r1,r2: (r1+r2)/2.0 >= 2\n",
    "good_rmsd = lambda r1,r2: (r1+r2)/2.0 <= 2\n",
    "good_score = lambda score: score >= 50\n",
    "combo = lambda rmsd, score: score and rmsd\n",
    "\n",
    "# output: p1, p2, r1, r2, score(p1,p2)\n",
    "bad_pairs = scores.get_filtered_pose_pairs(l1, l2, bad_rmsd, good_score, combo)\n",
    "bad_pairs.sort(key=lambda x: x[4])\n",
    "bad_pairs.reverse()\n",
    "\n",
    "good_pairs = scores.get_filtered_pose_pairs(l1, l2, good_rmsd, good_score, combo)\n",
    "good_pairs.sort(key=lambda x: x[4])\n",
    "good_pairs.reverse()\n",
    "\n",
    "print l1, l2\n",
    "print 'Bad pairs:'\n",
    "for i in range(min(5, len(bad_pairs))):\n",
    "    print bad_pairs[i]\n",
    "print 'Good pairs:'\n",
    "for i in range(min(5, len(good_pairs))):\n",
    "    print good_pairs[i]"
   ]
  },
  {
   "cell_type": "code",
   "execution_count": null,
   "metadata": {
    "collapsed": true
   },
   "outputs": [],
   "source": [
    "(bad_score,  bad_interactions)  = scores.get_interactions(l1, l2, bad_pairs[0][0],  bad_pairs[0][1])\n",
    "(good_score, good_interactions) = scores.get_interactions(l1, l2, good_pairs[0][0], good_pairs[0][1])\n",
    "(true_score, true_interactions) = scores.get_interactions(l1, l2, -1, -1)\n",
    "\n",
    "# returns list of tuples: (arg1_strength - arg2_strenth, res, interaction_type)\n",
    "explore_1 = scores.find_mismatched_interactions(true_interactions, good_interactions)\n",
    "explore_2 = scores.find_mismatched_interactions(true_interactions, bad_interactions)\n",
    "\n",
    "explore_1.sort(key=lambda x: abs(x[0]), reverse=True) # sort on absolute value of the mismatch\n",
    "explore_2.sort(key=lambda x: x[0])\n",
    "\n",
    "print 'Biggest mismatches between the good pose and the crystal pose'\n",
    "for i in range(10):\n",
    "    print explore_1[i]\n",
    "print '--------'\n",
    "print 'Biggest negative mismatches between the bad pose and the crystal pose'\n",
    "for i in range(10):\n",
    "    print explore_2[i]"
   ]
  },
  {
   "cell_type": "code",
   "execution_count": null,
   "metadata": {
    "collapsed": true
   },
   "outputs": [],
   "source": [
    "#print crystals.keys()\n",
    "for res in crystals['3V4A'].fp.feats.keys():\n",
    "    print res, [i if abs(i) > .01 else 0 for i in crystals['3V4A'].fp.feats[res]]"
   ]
  },
  {
   "cell_type": "code",
   "execution_count": null,
   "metadata": {
    "collapsed": true
   },
   "outputs": [],
   "source": []
  }
 ],
 "metadata": {
  "anaconda-cloud": {},
  "kernelspec": {
   "display_name": "Python 2",
   "language": "python",
   "name": "python2"
  },
  "language_info": {
   "codemirror_mode": {
    "name": "ipython",
    "version": 2
   },
   "file_extension": ".py",
   "mimetype": "text/x-python",
   "name": "python",
   "nbconvert_exporter": "python",
   "pygments_lexer": "ipython2",
   "version": "2.7.11"
  }
 },
 "nbformat": 4,
 "nbformat_minor": 1
}
