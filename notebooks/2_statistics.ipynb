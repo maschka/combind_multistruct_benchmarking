{
 "cells": [
  {
   "cell_type": "code",
   "execution_count": null,
   "metadata": {
    "collapsed": false
   },
   "outputs": [],
   "source": [
    "import sys\n",
    "\n",
    "sys.path.append('../3_analyze')\n",
    "from containers import Dataset\n",
    "from stats_containers import AllStatistics\n",
    "from utils import stats_hist\n",
    "\n",
    "get_ipython().magic(u'matplotlib inline')"
   ]
  },
  {
   "cell_type": "code",
   "execution_count": null,
   "metadata": {
    "collapsed": false,
    "scrolled": false
   },
   "outputs": [],
   "source": [
    "stats_prots = ['SIGMA1','5HT2B']\n",
    "k_list = ['mcss','hbond','sb','pipi']"
   ]
  },
  {
   "cell_type": "code",
   "execution_count": null,
   "metadata": {
    "collapsed": false
   },
   "outputs": [],
   "source": [
    "all_data = Dataset(stats_prots)\n",
    "ligands = {p:prot.lm.docked(prot.lm.pdb) for p,prot in all_data.proteins.items()}\n",
    "all_data.load(ligands, load_fp=True, load_mcss=True)"
   ]
  },
  {
   "cell_type": "code",
   "execution_count": null,
   "metadata": {
    "collapsed": false,
    "scrolled": false
   },
   "outputs": [],
   "source": [
    "alls = AllStatistics(ligands, k_list)\n",
    "alls.create(all_data,10**2,0.02,100)"
   ]
  },
  {
   "cell_type": "code",
   "execution_count": null,
   "metadata": {
    "collapsed": false,
    "scrolled": false
   },
   "outputs": [],
   "source": [
    "for k in k_list:\n",
    "    native = 1\n",
    "    allposes = -1\n",
    "    decoy = 0\n",
    "    if alls.dist[native][k] is None: continue\n",
    "    print k\n",
    "    stats_hist(alls.dist[native][k],alls.dist[decoy][k])\n",
    "    "
   ]
  },
  {
   "cell_type": "code",
   "execution_count": null,
   "metadata": {
    "collapsed": true
   },
   "outputs": [],
   "source": []
  }
 ],
 "metadata": {
  "kernelspec": {
   "display_name": "Python 2",
   "language": "python",
   "name": "python2"
  },
  "language_info": {
   "codemirror_mode": {
    "name": "ipython",
    "version": 2
   },
   "file_extension": ".py",
   "mimetype": "text/x-python",
   "name": "python",
   "nbconvert_exporter": "python",
   "pygments_lexer": "ipython2",
   "version": "2.7.11"
  }
 },
 "nbformat": 4,
 "nbformat_minor": 0
}
