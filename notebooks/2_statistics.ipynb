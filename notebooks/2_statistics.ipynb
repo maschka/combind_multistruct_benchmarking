{
 "cells": [
  {
   "cell_type": "code",
   "execution_count": null,
   "metadata": {
    "collapsed": false
   },
   "outputs": [],
   "source": [
    "import os\n",
    "import sys\n",
    "\n",
    "import numpy as np\n",
    "\n",
    "import warnings\n",
    "warnings.simplefilter(action='ignore', category=FutureWarning)\n",
    "\n",
    "import matplotlib\n",
    "matplotlib.use('Agg')\n",
    "from matplotlib import pyplot as plt\n",
    "import matplotlib.cm as cm\n",
    "from matplotlib import gridspec\n",
    "\n",
    "get_ipython().magic(u'matplotlib inline')\n",
    "\n",
    "sys.path.append('../3_analyze')\n",
    "from containers import Dataset\n",
    "from utils import export, show_side_by_side, load_score_file\n",
    "from statistics import *\n",
    "from stats_containers import AllStatistics, stats_hist\n",
    "\n",
    "sys.path.append('../1_dock')\n",
    "from parse_chembl import load_chembl_raw, load_chembl_proc"
   ]
  },
  {
   "cell_type": "code",
   "execution_count": null,
   "metadata": {
    "collapsed": false
   },
   "outputs": [],
   "source": [
    "data_dir = '/scratch/PI/rondror/jbelk/method/data'\n",
    "glide_dir = 'docking/glide12'\n",
    "ifp_dir = 'ifp/ifp2'\n",
    "mcss_dir = 'mcss/mcss7'"
   ]
  },
  {
   "cell_type": "code",
   "execution_count": null,
   "metadata": {
    "collapsed": false,
    "scrolled": false
   },
   "outputs": [],
   "source": [
    "stats_prots = ['SIGMA1','5HT2B']\n",
    "\n",
    "features = {\n",
    "    'mcss':[],\n",
    "    'hbond':[2,3],\n",
    "    'sb':[4],\n",
    "    'pipi1':[5],\n",
    "    'pipi':[6],\n",
    "    'picat':[7,8],\n",
    "    #'c1':[10],\n",
    "    'contact':[11]\n",
    "}\n",
    "\n",
    "all_data = Dataset(stats_prots, data_dir, glide_dir, ifp_dir, mcss_dir)\n",
    "\n",
    "ligands = {p:prot.lm.get_docked(pdb_only=True) for p,prot in all_data.proteins.items()}\n",
    "\n",
    "all_data.load(ligands, load_fp=True, load_mcss=True)"
   ]
  },
  {
   "cell_type": "code",
   "execution_count": null,
   "metadata": {
    "collapsed": false,
    "scrolled": false
   },
   "outputs": [],
   "source": [
    "alls = AllStatistics(ligands, features)\n",
    "alls.create(all_data,10**2,0.02,100)"
   ]
  },
  {
   "cell_type": "code",
   "execution_count": null,
   "metadata": {
    "collapsed": false,
    "scrolled": false
   },
   "outputs": [],
   "source": [
    "for k in features:\n",
    "    native = 1\n",
    "    allposes = -1\n",
    "    decoy = 0\n",
    "    if alls.dist[native][k] is None: continue\n",
    "    print k\n",
    "    stats_hist(alls.dist[native][k],alls.dist[decoy][k])\n",
    "    "
   ]
  },
  {
   "cell_type": "code",
   "execution_count": null,
   "metadata": {
    "collapsed": false,
    "scrolled": false
   },
   "outputs": [],
   "source": [
    "for f_name in features.keys():\n",
    "    if f_name == 'contact': continue\n",
    "    print f_name\n",
    "    stats.show_stats(f_name, raw=False, smoothed=True, conditional=False)\n",
    "    #stats.show_stats_by_pair(f_name, raw=False, smoothed=True)"
   ]
  },
  {
   "cell_type": "code",
   "execution_count": null,
   "metadata": {
    "collapsed": true
   },
   "outputs": [],
   "source": []
  }
 ],
 "metadata": {
  "kernelspec": {
   "display_name": "Python 2",
   "language": "python",
   "name": "python2"
  },
  "language_info": {
   "codemirror_mode": {
    "name": "ipython",
    "version": 2
   },
   "file_extension": ".py",
   "mimetype": "text/x-python",
   "name": "python",
   "nbconvert_exporter": "python",
   "pygments_lexer": "ipython2",
   "version": "2.7.11"
  }
 },
 "nbformat": 4,
 "nbformat_minor": 0
}
