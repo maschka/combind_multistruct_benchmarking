{
 "cells": [
  {
   "cell_type": "code",
   "execution_count": 3,
   "metadata": {
    "collapsed": false
   },
   "outputs": [
    {
     "name": "stderr",
     "output_type": "stream",
     "text": [
      "/share/PI/rondror/software/miniconda/lib/python2.7/site-packages/matplotlib/__init__.py:1318: UserWarning:  This call to matplotlib.use() has no effect\n",
      "because the backend has already been chosen;\n",
      "matplotlib.use() must be called *before* pylab, matplotlib.pyplot,\n",
      "or matplotlib.backends is imported for the first time.\n",
      "\n",
      "  warnings.warn(_use_error_msg)\n"
     ]
    }
   ],
   "source": [
    "import sys\n",
    "import os\n",
    "\n",
    "import matplotlib\n",
    "matplotlib.use('Agg')\n",
    "from matplotlib import pyplot as plt\n",
    "import numpy as np\n",
    "import itertools as it\n",
    "\n",
    "sys.path.append(os.getcwd())\n",
    "from load_data import *\n",
    "from plotting_tools import *\n",
    "\n",
    "sys.path.append('../3_score/')\n",
    "from optimize import Scores"
   ]
  },
  {
   "cell_type": "code",
   "execution_count": 4,
   "metadata": {
    "collapsed": false
   },
   "outputs": [
    {
     "name": "stdout",
     "output_type": "stream",
     "text": [
      "0 1\n",
      "0 2\n",
      "0 3\n",
      "0 4\n",
      "0 5\n",
      "0 6\n",
      "0 7\n",
      "0 8\n"
     ]
    }
   ],
   "source": [
    "get_ipython().magic(u'matplotlib inline')\n",
    "\n",
    "all_scores = {}\n",
    "\n",
    "datasets = {'B1AR_all':'2VT4'}#, 'B2AR_all':'2RH1'}\n",
    "\n",
    "glide_ifp='xglide8'\n",
    "crystal_ifp='xcrystal8'\n",
    "w = [0,0,10,10,10,5,10,10,10,0.2,0,0,0]\n",
    "\n",
    "for receptor in ['B2AR_all']:#datasets:#, s in datasets.items():\n",
    "    \n",
    "    os.system('mkdir -p /scratch/PI/rondror/docking_data/{}/scoring_output'.format(receptor))\n",
    "        \n",
    "    (xcrystals, xglides, ligs, structs) = load_data(receptor,\n",
    "                                                    w=w,\n",
    "                                                    require_fp=True,\n",
    "                                                    glide_ifp=glide_ifp,\n",
    "                                                    crystal_ifp=crystal_ifp,\n",
    "                                                    load_docking=True)\n",
    "    \n",
    "    \n",
    "    all_scores[receptor] = {}\n",
    "    g = 27\n",
    "    \n",
    "    for i, s in enumerate(['4QKX']):#xcrystals.keys()):\n",
    "        if i > 1: break\n",
    "        \n",
    "        all_scores[receptor][s] = {}\n",
    "    \n",
    "        filt_lig = sorted([l for l in ligs if l != s])\n",
    "\n",
    "        all_scores[receptor][s][tuple(filt_lig)] = Scores(xglides, xcrystals, filt_lig, s, 25, gscore_weight=g)\n",
    "        all_pair_scores = all_scores[receptor][s][tuple(filt_lig)].all_scores\n",
    "        #final_rmsds = plot_final_rmsds(all_scores[receptor][s][tuple(filt_lig)], 'hi')\n",
    "        \n",
    "        with open('/scratch/PI/rondror/docking_data/{}/scoring_output/{}_struct.txt'.format(receptor, s), 'a') as output_f:\n",
    "            output_f.write('# {} g={} {} {}\\n'.format(w, g, glide_ifp, crystal_ifp))\n",
    "            output_f.write(str(len(filt_lig)) + ':' + ','.join(filt_lig) + '\\n' )    \n",
    "            output_f.write(','.join([str(int(all_scores[receptor][s][tuple(filt_lig)].get_top_num(l, 1, glide=False))) for l in filt_lig]) + '\\n' )\n",
    "            \n",
    "            for k in range(1,len(filt_lig)):\n",
    "                print i, k\n",
    "                for combo in it.combinations(filt_lig, k):\n",
    "            #        #print combo\n",
    "                    all_scores[receptor][s][combo] = Scores(xglides, xcrystals, list(combo), s, 25, \n",
    "                                                            gscore_weight=g, all_scores=all_pair_scores)\n",
    "                    output_f.write(str(len(combo)) + ':' + ','.join(combo) + '\\n' )    \n",
    "                    output_f.write(','.join([str(int(all_scores[receptor][s][combo].get_top_num(l, 1, glide=False))) for l in combo]) + '\\n' )\n",
    "                    #break\n",
    "        '''all_scores[receptor][s] = Scores(xglides, xcrystals, filt_lig, s, 25, gscore_weight=g)\n",
    "\n",
    "        title = '{} docked to: {}. g={}'.format(receptor, s, g)\n",
    "        final_rmsds = plot_final_rmsds(all_scores[receptor][s], title)\n",
    "        plot_shared_interactions(all_scores[receptor][s], max_r=20, title=title)\n",
    "        plot_docking_by_structure(filt_lig, s, xglides, n_list=[0,5,25,300], title=title, scores=all_scores[receptor][s])\n",
    "\n",
    "        print s, 'performance:'\n",
    "        print_table(all_scores[receptor][s])'''"
   ]
  },
  {
   "cell_type": "code",
   "execution_count": 6,
   "metadata": {
    "collapsed": false
   },
   "outputs": [
    {
     "data": {
      "image/png": "[encoded data removed]",
      "text/plain": [
       "<matplotlib.figure.Figure at 0x2ba63a267f90>"
      ]
     },
     "metadata": {},
     "output_type": "display_data"
    }
   ],
   "source": [
    "get_ipython().magic(u'matplotlib inline')\n",
    "\n",
    "for receptor in all_scores:\n",
    "    for s in all_scores[receptor]:\n",
    "        tr = {}\n",
    "        for combo, scores in all_scores[receptor][s].items():\n",
    "            #print len(combo), np.mean([scores.get_top(l, 1, False) for l in combo])\n",
    "            if len(combo) not in tr:\n",
    "                tr[len(combo)] = []\n",
    "            tr[len(combo)].append(np.mean([scores.get_top_rmsd(l, 1, False) for l in combo]))\n",
    "\n",
    "        plt.plot([c for c, r in tr.items()], [np.mean(r) for c, r in tr.items()], '*-k', markersize=15)\n",
    "        max_y = 0\n",
    "        for combo_size, rmsds in tr.items():\n",
    "            max_y = max(max(rmsds), max_y)\n",
    "            #plt.plot([combo_size], [np.mean(rmsds)], '.k', markersize=20)\n",
    "            plt.plot([combo_size]*len(rmsds), rmsds, '.', markersize=10)\n",
    "            #break\n",
    "        plt.title('{}: {}'.format(receptor, s))\n",
    "        plt.xlabel('Number of ligands')\n",
    "        plt.ylabel('RMSD')\n",
    "        plt.axis([0,max(tr.keys())+1, 0, max_y+1])\n",
    "        plt.show()"
   ]
  },
  {
   "cell_type": "code",
   "execution_count": null,
   "metadata": {
    "collapsed": false
   },
   "outputs": [],
   "source": [
    "print [xglides['2VT4']['2Y02'].poses[i].gscore for i in range(5)]"
   ]
  },
  {
   "cell_type": "code",
   "execution_count": null,
   "metadata": {
    "collapsed": true
   },
   "outputs": [],
   "source": [
    "sc = Scores(xglides, xcrystals, ['2VT4'], '2Y02', 25, gscore_weight=g)"
   ]
  },
  {
   "cell_type": "code",
   "execution_count": null,
   "metadata": {
    "collapsed": false
   },
   "outputs": [],
   "source": [
    "print sc.get_top('2VT4'ligands"
   ]
  },
  {
   "cell_type": "code",
   "execution_count": 4,
   "metadata": {
    "collapsed": false
   },
   "outputs": [
    {
     "name": "stdout",
     "output_type": "stream",
     "text": [
      "[ 0.  0.  0.  0.  0.  0.  0.  0.  0.  0.  0.  0.  0.]\n"
     ]
    }
   ],
   "source": [
    "print xcrystals['2VT4']['A:129(ILE)']"
   ]
  },
  {
   "cell_type": "code",
   "execution_count": 5,
   "metadata": {
    "collapsed": false
   },
   "outputs": [
    {
     "name": "stdout",
     "output_type": "stream",
     "text": [
      "[ 0.          0.          0.          0.          0.          0.          0.\n",
      "  0.          0.          0.24449823  0.          0.          0.        ]\n"
     ]
    }
   ],
   "source": [
    "print xcrystals['2VT4']['A:203(THR)']"
   ]
  },
  {
   "cell_type": "code",
   "execution_count": 14,
   "metadata": {
    "collapsed": false,
    "scrolled": false
   },
   "outputs": [
    {
     "name": "stdout",
     "output_type": "stream",
     "text": [
      "69 23\n",
      "A:206(ALA),0,0,0,0,0,0,0,0,0,0,0,0.0466083339643,0.0637312330318\n",
      "gone\n",
      "A:216(PHE),0,0,0,0,0,0,0,0,0,0,0,0.397080638428,0.587223596371\n",
      "gone\n",
      "A:122(VAL),0,0,0,0,0,0,0,0,0,50.5303332564,17.961676356,5.04601343161,7.48029889498\n",
      "[  0.           0.           0.           0.           0.           0.           0.\n",
      "   0.           0.          10.10606665   0.           0.           0.        ]\n",
      "A:332(GLY),0,0,0,0,0,0,0,0,0,0,0,0.103021438145,0.143065493963\n",
      "gone\n",
      "A:205(ARG),0,0,0,0,0,0,0,0,0,0,0,0.0628084096404,0.0844103070973\n",
      "gone\n",
      "A:306(PHE),0,0,0,0,0,2.37144563436,0.847030465867,0,0,51.2788288646,21.8803871252,5.45059968945,8.41508063631\n",
      "[  0.           0.           0.           0.           0.          11.85722817\n",
      "   8.47030466   0.           0.          10.25576577   0.           0.           0.        ]\n",
      "A:107(TRP),0,0,0,0,0,0,0,0,0,0,0,0.154567638284,0.209681436181\n",
      "gone\n",
      "A:209(ILE),0,0,0,0,0,0,0,0,0,0,0,0.195743724316,0.28927844901\n",
      "gone\n",
      "A:121(ASP),0,1.88350571676,0,2.2,1.41951804602,0,0,0,0,28.3303100729,12.090892568,0.595635822518,9.29325725804\n",
      "[  0.           0.           0.          22.          14.19518046   0.           0.\n",
      "   0.           0.           5.66606201   0.           0.           0.        ]\n",
      "A:199(CYS),0,0,0,0,0,0,0,0,0,0,0,0.579829415802,0.914249387142\n",
      "gone\n",
      "A:200(ASP),0,0,0,0,0,0,0,0,0,5.8991132677,3.24537267563,1.92185176304,2.83297922461\n",
      "[ 0.          0.          0.          0.          0.          0.          0.\n",
      "  0.          0.          1.17982265  0.          0.          0.        ]\n",
      "A:329(ASN),0.754761216857,0.773205067623,0.808518466707,0.824253497259,0,0,0,0,0,25.749344844,13.0247836548,6.66772550798,9.68523341892\n",
      "[ 0.          0.          8.08518467  8.24253497  0.          0.          0.\n",
      "  0.          0.          5.14986897  0.          0.          0.        ]\n",
      "A:101(LEU),0,0,0,0,0,0,0,0,0,0.0951967713951,0.0951967713951,0.405458873314,0.619204006203\n",
      "[ 0.          0.          0.          0.          0.          0.          0.\n",
      "  0.          0.          0.01903935  0.          0.          0.        ]\n",
      "A:307(PHE),0,0,0,0,0,2,0,0,0,31.1239385215,16.1408625337,4.24179135648,6.34103947132\n",
      "[  0.          0.          0.          0.          0.         10.          0.\n",
      "   0.          0.          6.2247877   0.          0.          0.       ]\n",
      "A:114(CYS),0,0,0,0,0,0,0,0,0,0,0,0.132190215677,0.187807459716\n",
      "gone\n",
      "A:95(VAL),0,0,0,0,0,0,0,0,0,0,0,0.0770886761929,0.10245700796\n",
      "gone\n",
      "A:117(TRP),0,0,0,0,0,0.927223906747,1.3409194169,0,0,45.9330446253,17.7293830382,3.52118607594,6.32582400907\n",
      "[  0.           0.           0.           0.           0.           4.63611953\n",
      "  13.40919417   0.           0.           9.18660893   0.           0.           0.        ]\n",
      "A:330(TRP),0,0,0,0,0,0.885854036724,0,0,0,3.9994942305,1.69987135615,1.42538500284,2.2678661454\n",
      "[ 0.          0.          0.          0.          0.          4.42927018\n",
      "  0.          0.          0.          0.79989885  0.          0.          0.        ]\n",
      "A:201(PHE),0,0,0,0,0,2.14273423894,1,0,0,96.3418005452,33.7625051011,8.56104506711,13.1494316946\n",
      "[  0.           0.           0.           0.           0.          10.71367119\n",
      "  10.           0.           0.          19.26836011   0.           0.           0.        ]\n",
      "A:328(PHE),0,0,0,0,0,0,0,0,0,0,0,0.234585266688,0.32814908746\n",
      "gone\n",
      "A:217(TYR),0,0,0,0,0,0,0,0,0,0,0,0.113264290246,0.151349810715\n",
      "gone\n",
      "A:299(PHE),0,0,0,0,0,0,0,0,0,0,0,0.0525861505092,0.0677129577295\n",
      "gone\n",
      "A:211(SER),0,0.767304087638,0,0.853625259958,0,0,0,0,0,4.36208283291,2.96430600642,2.87841218587,4.55995490081\n",
      "[ 0.          0.          0.          8.5362526   0.          0.          0.\n",
      "  0.          0.          0.87241657  0.          0.          0.        ]\n",
      "A:173(SER),0,0,0,0,0,0,0,0,0,0,0,0.136588417003,0.191286116134\n",
      "gone\n",
      "A:333(TYR),0,0.14982326883,0,0.0,0,0.585491065474,0.86488538904,0,0,8.7633829499,4.13325967474,3.07658672709,4.83577427437\n",
      "[ 0.          0.          0.          0.          0.          2.92745533\n",
      "  8.64885389  0.          0.          1.75267659  0.          0.          0.        ]\n",
      "A:327(ALA),0,0,0,0,0,0,0,0,0,0,0,0.16984940417,0.251643828475\n",
      "gone\n",
      "A:214(ILE),0,0,0,0,0,0,0,0,0,0,0,0.115394952538,0.161113436762\n",
      "gone\n",
      "A:310(ASN),0.839997286266,0,1,0,0,0,0,0,0,4.69273662693,3.89011748702,1.91594336469,4.19578592235\n",
      "[  0.           0.          10.           0.           0.           0.           0.\n",
      "   0.           0.           0.93854733   0.           0.           0.        ]\n",
      "A:303(TRP),0,0,0,0,0,0.533006917832,0,0,0,4.49471340344,2.25933038712,1.57577464923,2.46037383207\n",
      "[ 0.          0.          0.          0.          0.          2.66503459\n",
      "  0.          0.          0.          0.89894268  0.          0.          0.        ]\n",
      "A:213(ILE),0,0,0,0,0,0,0,0,0,0,0,0.103076506137,0.14337718083\n",
      "gone\n",
      "A:311(ILE),0,0,0,0,0,0,0,0,0,0,0,0.124992436721,0.172580798441\n",
      "gone\n",
      "A:321(PRO),0,0,0,0,0,0,0,0,0,0,0,0.0213980276117,0.0275642381112\n",
      "gone\n",
      "A:331(LEU),0,0,0,0,0,0,0,0,0,0,0,0.0708137063189,0.0926533174983\n",
      "gone\n",
      "A:208(ALA),0,0,0,0,0,0,0,0,0,3.77142267764,2.14942410361,1.5440163703,2.41277278488\n",
      "[ 0.          0.          0.          0.          0.          0.          0.\n",
      "  0.          0.          0.75428454  0.          0.          0.        ]\n",
      "A:90(VAL),0,0,0,0,0,0,0,0,0,0,0,0.060386498814,0.0788352527039\n",
      "gone\n",
      "A:207(TYR),0,0,0,0,0,1.22846108169,0,0,0,7.86250562523,4.22617448272,2.65740565543,4.21067846114\n",
      "[ 0.          0.          0.          0.          0.          6.14230541\n",
      "  0.          0.          0.          1.57250113  0.          0.          0.        ]\n",
      "A:115(GLU),0,0,0,0,0,0,0,0,0,0,0,0.0815434496512,0.109834992661\n",
      "gone\n",
      "A:204(ASN),0,0,0,0,0,0,0,0,0,0,0,0.0957575289794,0.133305219205\n",
      "gone\n",
      "A:172(VAL),0,0,0,0,0,0,0,0,0,0,0,0.109397278208,0.153135305742\n",
      "gone\n",
      "A:326(VAL),0,0,0,0,0,0,0,0,0,32.816936942,8.27707627921,3.1811422007,4.78790836825\n",
      "[ 0.          0.          0.          0.          0.          0.          0.\n",
      "  0.          0.          6.56338739  0.          0.          0.        ]\n",
      "A:120(LEU),0,0,0,0,0,0,0,0,0,0,0,0.189134183636,0.265119837376\n",
      "gone\n",
      "A:119(SER),0,0,0,0,0,0,0,0,0,0,0,0.231612044808,0.336445761129\n",
      "gone\n",
      "A:129(ILE),0,0,0,0,0,0,0,0,0,0,0,0.0433249846687,0.0565951445778\n",
      "gone\n",
      "A:203(THR),0,0,0,0,0,0,0,0,0,4.7782565523,1.62848304756,0.952693157285,1.56258471648\n",
      "[ 0.          0.          0.          0.          0.          0.          0.\n",
      "  0.          0.          0.95565131  0.          0.          0.        ]\n",
      "A:99(ALA),0,0,0,0,0,0,0,0,0,0,0,0.040116330095,0.0534013026264\n",
      "gone\n",
      "A:118(THR),0,0,0,0,0,0,0,0,0,27.3361065311,5.324954719,2.58472755234,3.90096844352\n",
      "[ 0.          0.          0.          0.          0.          0.          0.\n",
      "  0.          0.          5.46722131  0.          0.          0.        ]\n",
      "A:324(LEU),0,0,0,0,0,0,0,0,0,0,0,0.0797046321615,0.110446393084\n",
      "gone\n",
      "A:215(SER),0,0.728060546119,0,0.906898951215,0,0,0,0,0,1.19852341619,0.891611195163,0.999146573093,2.00561452588\n",
      "[ 0.          0.          0.          9.06898951  0.          0.          0.\n",
      "  0.          0.          0.23970468  0.          0.          0.        ]\n",
      "A:127(ALA),0,0,0,0,0,0,0,0,0,0,0,0.0261106898187,0.0340136750599\n",
      "gone\n",
      "A:182(TRP),0,0,0,0,0,0,0,0,0,0,0,0.290106371174,0.395811497892\n",
      "gone\n",
      "A:202(VAL),0,0,0,0,0,0,0,0,0,0,0,0.268833788212,0.381070108664\n",
      "gone\n",
      "A:323(TRP),0,0,0,0,0,0,0,0,0,0,0,0.0890050197366,0.122543678041\n",
      "gone\n",
      "A:125(VAL),0,0,0,0,0,0,0,0,0,19.6400058246,4.45994839785,1.60507941877,2.46031233477\n",
      "[ 0.          0.          0.          0.          0.          0.          0.\n",
      "  0.          0.          3.92800116  0.          0.          0.        ]\n",
      "A:212(SER),0,0,0,0,0,0,0,0,0,0.62470317085,0.412065018154,1.38831359167,2.37859725683\n",
      "[ 0.          0.          0.          0.          0.          0.          0.\n",
      "  0.          0.          0.12494063  0.          0.          0.        ]\n",
      "A:97(PHE),0,0,0,0,0,0,0,0,0,0,0,0.108921456394,0.14649419182\n",
      "gone\n",
      "A:124(CYS),0,0,0,0,0,0,0,0,0,0,0,0.130469784191,0.181324847289\n",
      "gone\n",
      "A:98(GLY),0,0,0,0,0,0,0,0,0,0,0,0.181420078191,0.269918317683\n",
      "gone\n",
      "A:126(THR),0,0,0,0,0,0,0,0,0,0,0,0.320163978451,0.496792903572\n",
      "gone\n",
      "A:210(ALA),0,0,0,0,0,0,0,0,0,0,0,0.135036636018,0.19559706423\n",
      "gone\n",
      "A:94(VAL),0,0,0,0,0,0,0,0,0,0,0,0.276161321673,0.399335749092\n",
      "gone\n",
      "A:116(LEU),0,0,0,0,0,0,0,0,0,0,0,0.0610476777835,0.0811848783988\n",
      "gone\n",
      "A:314(VAL),0,0,0,0,0,0,0,0,0,0,0,0.0537848887165,0.0723428084287\n",
      "gone\n",
      "A:309(VAL),0,0,0,0,0,0,0,0,0,0,0,0.10649180129,0.142717283843\n",
      "gone\n",
      "A:325(PHE),0,0,0,0,0,0.338141242341,0,0,0,27.5554070346,7.20551916079,2.73830393051,4.23284565467\n",
      "[ 0.          0.          0.          0.          0.          1.69070621\n",
      "  0.          0.          0.          5.51108141  0.          0.          0.        ]\n",
      "A:123(LEU),0,0,0,0,0,0,0,0,0,0,0,0.202633217937,0.291111712595\n",
      "gone\n",
      "A:313(ASN),0,0,0,0,0,0,0,0,0,0,0,0.091898355627,0.124173465523\n",
      "gone\n",
      "A:177(ILE),0,0,0,0,0,0,0,0,0,0,0,0.239193750321,0.339898967096\n",
      "gone\n",
      "A:102(VAL),0,0,0,0,0,0,0,0,0,0,0,0.134595917607,0.192222846984\n",
      "gone\n",
      "A:322(ASP),0,0,0,0,0,0,0,0,0,0,0,0.217493984457,0.331503716143\n",
      "gone\n"
     ]
    }
   ],
   "source": [
    "def parse_fp(fp, w):\n",
    "    fp_dict = {}\n",
    "    for i in fp.split(';'):\n",
    "        fp_prod = np.multiply(w, [float(j) for j in i.split(',')[1:]])\n",
    "        if any(fp_prod):\n",
    "            fp_dict[i.split(',')[0]] = fp_prod\n",
    "    return fp_dict\n",
    "    #return {i.split(',')[0]:np.multiply(w, [float(j) for j in i.split(',')[1:]]) for i in fp.split(';')}\n",
    "\n",
    "with open('/scratch/PI/rondror/docking_data/B1AR_all/ifp/xcrystal8/2Y02.fp', 'r') as f:\n",
    "    for line in f:\n",
    "        fp = parse_fp(line, w)\n",
    "        line = line.strip().split(';')\n",
    "        print len(line), len(fp)\n",
    "        for aa in line:\n",
    "            print aa\n",
    "            print fp.get(aa.split(',')[0],'gone')"
   ]
  },
  {
   "cell_type": "code",
   "execution_count": null,
   "metadata": {
    "collapsed": true
   },
   "outputs": [],
   "source": []
  }
 ],
 "metadata": {
  "anaconda-cloud": {},
  "kernelspec": {
   "display_name": "Python 2",
   "language": "python",
   "name": "python2"
  },
  "language_info": {
   "codemirror_mode": {
    "name": "ipython",
    "version": 2
   },
   "file_extension": ".py",
   "mimetype": "text/x-python",
   "name": "python",
   "nbconvert_exporter": "python",
   "pygments_lexer": "ipython2",
   "version": "2.7.11"
  }
 },
 "nbformat": 4,
 "nbformat_minor": 1
}
