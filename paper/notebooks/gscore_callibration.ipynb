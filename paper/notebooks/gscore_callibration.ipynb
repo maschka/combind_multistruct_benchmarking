{
 "cells": [
  {
   "cell_type": "code",
   "execution_count": 3,
   "metadata": {
    "scrolled": true
   },
   "outputs": [
    {
     "name": "stderr",
     "output_type": "stream",
     "text": [
      "/Users/jpaggi/sherlock/combind_code/schrodinger_local.ve/lib/python3.6/site-packages/pandas/compat/__init__.py:85: UserWarning: Could not import the lzma module. Your installed Python is incomplete. Attempting to use lzma compression will result in a RuntimeError.\n",
      "  warnings.warn(msg)\n",
      "/Users/jpaggi/sherlock/combind_code/schrodinger_local.ve/lib/python3.6/site-packages/pandas/compat/__init__.py:85: UserWarning: Could not import the lzma module. Your installed Python is incomplete. Attempting to use lzma compression will result in a RuntimeError.\n",
      "  warnings.warn(msg)\n"
     ]
    }
   ],
   "source": [
    "import sys\n",
    "import numpy as np\n",
    "sys.path.append('../../')\n",
    "from settings import paths, stats\n",
    "from utils import get_proteins\n",
    "from containers import Protein\n",
    "\n",
    "import matplotlib.pyplot as plt\n",
    "%matplotlib inline"
   ]
  },
  {
   "cell_type": "code",
   "execution_count": 4,
   "metadata": {
    "scrolled": true
   },
   "outputs": [
    {
     "name": "stdout",
     "output_type": "stream",
     "text": [
      "/Users/jpaggi/sherlock/oak/users/jpaggi/combind/B2AR/structures/pdb.csv\n",
      "['3D4S_lig', '3NY8_lig', '3NY9_lig', '3NYA_lig', '3P0G_lig', '4LDL_lig', '4LDO_lig']\n",
      "/Users/jpaggi/sherlock/oak/users/jpaggi/combind/Q05586-Q12879/structures/pdb.csv\n",
      "['5H8N_lig', '5H8Q_lig', '5I2K_lig', '5I2N_lig', '5KCJ_lig', '5KDT_lig', '5TP9_lig', '5TPA_lig']\n",
      "/Users/jpaggi/sherlock/oak/users/jpaggi/combind/B1AR/structures/pdb.csv\n",
      "['2Y00_lig', '2Y02_lig', '2Y03_lig', '2Y04_lig', '2YCW_lig', '2YCZ_lig', '3ZPQ_lig', '3ZPR_lig', '4AMI_lig', '4AMJ_lig', '5A8E_lig']\n",
      "/Users/jpaggi/sherlock/oak/users/jpaggi/combind/DAT/structures/pdb.csv\n",
      "['4XNU_lig', '4XNX_lig', '4XP1_lig', '4XP4_lig', '4XP5_lig', '4XP6_lig', '4XP9_lig', '4XPA_lig']\n",
      "/Users/jpaggi/sherlock/oak/users/jpaggi/combind/PLAU/structures/pdb.csv\n",
      "['1C5Y_lig', '1C5Z_lig', '1EJN_lig', '1F5L_lig', '1GI7_lig', '1GJ7_lig', '1GJ8_lig', '1GJA_lig', '1GJC_lig', '1GJD_lig', '1O3P_lig', '1O5A_lig', '1O5C_lig', '1OWE_lig', '1OWH_lig', '1SQA_lig', '1SQO_lig', '1SQT_lig', '1W0Z_lig', '1W11_lig']\n",
      "/Users/jpaggi/sherlock/oak/users/jpaggi/combind/PTPN1/structures/pdb.csv\n",
      "['1BZJ_lig', '1C83_lig', '1C84_lig', '1C86_lig', '1C88_lig', '1ECV_lig', '1G7F_lig', '1G7G_lig', '1GFY_lig', '1KAV_lig', '1L8G_lig', '1NL9_lig', '1NNY_lig', '1NO6_lig', '1NWL_lig', '1NZ7_lig', '1ONY_lig', '1ONZ_lig', '1PYN_lig', '1QXK_lig']\n",
      "/Users/jpaggi/sherlock/oak/users/jpaggi/combind/BACE1/structures/pdb.csv\n",
      "['1M4H_lig', '2FDP_lig', '2G94_lig', '2P4J_lig', '2QMG_lig', '2VKM_lig', '3BRA_lig', '3BUF_lig', '3BUG_lig', '3BUH_lig', '3CKP_lig', '3I25_lig', '3KMX_lig', '3KMY_lig', '3L59_lig', '3LPI_lig', '3LPK_lig', '3RSX_lig', '3RU1_lig', '3UDH_lig']\n",
      "/Users/jpaggi/sherlock/oak/users/jpaggi/combind/F10/structures/pdb.csv\n",
      "['1F0R_lig', '1F0S_lig', '1FJS_lig', '1G2L_lig', '1KSN_lig', '1LPG_lig', '1LPK_lig', '1LPZ_lig', '1MQ5_lig', '1MQ6_lig', '1NFU_lig', '1NFW_lig', '1NFX_lig', '1NFY_lig', '1XKA_lig', '1Z6E_lig', '2BOH_lig', '2BOK_lig', '2BQ7_lig', '2J2U_lig']\n",
      "/Users/jpaggi/sherlock/oak/users/jpaggi/combind/SIGMAR1/structures/pdb.csv\n",
      "['5HK2_lig', '6DJZ_lig', '6DK0_lig', '6DK1_lig']\n",
      "/Users/jpaggi/sherlock/oak/users/jpaggi/combind/MGLUR5/structures/pdb.csv\n",
      "['5CGC_lig', '5CGD_lig', '6FFH_lig', '6FFI_lig']\n",
      "/Users/jpaggi/sherlock/oak/users/jpaggi/combind/ELANE/structures/pdb.csv\n",
      "['5A09_lig', '5A0A_lig', '5A0B_lig', '5A0C_lig', '5A8X_lig', '5A8Y_lig', '5A8Z_lig', '5ABW_lig']\n",
      "/Users/jpaggi/sherlock/oak/users/jpaggi/combind/5HT2B/structures/pdb.csv\n",
      "['5TVN_lig', '6DRX_lig', '6DRY_lig', '6DRZ_lig', '6DS0_lig']\n",
      "/Users/jpaggi/sherlock/oak/users/jpaggi/combind/DHFR/structures/pdb.csv\n",
      "['1DLR_lig', '1DLS_lig', '1HFP_lig', '1KMS_lig', '1KMV_lig', '1OHJ_lig', '1PD8_lig', '2W3A_lig', '3GHC_lig', '3GHW_lig', '3GYF_lig', '3NTZ_lig', '3NU0_lig', '3NXO_lig', '3NXR_lig', '3NXT_lig', '3NXV_lig', '3NXY_lig', '4DDR_lig', '4KAK_lig']\n",
      "/Users/jpaggi/sherlock/oak/users/jpaggi/combind/SMO/structures/pdb.csv\n",
      "['4N4W_lig', '4QIM_lig', '5L7I_lig', '5V57_lig']\n",
      "/Users/jpaggi/sherlock/oak/users/jpaggi/combind/BRD4/structures/pdb.csv\n",
      "['3P5O_lig', '3U5J_lig', '3U5L_lig', '3ZYU_lig', '4LYW_lig', '4LZR_lig', '4LZS_lig', '4MR3_lig', '4NUC_lig', '4NUE_lig', '4OGJ_lig', '4QB3_lig', '4WIV_lig', '4XYA_lig', '4Z93_lig', '5ACY_lig']\n",
      "/Users/jpaggi/sherlock/oak/users/jpaggi/combind/P00760/structures/pdb.csv\n",
      "['1BJV_lig', '1BTY_lig', '1C1R_lig', '1C5Q_lig', '1C5S_lig', '1C5T_lig', '1EB2_lig', '1F0T_lig', '1F0U_lig', '1G36_lig', '1G3D_lig', '1G3E_lig', '1GHZ_lig', '1GI1_lig', '1GJ6_lig', '1K1I_lig', '1K1J_lig', '1K1L_lig', '1K1M_lig', '1K1N_lig']\n",
      "/Users/jpaggi/sherlock/oak/users/jpaggi/combind/CDK2/structures/pdb.csv\n",
      "['1CKP_lig', '1DI8_lig', '1DM2_lig', '1E1V_lig', '1E1X_lig', '1E9H_lig', '1FIN_lig', '1FVT_lig', '1FVV_lig', '1G5S_lig', '1GIH_lig', '1GIJ_lig', '1GZ8_lig', '1H0V_lig', '1H1Q_lig', '1H1R_lig', '1H1S_lig', '1JSV_lig', '1JVP_lig', '1KE5_lig']\n",
      "/Users/jpaggi/sherlock/oak/users/jpaggi/combind/NR3C2/structures/pdb.csv\n",
      "['2A3I_lig', '2AA2_lig', '2AA5_lig', '2AA7_lig', '3VHV_lig', '3WFG_lig', '4PF3_lig', '5HCV_lig', '5L7E_lig', '5L7G_lig', '5MWP_lig', '5MWY_lig']\n",
      "/Users/jpaggi/sherlock/oak/users/jpaggi/combind/P19491/structures/pdb.csv\n",
      "['1M5B_lig', '1M5C_lig', '1M5E_lig', '1MQD_lig', '1MQG_lig', '1MQH_lig', '1MQI_lig', '1MQJ_lig', '1N0T_lig', '1SYH_lig', '1WVJ_lig', '2P2A_lig', '3BFT_lig', '3H03_lig', '3H06_lig']\n",
      "/Users/jpaggi/sherlock/oak/users/jpaggi/combind/GLUT1/structures/pdb.csv\n",
      "['5EQH_lig', '5EQI_lig']\n",
      "/Users/jpaggi/sherlock/oak/users/jpaggi/combind/VDR/structures/pdb.csv\n",
      "['1IE8_lig', '1S0Z_lig', '1S19_lig', '1TXI_lig', '2HAM_lig', '2HAR_lig', '2HAS_lig', '2HB7_lig', '2HB8_lig', '3A2I_lig', '3A3Z_lig', '3A40_lig', '3A78_lig', '3AUQ_lig', '3AX8_lig', '3AZ1_lig', '3AZ2_lig', '3AZ3_lig', '3B0T_lig', '3CS4_lig']\n",
      "/Users/jpaggi/sherlock/oak/users/jpaggi/combind/PDE10A/structures/pdb.csv\n",
      "['3UUO_lig', '4DFF_lig', '4HF4_lig', '4LKQ_lig', '4LLJ_lig', '4LLK_lig', '4LLP_lig', '4LLX_lig', '4LM0_lig', '4LM1_lig', '4LM2_lig', '4LM3_lig', '4LM4_lig', '4MRW_lig', '4MRZ_lig', '4MSA_lig', '4MSC_lig', '4MSN_lig', '4ZO5_lig', '5C1W_lig']\n",
      "/Users/jpaggi/sherlock/oak/users/jpaggi/combind/PYGM/structures/pdb.csv\n",
      "['2G9Q_lig', '2PYI_lig', '2QRG_lig', '2QRH_lig', '2QRM_lig', '2QRP_lig', '2QRQ_lig', '3G2H_lig', '3G2I_lig', '3G2J_lig', '3G2K_lig', '3G2L_lig', '3G2N_lig', '3L79_lig', '3L7A_lig', '3L7B_lig', '3L7C_lig', '3L7D_lig', '3SYM_lig', '3SYR_lig']\n",
      "/Users/jpaggi/sherlock/oak/users/jpaggi/combind/NR3C1/structures/pdb.csv\n",
      "['1P93_lig', '3CLD_lig', '3E7C_lig', '3K22_lig', '4CSJ_lig', '4MDD_lig', '4P6W_lig', '4P6X_lig', '4UDD_lig', '5G3J_lig', '5G5W_lig', '5NFP_lig', '5NFT_lig', '6EL6_lig', '6EL7_lig', '6EL9_lig']\n",
      "/Users/jpaggi/sherlock/oak/users/jpaggi/combind/SLC6A4/structures/pdb.csv\n",
      "['5I71_lig', '5I74_lig', '6AWO_lig', '6AWP_lig']\n",
      "/Users/jpaggi/sherlock/oak/users/jpaggi/combind/F2/structures/pdb.csv\n",
      "['1BCU_lig', '1BHX_lig', '1C1U_lig', '1C1V_lig', '1C4U_lig', '1C5N_lig', '1C5O_lig', '1D3D_lig', '1D3P_lig', '1D4P_lig', '1D6W_lig', '1D9I_lig', '1FPC_lig', '1G30_lig', '1G32_lig', '1GHV_lig', '1GHW_lig', '1GHY_lig', '1K21_lig', '1K22_lig']\n",
      "/Users/jpaggi/sherlock/oak/users/jpaggi/combind/AR/structures/pdb.csv\n",
      "['1E3G_lig', '1T5Z_lig', '2AM9_lig', '2AMB_lig', '2AX9_lig', '2HVC_lig', '3B5R_lig', '3B65_lig', '3B66_lig', '3B67_lig', '3B68_lig', '3RLJ_lig', '3V49_lig', '3V4A_lig', '4QL8_lig', '5CJ6_lig', '5T8E_lig', '5T8J_lig', '5V8Q_lig']\n",
      "/Users/jpaggi/sherlock/oak/users/jpaggi/combind/ERA/structures/pdb.csv\n",
      "['1ERR_lig', '1GWQ_lig', '1L2I_lig', '1R5K_lig', '1SJ0_lig', '1UOM_lig', '1X7E_lig', '1X7R_lig', '1XP1_lig', '1XP6_lig', '1XP9_lig', '1XPC_lig', '1XQC_lig', '1YIM_lig', '1YIN_lig', '1ZKY_lig', '2AYR_lig', '2B1V_lig', '2B1Z_lig', '2FAI_lig']\n",
      "/Users/jpaggi/sherlock/oak/users/jpaggi/combind/HSP90AA1/structures/pdb.csv\n",
      "['1YC4_lig', '1YET_lig', '2QFO_lig', '2QG0_lig', '2QG2_lig', '2UWD_lig', '2XAB_lig', '2XDK_lig', '2XDL_lig', '2XDX_lig', '2XHT_lig', '2XJG_lig', '2XJJ_lig', '2XJX_lig', '2YI0_lig', '2YI7_lig', '2YKI_lig', '3B24_lig', '3B25_lig', '3B26_lig']\n",
      "/Users/jpaggi/sherlock/oak/users/jpaggi/combind/P22756/structures/pdb.csv\n",
      "['2F34_lig', '2F35_lig', '2PBW_lig', '2QS1_lig', '2QS2_lig', '2QS3_lig', '2QS4_lig', '2WKY_lig', '3GBA_lig', '3GBB_lig', '3S2V_lig', '4QF9_lig', '4YMB_lig', '5M2V_lig', '5NEB_lig', '5NF5_lig', '6FZ4_lig', '6SBT_lig']\n"
     ]
    },
    {
     "data": {
      "text/plain": [
       "37874"
      ]
     },
     "execution_count": 4,
     "metadata": {},
     "output_type": "execute_result"
    }
   ],
   "source": [
    "_paths = {}\n",
    "for k, v in paths.items():\n",
    "    _paths[k] = v.replace('/oak/stanford/groups/rondror', '/Users/jpaggi/sherlock/oak')\n",
    "paths = _paths\n",
    "\n",
    "rmsds, gscores = [], []\n",
    "for protein in get_proteins(paths, []):\n",
    "    prot = Protein(protein, stats['stats104'], paths)\n",
    "    ligands = prot.lm.get_xdocked_ligands(20)\n",
    "    print(prot.lm.path('PDB'))\n",
    "    print(ligands)\n",
    "    prot.load_docking(ligands)\n",
    "    for ligand in ligands:\n",
    "        for pose in prot.docking[prot.lm.st][ligand].poses[:100]:\n",
    "            rmsds += [pose.rmsd]\n",
    "            gscores += [pose.gscore]\n",
    "rmsds, gscores = np.array(rmsds), np.array(gscores)\n",
    "len(gscores)"
   ]
  },
  {
   "cell_type": "code",
   "execution_count": 5,
   "metadata": {},
   "outputs": [
    {
     "data": {
      "text/plain": [
       "(array([[-0.8828839]]), array([-7.46918161]))"
      ]
     },
     "execution_count": 5,
     "metadata": {},
     "output_type": "execute_result"
    }
   ],
   "source": [
    "from sklearn.linear_model import LogisticRegression\n",
    "\n",
    "lr = LogisticRegression().fit(gscores.reshape(-1, 1), rmsds < 2.0)\n",
    "lr.coef_, lr.intercept_"
   ]
  },
  {
   "cell_type": "code",
   "execution_count": 44,
   "metadata": {},
   "outputs": [
    {
     "data": {
      "image/png": "[encoded data removed]",
      "text/plain": [
       "<Figure size 316.8x288 with 1 Axes>"
      ]
     },
     "metadata": {
      "needs_background": "light"
     },
     "output_type": "display_data"
    }
   ],
   "source": [
    "sorted_rmsds = rmsds[gscores.argsort()]\n",
    "sorted_gscores = gscores[gscores.argsort()]\n",
    "\n",
    "N = 100\n",
    "x, y = [], []\n",
    "for i in range(0, len(sorted_gscores), N):\n",
    "    _x = sorted_gscores[i:i+N]\n",
    "    _y = sorted_rmsds[i:i+N] < 2.0\n",
    "    x += [_x.mean()]\n",
    "    y += [- np.log((1+(_y == 1).sum()) / (1+(_y == 0).sum()))]\n",
    "\n",
    "plt.figure(figsize = (4.4, 4))\n",
    "plt.scatter(x, y, alpha = 0.25, s = 30)\n",
    "\n",
    "x = np.linspace(x[0], x[-1]-1, 100)\n",
    "y = -lr.coef_[0][0] * x - lr.intercept_[0]\n",
    "plt.plot(x, y, c = 'r')\n",
    "\n",
    "plt.xlim(-15, 0)\n",
    "\n",
    "plt.text(-15, 4, r'$y = {}x {}$'.format(round(-lr.coef_[0][0], 1), round(+lr.intercept_[0], 1)),\n",
    "         fontsize=16, c = 'r')\n",
    "plt.yticks(plt.yticks()[0][::2], size = 16)\n",
    "plt.xticks(plt.xticks()[0][::2], size = 16)\n",
    "plt.ylabel('– Log Likelihood Ratio', size=20)\n",
    "plt.xlabel('Glide Score', size=20)\n",
    "plt.tight_layout()\n",
    "plt.savefig('../../pymol/figures/gscore_callibration.pdf')\n",
    "plt.show()"
   ]
  },
  {
   "cell_type": "code",
   "execution_count": null,
   "metadata": {},
   "outputs": [],
   "source": []
  }
 ],
 "metadata": {
  "kernelspec": {
   "display_name": "Python 3",
   "language": "python",
   "name": "python3"
  },
  "language_info": {
   "codemirror_mode": {
    "name": "ipython",
    "version": 3
   },
   "file_extension": ".py",
   "mimetype": "text/x-python",
   "name": "python",
   "nbconvert_exporter": "python",
   "pygments_lexer": "ipython3",
   "version": "3.6.2"
  }
 },
 "nbformat": 4,
 "nbformat_minor": 4
}
